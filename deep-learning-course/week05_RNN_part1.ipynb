{
  "nbformat": 4,
  "nbformat_minor": 0,
  "metadata": {
    "colab": {
      "name": "Copy of RecurrentNeuralNetwork.ipynb",
      "version": "0.3.2",
      "provenance": [],
      "collapsed_sections": [],
      "include_colab_link": true
    },
    "kernelspec": {
      "name": "python2",
      "display_name": "Python 2"
    }
  },
  "cells": [
    {
      "cell_type": "markdown",
      "metadata": {
        "id": "view-in-github",
        "colab_type": "text"
      },
      "source": [
        "<a href=\"https://colab.research.google.com/github/MatchLab-Imperial/deep-learning-course/blob/master/week05_RNN_part1.ipynb\" target=\"_parent\"><img src=\"https://colab.research.google.com/assets/colab-badge.svg\" alt=\"Open In Colab\"/></a>"
      ]
    },
    {
      "metadata": {
        "id": "2flbv7yC2YKr",
        "colab_type": "text"
      },
      "cell_type": "markdown",
      "source": [
        "# Introduction\n",
        "In this tutorial, we will see how to implement in Keras different topologies of RNNs architectures such as One to Many, Many to One and Many to Many, exploring many practical applications ranging from image captioning to sentiment analysis and machine translation.\n",
        "\n",
        "\n",
        "![alt text](https://drive.google.com/uc?id=1fANRkPIIbCjhSyo6gnLKrfpcbLxQYLm6)"
      ]
    },
    {
      "metadata": {
        "id": "zZZdgtxh-uSq",
        "colab_type": "text"
      },
      "cell_type": "markdown",
      "source": [
        "**One to One Vanilla Recurrent Neural Network.**\n",
        "\n",
        "This is the most simple version of RNNs, which can be easily derived from a simple feedforward architecture by adding a single loop as in the illustration below. During the training, the hidden state $h$ is iteratively updated based on the input value $x$ and learned weights $W_h$ and, finally, the output $y$ is estimated from the current state $h_t$ and the matrix s $W_y$. The weights matrices $W_h$ and  $W_y$ are trained end-to-end with backpropagation.\n",
        "![alt text](https://drive.google.com/uc?id=1oFOm5S6czs3vymPMMcRTFtAmJu0nFpJE)\n",
        "\n"
      ]
    },
    {
      "metadata": {
        "id": "AEAjP_rh9QKC",
        "colab_type": "text"
      },
      "cell_type": "markdown",
      "source": [
        "Unfortunately, RNN suffers from the vanishing gradient problem, that means the hidden state is updated again and again and the final value may overflow resulting in NaN values. To overcome this limitation, in practical applications LSTM unit is adopted, that is a special RNNs architecture composed of a cell, an input gate, an output gate and a forget gate. There are many articles online and official papers, explaining how LSTM in particular works. In this tutorial, we will use it straight away as a  black box."
      ]
    },
    {
      "metadata": {
        "id": "ZkoPUcMi1PWq",
        "colab_type": "text"
      },
      "cell_type": "markdown",
      "source": [
        "# **One-to-One RNNs - Regression**\n",
        "This is a toy example explaining how to implement a simple RNNs model in Keras. Given a record of a local newspaper, indicating for each month the number of new subscriptions, we want to predict the number of members will joint next month. In this example, we assume that at each time the number of members depends on the number of members who joined the previous month. "
      ]
    },
    {
      "metadata": {
        "id": "K91g5q8rr0d6",
        "colab_type": "text"
      },
      "cell_type": "markdown",
      "source": [
        "First, we load the data with the utility method in Pandas \"read_csv\", which allows the operation directly from the data URL. In addition, we visualize some rows of the imported record too see the format of the data.\n"
      ]
    },
    {
      "metadata": {
        "id": "7WRMhCVFIu0E",
        "colab_type": "code",
        "outputId": "d09ba93d-1664-4aa3-caac-7e2c9d6e82df",
        "colab": {
          "base_uri": "https://localhost:8080/",
          "height": 204
        }
      },
      "cell_type": "code",
      "source": [
        "import math\n",
        "import numpy as np\n",
        "import pandas as pd\n",
        "import matplotlib.pyplot as plt\n",
        "from IPython.display import SVG\n",
        "from keras.utils.vis_utils import model_to_dot\n",
        "import io\n",
        "import requests\n",
        "data=pd.read_csv(\"https://drive.google.com/uc?id=1Hv2nuwVXO_aZN89llGva0hSH6k3kKAVm\",usecols=[1],engine = \"python\")\n",
        "data.head()"
      ],
      "execution_count": 0,
      "outputs": [
        {
          "output_type": "execute_result",
          "data": {
            "text/html": [
              "<div>\n",
              "<style scoped>\n",
              "    .dataframe tbody tr th:only-of-type {\n",
              "        vertical-align: middle;\n",
              "    }\n",
              "\n",
              "    .dataframe tbody tr th {\n",
              "        vertical-align: top;\n",
              "    }\n",
              "\n",
              "    .dataframe thead th {\n",
              "        text-align: right;\n",
              "    }\n",
              "</style>\n",
              "<table border=\"1\" class=\"dataframe\">\n",
              "  <thead>\n",
              "    <tr style=\"text-align: right;\">\n",
              "      <th></th>\n",
              "      <th>Number of subscriptions to city newspaper</th>\n",
              "    </tr>\n",
              "  </thead>\n",
              "  <tbody>\n",
              "    <tr>\n",
              "      <th>0</th>\n",
              "      <td>112</td>\n",
              "    </tr>\n",
              "    <tr>\n",
              "      <th>1</th>\n",
              "      <td>118</td>\n",
              "    </tr>\n",
              "    <tr>\n",
              "      <th>2</th>\n",
              "      <td>132</td>\n",
              "    </tr>\n",
              "    <tr>\n",
              "      <th>3</th>\n",
              "      <td>129</td>\n",
              "    </tr>\n",
              "    <tr>\n",
              "      <th>4</th>\n",
              "      <td>121</td>\n",
              "    </tr>\n",
              "  </tbody>\n",
              "</table>\n",
              "</div>"
            ],
            "text/plain": [
              "   Number of subscriptions to city newspaper\n",
              "0                                        112\n",
              "1                                        118\n",
              "2                                        132\n",
              "3                                        129\n",
              "4                                        121"
            ]
          },
          "metadata": {
            "tags": []
          },
          "execution_count": 3
        }
      ]
    },
    {
      "metadata": {
        "id": "7BXXama7tvcT",
        "colab_type": "text"
      },
      "cell_type": "markdown",
      "source": [
        "For a best understanding of the data,  we plot the data as a graph with matplolib routines.\n",
        "\n",
        "\n",
        "---\n",
        "\n",
        "\n",
        "\n"
      ]
    },
    {
      "metadata": {
        "id": "cT8-WBHzNLPd",
        "colab_type": "code",
        "outputId": "1c782430-ce83-49d0-bca2-a2249ec04fa4",
        "colab": {
          "base_uri": "https://localhost:8080/",
          "height": 349
        }
      },
      "cell_type": "code",
      "source": [
        "plt.figure(figsize = (15, 5))\n",
        "plt.plot(data, label = \"City Newspaper Subscriptions\")\n",
        "plt.xlabel(\"Months\")\n",
        "plt.ylabel(\"1000 Subscriptions\")\n",
        "plt.title(\"Monthly Total Subscriptions to City Newspaper 1949 - 1960\")\n",
        "plt.legend()\n",
        "plt.show()"
      ],
      "execution_count": 0,
      "outputs": [
        {
          "output_type": "display_data",
          "data": {
            "image/png": "[encoded data removed]",
            "text/plain": [
              "<Figure size 1080x360 with 1 Axes>"
            ]
          },
          "metadata": {
            "tags": []
          }
        }
      ]
    },
    {
      "metadata": {
        "id": "gFOiuFeTuGk3",
        "colab_type": "text"
      },
      "cell_type": "markdown",
      "source": [
        "Let's move to the model definition in Keras. First, we import the required modules."
      ]
    },
    {
      "metadata": {
        "id": "KcBl15R1Ndgv",
        "colab_type": "code",
        "colab": {}
      },
      "cell_type": "code",
      "source": [
        "from keras.layers.core import Dense, Activation, Dropout\n",
        "from keras.layers.recurrent import LSTM\n",
        "from keras.models import Sequential\n",
        "from sklearn.metrics import mean_squared_error\n",
        "from sklearn.preprocessing import MinMaxScaler\n",
        "from sklearn.utils import shuffle"
      ],
      "execution_count": 0,
      "outputs": []
    },
    {
      "metadata": {
        "id": "UauURjuSpeWM",
        "colab_type": "text"
      },
      "cell_type": "markdown",
      "source": [
        "Data preprocessing is an essential step in data analysis to normalize input data. Specifically, we will scale input data with min-max normalization. \n"
      ]
    },
    {
      "metadata": {
        "id": "qjEA-06lNnCT",
        "colab_type": "code",
        "colab": {}
      },
      "cell_type": "code",
      "source": [
        "# convert pandas data frame in numpy array of float.\n",
        "data_np = data.values.astype(\"float32\")\n",
        "\n",
        "# normalize data with min max normalization\n",
        "normalizer = MinMaxScaler(feature_range = (0, 1))\n",
        "dataset = normalizer.fit_transform(data_np)\n"
      ],
      "execution_count": 0,
      "outputs": []
    },
    {
      "metadata": {
        "id": "WqJN8BUsulBB",
        "colab_type": "text"
      },
      "cell_type": "markdown",
      "source": [
        "Next, we split the dataset in training and test to evaluate the effectiveness of the model. Specifically, we use  70%  of the data as a training set, and  30%  of the data as a test set."
      ]
    },
    {
      "metadata": {
        "id": "DVW1ICQRNszb",
        "colab_type": "code",
        "outputId": "f8c6af7f-6c91-455f-9bba-a248eb913876",
        "colab": {
          "base_uri": "https://localhost:8080/",
          "height": 51
        }
      },
      "cell_type": "code",
      "source": [
        "# Using 70% of data for training, 30% for validation.\n",
        "TRAINING_PERC = 0.70\n",
        "\n",
        "train_size = int(len(dataset) * TRAINING_PERC)\n",
        "test_size = len(dataset) - train_size\n",
        "train, test = dataset[0:train_size, :], dataset[train_size:len(dataset), :]\n",
        "print(\"Number of samples training set: \" + str((len(train))))\n",
        "print(\"Number of samples test set: \" + str((len(test))))"
      ],
      "execution_count": 0,
      "outputs": [
        {
          "output_type": "stream",
          "text": [
            "Number of samples training set: 100\n",
            "Number of samples test set: 44\n"
          ],
          "name": "stdout"
        }
      ]
    },
    {
      "metadata": {
        "id": "a4R1_0Fvx2iu",
        "colab_type": "text"
      },
      "cell_type": "markdown",
      "source": [
        "We also arrange the dataset in the appropriate format for Keras, with the helper function create_dataset."
      ]
    },
    {
      "metadata": {
        "id": "csZrjbQUNx57",
        "colab_type": "code",
        "colab": {}
      },
      "cell_type": "code",
      "source": [
        "# helper function to read data.\n",
        "def create_dataset(dataset, window_size = 1):\n",
        "    data_x, data_y = [], []\n",
        "    for i in range(len(dataset) - window_size - 1):\n",
        "        sample = dataset[i:(i + window_size), 0]\n",
        "        data_x.append(sample)\n",
        "        data_y.append(dataset[i + window_size, 0])\n",
        "    return(np.array(data_x), np.array(data_y))\n"
      ],
      "execution_count": 0,
      "outputs": []
    },
    {
      "metadata": {
        "id": "OSo6eKujN2bT",
        "colab_type": "code",
        "colab": {}
      },
      "cell_type": "code",
      "source": [
        "# Create test and training sets for regression with window size 1.\n",
        "window_size = 1\n",
        "train_X, train_Y = create_dataset(train, window_size)\n",
        "test_X, test_Y = create_dataset(test, window_size)\n",
        "train_X = np.reshape(train_X, (train_X.shape[0], 1, train_X.shape[1]))\n",
        "test_X = np.reshape(test_X, (test_X.shape[0], 1, test_X.shape[1]))"
      ],
      "execution_count": 0,
      "outputs": []
    },
    {
      "metadata": {
        "id": "OggD45ErzlUq",
        "colab_type": "text"
      },
      "cell_type": "markdown",
      "source": [
        "Once all the data are ready, we create the model as a `Sequential` object including 5 LSTM units and a dense layer outputing a single scalar.\n",
        "We specify a window size equals to 1, so that the prediction of the current element depends only on the previuos one.\n",
        "Finally, we train our vanilla RNNs model, plotting the training loss for each epoch."
      ]
    },
    {
      "metadata": {
        "id": "n8AcT_NdN8G2",
        "colab_type": "code",
        "outputId": "8e4a5d4f-399d-4dd0-91d3-cb98c9265874",
        "colab": {
          "base_uri": "https://localhost:8080/",
          "height": 302
        }
      },
      "cell_type": "code",
      "source": [
        "def create_model(train_X, train_Y, window_size = 1):\n",
        "    vanilla_rnn = Sequential()\n",
        "    \n",
        "    vanilla_rnn.add(LSTM(5,input_shape = (1, window_size)))\n",
        "    vanilla_rnn.add(Dense(1))\n",
        "    vanilla_rnn.compile(loss = \"mean_squared_error\", \n",
        "                  optimizer = \"adam\")\n",
        "    \n",
        "    return(vanilla_rnn)\n",
        "\n",
        "vanilla_rnn = create_model(train_X, train_Y, window_size)\n",
        "SVG(model_to_dot(vanilla_rnn, show_shapes=True).create(prog='dot', format='svg'))\n"
      ],
      "execution_count": 0,
      "outputs": [
        {
          "output_type": "execute_result",
          "data": {
            "text/plain": [
              "<IPython.core.display.SVG object>"
            ],
            "image/svg+xml": "<svg height=\"211pt\" viewBox=\"0.00 0.00 255.00 211.00\" width=\"255pt\" xmlns=\"http://www.w3.org/2000/svg\" xmlns:xlink=\"http://www.w3.org/1999/xlink\">\n<g class=\"graph\" id=\"graph0\" transform=\"scale(1 1) rotate(0) translate(4 207)\">\n<title>G</title>\n<polygon fill=\"#ffffff\" points=\"-4,4 -4,-207 251,-207 251,4 -4,4\" stroke=\"transparent\"/>\n<!-- 140476660321680 -->\n<g class=\"node\" id=\"node1\">\n<title>140476660321680</title>\n<polygon fill=\"none\" points=\"0,-83.5 0,-129.5 247,-129.5 247,-83.5 0,-83.5\" stroke=\"#000000\"/>\n<text fill=\"#000000\" font-family=\"Times,serif\" font-size=\"14.00\" text-anchor=\"middle\" x=\"51\" y=\"-102.8\">lstm_4: LSTM</text>\n<polyline fill=\"none\" points=\"102,-83.5 102,-129.5 \" stroke=\"#000000\"/>\n<text fill=\"#000000\" font-family=\"Times,serif\" font-size=\"14.00\" text-anchor=\"middle\" x=\"131\" y=\"-114.3\">input:</text>\n<polyline fill=\"none\" points=\"102,-106.5 160,-106.5 \" stroke=\"#000000\"/>\n<text fill=\"#000000\" font-family=\"Times,serif\" font-size=\"14.00\" text-anchor=\"middle\" x=\"131\" y=\"-91.3\">output:</text>\n<polyline fill=\"none\" points=\"160,-83.5 160,-129.5 \" stroke=\"#000000\"/>\n<text fill=\"#000000\" font-family=\"Times,serif\" font-size=\"14.00\" text-anchor=\"middle\" x=\"203.5\" y=\"-114.3\">(None, 1, 1)</text>\n<polyline fill=\"none\" points=\"160,-106.5 247,-106.5 \" stroke=\"#000000\"/>\n<text fill=\"#000000\" font-family=\"Times,serif\" font-size=\"14.00\" text-anchor=\"middle\" x=\"203.5\" y=\"-91.3\">(None, 5)</text>\n</g>\n<!-- 140476534525072 -->\n<g class=\"node\" id=\"node2\">\n<title>140476534525072</title>\n<polygon fill=\"none\" points=\"5,-.5 5,-46.5 242,-46.5 242,-.5 5,-.5\" stroke=\"#000000\"/>\n<text fill=\"#000000\" font-family=\"Times,serif\" font-size=\"14.00\" text-anchor=\"middle\" x=\"58.5\" y=\"-19.8\">dense_4: Dense</text>\n<polyline fill=\"none\" points=\"112,-.5 112,-46.5 \" stroke=\"#000000\"/>\n<text fill=\"#000000\" font-family=\"Times,serif\" font-size=\"14.00\" text-anchor=\"middle\" x=\"141\" y=\"-31.3\">input:</text>\n<polyline fill=\"none\" points=\"112,-23.5 170,-23.5 \" stroke=\"#000000\"/>\n<text fill=\"#000000\" font-family=\"Times,serif\" font-size=\"14.00\" text-anchor=\"middle\" x=\"141\" y=\"-8.3\">output:</text>\n<polyline fill=\"none\" points=\"170,-.5 170,-46.5 \" stroke=\"#000000\"/>\n<text fill=\"#000000\" font-family=\"Times,serif\" font-size=\"14.00\" text-anchor=\"middle\" x=\"206\" y=\"-31.3\">(None, 5)</text>\n<polyline fill=\"none\" points=\"170,-23.5 242,-23.5 \" stroke=\"#000000\"/>\n<text fill=\"#000000\" font-family=\"Times,serif\" font-size=\"14.00\" text-anchor=\"middle\" x=\"206\" y=\"-8.3\">(None, 1)</text>\n</g>\n<!-- 140476660321680&#45;&gt;140476534525072 -->\n<g class=\"edge\" id=\"edge2\">\n<title>140476660321680-&gt;140476534525072</title>\n<path d=\"M123.5,-83.3799C123.5,-75.1745 123.5,-65.7679 123.5,-56.8786\" fill=\"none\" stroke=\"#000000\"/>\n<polygon fill=\"#000000\" points=\"127.0001,-56.784 123.5,-46.784 120.0001,-56.784 127.0001,-56.784\" stroke=\"#000000\"/>\n</g>\n<!-- 140476619280912 -->\n<g class=\"node\" id=\"node3\">\n<title>140476619280912</title>\n<polygon fill=\"none\" points=\"59,-166.5 59,-202.5 188,-202.5 188,-166.5 59,-166.5\" stroke=\"#000000\"/>\n<text fill=\"#000000\" font-family=\"Times,serif\" font-size=\"14.00\" text-anchor=\"middle\" x=\"123.5\" y=\"-180.8\">140476619280912</text>\n</g>\n<!-- 140476619280912&#45;&gt;140476660321680 -->\n<g class=\"edge\" id=\"edge1\">\n<title>140476619280912-&gt;140476660321680</title>\n<path d=\"M123.5,-166.4092C123.5,-158.4308 123.5,-148.795 123.5,-139.606\" fill=\"none\" stroke=\"#000000\"/>\n<polygon fill=\"#000000\" points=\"127.0001,-139.5333 123.5,-129.5333 120.0001,-139.5334 127.0001,-139.5333\" stroke=\"#000000\"/>\n</g>\n</g>\n</svg>"
          },
          "metadata": {
            "tags": []
          },
          "execution_count": 13
        }
      ]
    },
    {
      "metadata": {
        "id": "oAxZg25elaAt",
        "colab_type": "code",
        "outputId": "62aadb2b-586e-4a9f-937a-952103c81513",
        "colab": {
          "base_uri": "https://localhost:8080/",
          "height": 3434
        }
      },
      "cell_type": "code",
      "source": [
        "vanilla_rnn.fit(train_X, train_Y, epochs = 100, batch_size = 1, verbose = 2)"
      ],
      "execution_count": 0,
      "outputs": [
        {
          "output_type": "stream",
          "text": [
            "Epoch 1/100\n",
            " - 1s - loss: 0.0563\n",
            "Epoch 2/100\n",
            " - 0s - loss: 0.0266\n",
            "Epoch 3/100\n",
            " - 0s - loss: 0.0194\n",
            "Epoch 4/100\n",
            " - 0s - loss: 0.0176\n",
            "Epoch 5/100\n",
            " - 0s - loss: 0.0165\n",
            "Epoch 6/100\n",
            " - 0s - loss: 0.0155\n",
            "Epoch 7/100\n",
            " - 0s - loss: 0.0142\n",
            "Epoch 8/100\n",
            " - 0s - loss: 0.0133\n",
            "Epoch 9/100\n",
            " - 0s - loss: 0.0120\n",
            "Epoch 10/100\n",
            " - 0s - loss: 0.0110\n",
            "Epoch 11/100\n",
            " - 0s - loss: 0.0099\n",
            "Epoch 12/100\n",
            " - 0s - loss: 0.0089\n",
            "Epoch 13/100\n",
            " - 0s - loss: 0.0078\n",
            "Epoch 14/100\n",
            " - 0s - loss: 0.0068\n",
            "Epoch 15/100\n",
            " - 0s - loss: 0.0059\n",
            "Epoch 16/100\n",
            " - 0s - loss: 0.0052\n",
            "Epoch 17/100\n",
            " - 0s - loss: 0.0044\n",
            "Epoch 18/100\n",
            " - 0s - loss: 0.0038\n",
            "Epoch 19/100\n",
            " - 0s - loss: 0.0034\n",
            "Epoch 20/100\n",
            " - 0s - loss: 0.0030\n",
            "Epoch 21/100\n",
            " - 0s - loss: 0.0027\n",
            "Epoch 22/100\n",
            " - 0s - loss: 0.0026\n",
            "Epoch 23/100\n",
            " - 0s - loss: 0.0024\n",
            "Epoch 24/100\n",
            " - 0s - loss: 0.0023\n",
            "Epoch 25/100\n",
            " - 0s - loss: 0.0022\n",
            "Epoch 26/100\n",
            " - 0s - loss: 0.0023\n",
            "Epoch 27/100\n",
            " - 0s - loss: 0.0022\n",
            "Epoch 28/100\n",
            " - 0s - loss: 0.0021\n",
            "Epoch 29/100\n",
            " - 0s - loss: 0.0022\n",
            "Epoch 30/100\n",
            " - 0s - loss: 0.0022\n",
            "Epoch 31/100\n",
            " - 0s - loss: 0.0022\n",
            "Epoch 32/100\n",
            " - 0s - loss: 0.0021\n",
            "Epoch 33/100\n",
            " - 0s - loss: 0.0022\n",
            "Epoch 34/100\n",
            " - 0s - loss: 0.0022\n",
            "Epoch 35/100\n",
            " - 0s - loss: 0.0022\n",
            "Epoch 36/100\n",
            " - 0s - loss: 0.0022\n",
            "Epoch 37/100\n",
            " - 0s - loss: 0.0022\n",
            "Epoch 38/100\n",
            " - 0s - loss: 0.0022\n",
            "Epoch 39/100\n",
            " - 0s - loss: 0.0022\n",
            "Epoch 40/100\n",
            " - 0s - loss: 0.0022\n",
            "Epoch 41/100\n",
            " - 0s - loss: 0.0021\n",
            "Epoch 42/100\n",
            " - 0s - loss: 0.0021\n",
            "Epoch 43/100\n",
            " - 0s - loss: 0.0023\n",
            "Epoch 44/100\n",
            " - 0s - loss: 0.0022\n",
            "Epoch 45/100\n",
            " - 0s - loss: 0.0021\n",
            "Epoch 46/100\n",
            " - 0s - loss: 0.0022\n",
            "Epoch 47/100\n",
            " - 0s - loss: 0.0022\n",
            "Epoch 48/100\n",
            " - 0s - loss: 0.0022\n",
            "Epoch 49/100\n",
            " - 0s - loss: 0.0022\n",
            "Epoch 50/100\n",
            " - 0s - loss: 0.0022\n",
            "Epoch 51/100\n",
            " - 0s - loss: 0.0022\n",
            "Epoch 52/100\n",
            " - 0s - loss: 0.0022\n",
            "Epoch 53/100\n",
            " - 0s - loss: 0.0022\n",
            "Epoch 54/100\n",
            " - 0s - loss: 0.0022\n",
            "Epoch 55/100\n",
            " - 0s - loss: 0.0022\n",
            "Epoch 56/100\n",
            " - 0s - loss: 0.0022\n",
            "Epoch 57/100\n",
            " - 0s - loss: 0.0021\n",
            "Epoch 58/100\n",
            " - 0s - loss: 0.0022\n",
            "Epoch 59/100\n",
            " - 0s - loss: 0.0022\n",
            "Epoch 60/100\n",
            " - 0s - loss: 0.0022\n",
            "Epoch 61/100\n",
            " - 0s - loss: 0.0021\n",
            "Epoch 62/100\n",
            " - 0s - loss: 0.0022\n",
            "Epoch 63/100\n",
            " - 0s - loss: 0.0022\n",
            "Epoch 64/100\n",
            " - 0s - loss: 0.0022\n",
            "Epoch 65/100\n",
            " - 0s - loss: 0.0022\n",
            "Epoch 66/100\n",
            " - 0s - loss: 0.0022\n",
            "Epoch 67/100\n",
            " - 0s - loss: 0.0021\n",
            "Epoch 68/100\n",
            " - 0s - loss: 0.0021\n",
            "Epoch 69/100\n",
            " - 0s - loss: 0.0021\n",
            "Epoch 70/100\n",
            " - 0s - loss: 0.0021\n",
            "Epoch 71/100\n",
            " - 0s - loss: 0.0021\n",
            "Epoch 72/100\n",
            " - 0s - loss: 0.0021\n",
            "Epoch 73/100\n",
            " - 0s - loss: 0.0022\n",
            "Epoch 74/100\n",
            " - 0s - loss: 0.0021\n",
            "Epoch 75/100\n",
            " - 0s - loss: 0.0021\n",
            "Epoch 76/100\n",
            " - 0s - loss: 0.0021\n",
            "Epoch 77/100\n",
            " - 0s - loss: 0.0021\n",
            "Epoch 78/100\n",
            " - 0s - loss: 0.0021\n",
            "Epoch 79/100\n",
            " - 0s - loss: 0.0021\n",
            "Epoch 80/100\n",
            " - 0s - loss: 0.0022\n",
            "Epoch 81/100\n",
            " - 0s - loss: 0.0021\n",
            "Epoch 82/100\n",
            " - 0s - loss: 0.0021\n",
            "Epoch 83/100\n",
            " - 0s - loss: 0.0022\n",
            "Epoch 84/100\n",
            " - 0s - loss: 0.0021\n",
            "Epoch 85/100\n",
            " - 0s - loss: 0.0022\n",
            "Epoch 86/100\n",
            " - 0s - loss: 0.0021\n",
            "Epoch 87/100\n",
            " - 0s - loss: 0.0021\n",
            "Epoch 88/100\n",
            " - 0s - loss: 0.0022\n",
            "Epoch 89/100\n",
            " - 0s - loss: 0.0021\n",
            "Epoch 90/100\n",
            " - 0s - loss: 0.0021\n",
            "Epoch 91/100\n",
            " - 0s - loss: 0.0021\n",
            "Epoch 92/100\n",
            " - 0s - loss: 0.0022\n",
            "Epoch 93/100\n",
            " - 0s - loss: 0.0021\n",
            "Epoch 94/100\n",
            " - 0s - loss: 0.0022\n",
            "Epoch 95/100\n",
            " - 0s - loss: 0.0022\n",
            "Epoch 96/100\n",
            " - 0s - loss: 0.0022\n",
            "Epoch 97/100\n",
            " - 0s - loss: 0.0022\n",
            "Epoch 98/100\n",
            " - 0s - loss: 0.0022\n",
            "Epoch 99/100\n",
            " - 0s - loss: 0.0022\n",
            "Epoch 100/100\n",
            " - 0s - loss: 0.0022\n"
          ],
          "name": "stdout"
        },
        {
          "output_type": "execute_result",
          "data": {
            "text/plain": [
              "<keras.callbacks.History at 0x7fc33d6ec2d0>"
            ]
          },
          "metadata": {
            "tags": []
          },
          "execution_count": 14
        }
      ]
    },
    {
      "metadata": {
        "id": "5yW-k8Np2eXC",
        "colab_type": "text"
      },
      "cell_type": "markdown",
      "source": [
        "Once the Vanilla RNNs model is trained,  please make sure it generalizes well also on the test data. One way to do it is checking the mean square error."
      ]
    },
    {
      "metadata": {
        "id": "YhwUqwNLOFtG",
        "colab_type": "code",
        "outputId": "92f6a5c7-c3de-4e4d-ce10-700d1853a279",
        "colab": {
          "base_uri": "https://localhost:8080/",
          "height": 51
        }
      },
      "cell_type": "code",
      "source": [
        "def get_predict_and_score(model, X, Y):\n",
        "    # transform the prediction to the original scale.\n",
        "    pred = normalizer.inverse_transform(model.predict(X))\n",
        "    # transform also the label to the original scale for interpretability.\n",
        "    orig_data =normalizer.inverse_transform([Y])\n",
        "    # calculate RMSE.\n",
        "    score = math.sqrt(mean_squared_error(orig_data[0], pred[:, 0]))\n",
        "    return(score, pred)\n",
        "\n",
        "mse_train, train_predict = get_predict_and_score(vanilla_rnn, train_X, train_Y)\n",
        "mse_test, test_predict = get_predict_and_score(vanilla_rnn, test_X, test_Y)\n",
        "\n",
        "print(\"Training data error: %.2f MSE\" % mse_train)\n",
        "print(\"Test data error: %.2f MSE\" % mse_test)"
      ],
      "execution_count": 0,
      "outputs": [
        {
          "output_type": "stream",
          "text": [
            "Training data error: 23.71 MSE\n",
            "Test data error: 49.89 MSE\n"
          ],
          "name": "stdout"
        }
      ]
    },
    {
      "metadata": {
        "id": "sdv7k_4N9Jkz",
        "colab_type": "text"
      },
      "cell_type": "markdown",
      "source": [
        "Another straightforward way is plotting the predictions and the true values as a graph and see how they are close spatially."
      ]
    },
    {
      "metadata": {
        "id": "vKH50QakON6z",
        "colab_type": "code",
        "outputId": "5b136f09-47f5-4924-889d-a85e7c39c271",
        "colab": {
          "base_uri": "https://localhost:8080/",
          "height": 349
        }
      },
      "cell_type": "code",
      "source": [
        "# Training predictions.\n",
        "train_predictions = np.empty_like(dataset)\n",
        "train_predictions[:, :] = np.nan\n",
        "train_predictions[window_size:len(train_predict) + window_size, :] = train_predict\n",
        "\n",
        "# Test predictions.\n",
        "test_predictions = np.empty_like(dataset)\n",
        "test_predictions[:, :] = np.nan\n",
        "test_predictions[len(train_predict) + (window_size * 2) + 1:len(dataset) - 1, :] = test_predict\n",
        "\n",
        "# Create the plot.\n",
        "plt.figure(figsize = (15, 5))\n",
        "plt.plot(normalizer.inverse_transform(dataset), label = \"True value\")\n",
        "plt.plot(train_predictions, label = \"Training predictions\")\n",
        "plt.plot(test_predictions, label = \"Test predictions\")\n",
        "plt.xlabel(\"Months\")\n",
        "plt.ylabel(\"1000 member subscriptions\")\n",
        "plt.title(\"Comparison true vs. predicted in the training and testing set\")\n",
        "plt.legend()\n",
        "plt.show()"
      ],
      "execution_count": 0,
      "outputs": [
        {
          "output_type": "display_data",
          "data": {
            "image/png": "[encoded data removed]",
            "text/plain": [
              "<Figure size 1080x360 with 1 Axes>"
            ]
          },
          "metadata": {
            "tags": []
          }
        }
      ]
    },
    {
      "metadata": {
        "id": "myU3dsAKF314",
        "colab_type": "text"
      },
      "cell_type": "markdown",
      "source": [
        "\n",
        "# Many to One - Sentimental Analysis\n",
        "\n",
        "Many to one model take as input multiple data,  such as text, video frames and give as output a single value. This topology can be used for classifying texts, for example, based on the emotions it can evoke to the reader. The task it is called sentimental analysis."
      ]
    },
    {
      "metadata": {
        "id": "NPjFltEeOMuQ",
        "colab_type": "text"
      },
      "cell_type": "markdown",
      "source": [
        "As usual we start importing all the needed modules."
      ]
    },
    {
      "metadata": {
        "id": "OsSakJ17US-C",
        "colab_type": "code",
        "colab": {}
      },
      "cell_type": "code",
      "source": [
        "from keras.preprocessing import sequence\n",
        "from keras.models import Sequential\n",
        "from keras.layers import LSTM, CuDNNLSTM\n",
        "from keras.layers import Dense, Embedding, Dropout\n",
        "from keras.datasets import imdb\n",
        "\n",
        "from keras import __version__\n",
        "from distutils.version import LooseVersion as LV\n",
        "from keras import backend as K\n",
        "\n",
        "from keras.utils.vis_utils import model_to_dot\n",
        "from IPython.display import SVG\n",
        "\n",
        "\n",
        "import numpy as np\n",
        "import matplotlib.pyplot as plt\n",
        "import seaborn as sns\n",
        "sns.set()\n",
        "\n"
      ],
      "execution_count": 0,
      "outputs": []
    },
    {
      "metadata": {
        "id": "y4iTSkibOia-",
        "colab_type": "text"
      },
      "cell_type": "markdown",
      "source": [
        "Next, we load the IMDB data set, containing 50000 movies reviews from the Internet Movie Database. Totally there are 25000 reviews for training and 25000 reviews for testing, half positive and half negative.  Each review is represented as a sequence of integers and is labeled with 1 and 0. In this particular example, we do not need to normalize the dataset, as it has been already preprocessed. "
      ]
    },
    {
      "metadata": {
        "id": "8xD-zygtUXKX",
        "colab_type": "code",
        "outputId": "5c7bf82b-69ff-4749-84b5-e06b73f9ae5f",
        "colab": {
          "base_uri": "https://localhost:8080/",
          "height": 68
        }
      },
      "cell_type": "code",
      "source": [
        "# Max number of words to include. Words are ranked by how often they occur (in the training set) and only the most frequent words are kept\n",
        "n_words = 10000\n",
        "# Max lenght of a text\n",
        "maxlen = 80\n",
        "\n",
        "print('Loading data...')\n",
        "(X_train, Y_train), (X_test, Y_test) = imdb.load_data(num_words=n_words)\n",
        "print('Number of training reviews:', X_train.shape)\n",
        "print('Number of testing reviews:', X_test.shape)\n",
        "\n",
        "# In case a review doesn't reach the maximum lenght, it needs to be zero padded.\n",
        "X_train = sequence.pad_sequences(X_train, maxlen=maxlen)\n",
        "X_test = sequence.pad_sequences(X_test, maxlen=maxlen)\n"
      ],
      "execution_count": 0,
      "outputs": [
        {
          "output_type": "stream",
          "text": [
            "Loading data...\n",
            "('Number of training reviews:', (25000,))\n",
            "('Number of testing reviews:', (25000,))\n"
          ],
          "name": "stdout"
        }
      ]
    },
    {
      "metadata": {
        "id": "za9G6fXRUn9N",
        "colab_type": "code",
        "outputId": "6412aa48-2517-40f1-b27f-3b220854a5aa",
        "colab": {
          "base_uri": "https://localhost:8080/",
          "height": 54
        }
      },
      "cell_type": "code",
      "source": [
        "print(\"Example of review in the training set:\\n\", X_train[0], \"length:\", len(X_train[0]), \"class:\", Y_train[0])"
      ],
      "execution_count": 0,
      "outputs": [
        {
          "output_type": "stream",
          "text": [
            "('Example of review in the training set:\\n', [1, 14, 22, 16, 43, 530, 973, 1622, 1385, 65, 458, 4468, 66, 3941, 4, 173, 36, 256, 5, 25, 100, 43, 838, 112, 50, 670, 2, 9, 35, 480, 284, 5, 150, 4, 172, 112, 167, 2, 336, 385, 39, 4, 172, 4536, 1111, 17, 546, 38, 13, 447, 4, 192, 50, 16, 6, 147, 2025, 19, 14, 22, 4, 1920, 4613, 469, 4, 22, 71, 87, 12, 16, 43, 530, 38, 76, 15, 13, 1247, 4, 22, 17, 515, 17, 12, 16, 626, 18, 2, 5, 62, 386, 12, 8, 316, 8, 106, 5, 4, 2223, 5244, 16, 480, 66, 3785, 33, 4, 130, 12, 16, 38, 619, 5, 25, 124, 51, 36, 135, 48, 25, 1415, 33, 6, 22, 12, 215, 28, 77, 52, 5, 14, 407, 16, 82, 2, 8, 4, 107, 117, 5952, 15, 256, 4, 2, 7, 3766, 5, 723, 36, 71, 43, 530, 476, 26, 400, 317, 46, 7, 4, 2, 1029, 13, 104, 88, 4, 381, 15, 297, 98, 32, 2071, 56, 26, 141, 6, 194, 7486, 18, 4, 226, 22, 21, 134, 476, 26, 480, 5, 144, 30, 5535, 18, 51, 36, 28, 224, 92, 25, 104, 4, 226, 65, 16, 38, 1334, 88, 12, 16, 283, 5, 16, 4472, 113, 103, 32, 15, 16, 5345, 19, 178, 32], 'length:', 218, 'class:', 1)\n"
          ],
          "name": "stdout"
        }
      ]
    },
    {
      "metadata": {
        "id": "EoKnfC4LQgj9",
        "colab_type": "text"
      },
      "cell_type": "markdown",
      "source": [
        "It is time to implement a many to one RNNs model. We will use two LSTM layers.  Bore in mind, to stack multiple RNN layers, all RNN layers except the last one need to have \"return_sequences=True\". The output layer contains a single neuron and sigmoid non-linearity to match the binary labels. At the moment, we omit the description of the embedding layer, which will be clarified in the second part of the tutorial, focusing on text/speech processing. Next, we compile() the model, using binary cross-entropy as loss function and RMSprop as optimizer.\n"
      ]
    },
    {
      "metadata": {
        "id": "6HvWuFALUsOU",
        "colab_type": "code",
        "outputId": "84dfeaed-9f7f-4d5f-baad-dcc1d402fcac",
        "colab": {
          "base_uri": "https://localhost:8080/",
          "height": 34
        }
      },
      "cell_type": "code",
      "source": [
        "# model parameters:\n",
        "embedding_dims = 50\n",
        "lstm_units = 32\n",
        "\n",
        "print('Build model...')\n",
        "model = Sequential()\n",
        "\n",
        "model.add(Embedding(n_words,\n",
        "                    embedding_dims,\n",
        "                    input_length=maxlen))\n",
        "model.add(Dropout(0.2))\n",
        "\n",
        "model.add(LSTM(lstm_units, return_sequences=True))\n",
        "model.add(LSTM(lstm_units, return_sequences=True))\n",
        "model.add(LSTM(lstm_units))\n",
        "\n",
        "model.add(Dense(1, activation='sigmoid'))\n",
        "\n",
        "# try using different optimizers and different optimizer configs\n",
        "model.compile(loss='binary_crossentropy',\n",
        "              optimizer='rmsprop',\n",
        "              metrics=['accuracy'])"
      ],
      "execution_count": 0,
      "outputs": [
        {
          "output_type": "stream",
          "text": [
            "Build model...\n"
          ],
          "name": "stdout"
        }
      ]
    },
    {
      "metadata": {
        "id": "FidLNQGmWiZS",
        "colab_type": "text"
      },
      "cell_type": "markdown",
      "source": [
        "SVG method it is an utility for visualizing network representation."
      ]
    },
    {
      "metadata": {
        "id": "SimANFT9U0Zt",
        "colab_type": "code",
        "outputId": "fcbf434b-d131-4fd6-9168-67619f5983ba",
        "colab": {
          "base_uri": "https://localhost:8080/",
          "height": 745
        }
      },
      "cell_type": "code",
      "source": [
        "SVG(model_to_dot(model, show_shapes=True).create(prog='dot', format='svg'))"
      ],
      "execution_count": 0,
      "outputs": [
        {
          "output_type": "execute_result",
          "data": {
            "text/plain": [
              "<IPython.core.display.SVG object>"
            ],
            "image/svg+xml": "<svg height=\"543pt\" viewBox=\"0.00 0.00 339.00 543.00\" width=\"339pt\" xmlns=\"http://www.w3.org/2000/svg\" xmlns:xlink=\"http://www.w3.org/1999/xlink\">\n<g class=\"graph\" id=\"graph0\" transform=\"scale(1 1) rotate(0) translate(4 539)\">\n<title>G</title>\n<polygon fill=\"#ffffff\" points=\"-4,4 -4,-539 335,-539 335,4 -4,4\" stroke=\"transparent\"/>\n<!-- 140476494531664 -->\n<g class=\"node\" id=\"node1\">\n<title>140476494531664</title>\n<polygon fill=\"none\" points=\"0,-415.5 0,-461.5 331,-461.5 331,-415.5 0,-415.5\" stroke=\"#000000\"/>\n<text fill=\"#000000\" font-family=\"Times,serif\" font-size=\"14.00\" text-anchor=\"middle\" x=\"85.5\" y=\"-434.8\">embedding_2: Embedding</text>\n<polyline fill=\"none\" points=\"171,-415.5 171,-461.5 \" stroke=\"#000000\"/>\n<text fill=\"#000000\" font-family=\"Times,serif\" font-size=\"14.00\" text-anchor=\"middle\" x=\"200\" y=\"-446.3\">input:</text>\n<polyline fill=\"none\" points=\"171,-438.5 229,-438.5 \" stroke=\"#000000\"/>\n<text fill=\"#000000\" font-family=\"Times,serif\" font-size=\"14.00\" text-anchor=\"middle\" x=\"200\" y=\"-423.3\">output:</text>\n<polyline fill=\"none\" points=\"229,-415.5 229,-461.5 \" stroke=\"#000000\"/>\n<text fill=\"#000000\" font-family=\"Times,serif\" font-size=\"14.00\" text-anchor=\"middle\" x=\"280\" y=\"-446.3\">(None, 80)</text>\n<polyline fill=\"none\" points=\"229,-438.5 331,-438.5 \" stroke=\"#000000\"/>\n<text fill=\"#000000\" font-family=\"Times,serif\" font-size=\"14.00\" text-anchor=\"middle\" x=\"280\" y=\"-423.3\">(None, 80, 50)</text>\n</g>\n<!-- 140476494532432 -->\n<g class=\"node\" id=\"node2\">\n<title>140476494532432</title>\n<polygon fill=\"none\" points=\"18.5,-332.5 18.5,-378.5 312.5,-378.5 312.5,-332.5 18.5,-332.5\" stroke=\"#000000\"/>\n<text fill=\"#000000\" font-family=\"Times,serif\" font-size=\"14.00\" text-anchor=\"middle\" x=\"85.5\" y=\"-351.8\">dropout_2: Dropout</text>\n<polyline fill=\"none\" points=\"152.5,-332.5 152.5,-378.5 \" stroke=\"#000000\"/>\n<text fill=\"#000000\" font-family=\"Times,serif\" font-size=\"14.00\" text-anchor=\"middle\" x=\"181.5\" y=\"-363.3\">input:</text>\n<polyline fill=\"none\" points=\"152.5,-355.5 210.5,-355.5 \" stroke=\"#000000\"/>\n<text fill=\"#000000\" font-family=\"Times,serif\" font-size=\"14.00\" text-anchor=\"middle\" x=\"181.5\" y=\"-340.3\">output:</text>\n<polyline fill=\"none\" points=\"210.5,-332.5 210.5,-378.5 \" stroke=\"#000000\"/>\n<text fill=\"#000000\" font-family=\"Times,serif\" font-size=\"14.00\" text-anchor=\"middle\" x=\"261.5\" y=\"-363.3\">(None, 80, 50)</text>\n<polyline fill=\"none\" points=\"210.5,-355.5 312.5,-355.5 \" stroke=\"#000000\"/>\n<text fill=\"#000000\" font-family=\"Times,serif\" font-size=\"14.00\" text-anchor=\"middle\" x=\"261.5\" y=\"-340.3\">(None, 80, 50)</text>\n</g>\n<!-- 140476494531664&#45;&gt;140476494532432 -->\n<g class=\"edge\" id=\"edge2\">\n<title>140476494531664-&gt;140476494532432</title>\n<path d=\"M165.5,-415.3799C165.5,-407.1745 165.5,-397.7679 165.5,-388.8786\" fill=\"none\" stroke=\"#000000\"/>\n<polygon fill=\"#000000\" points=\"169.0001,-388.784 165.5,-378.784 162.0001,-388.784 169.0001,-388.784\" stroke=\"#000000\"/>\n</g>\n<!-- 140476494531856 -->\n<g class=\"node\" id=\"node3\">\n<title>140476494531856</title>\n<polygon fill=\"none\" points=\"34.5,-249.5 34.5,-295.5 296.5,-295.5 296.5,-249.5 34.5,-249.5\" stroke=\"#000000\"/>\n<text fill=\"#000000\" font-family=\"Times,serif\" font-size=\"14.00\" text-anchor=\"middle\" x=\"85.5\" y=\"-268.8\">lstm_8: LSTM</text>\n<polyline fill=\"none\" points=\"136.5,-249.5 136.5,-295.5 \" stroke=\"#000000\"/>\n<text fill=\"#000000\" font-family=\"Times,serif\" font-size=\"14.00\" text-anchor=\"middle\" x=\"165.5\" y=\"-280.3\">input:</text>\n<polyline fill=\"none\" points=\"136.5,-272.5 194.5,-272.5 \" stroke=\"#000000\"/>\n<text fill=\"#000000\" font-family=\"Times,serif\" font-size=\"14.00\" text-anchor=\"middle\" x=\"165.5\" y=\"-257.3\">output:</text>\n<polyline fill=\"none\" points=\"194.5,-249.5 194.5,-295.5 \" stroke=\"#000000\"/>\n<text fill=\"#000000\" font-family=\"Times,serif\" font-size=\"14.00\" text-anchor=\"middle\" x=\"245.5\" y=\"-280.3\">(None, 80, 50)</text>\n<polyline fill=\"none\" points=\"194.5,-272.5 296.5,-272.5 \" stroke=\"#000000\"/>\n<text fill=\"#000000\" font-family=\"Times,serif\" font-size=\"14.00\" text-anchor=\"middle\" x=\"245.5\" y=\"-257.3\">(None, 80, 32)</text>\n</g>\n<!-- 140476494532432&#45;&gt;140476494531856 -->\n<g class=\"edge\" id=\"edge3\">\n<title>140476494532432-&gt;140476494531856</title>\n<path d=\"M165.5,-332.3799C165.5,-324.1745 165.5,-314.7679 165.5,-305.8786\" fill=\"none\" stroke=\"#000000\"/>\n<polygon fill=\"#000000\" points=\"169.0001,-305.784 165.5,-295.784 162.0001,-305.784 169.0001,-305.784\" stroke=\"#000000\"/>\n</g>\n<!-- 140476525719696 -->\n<g class=\"node\" id=\"node4\">\n<title>140476525719696</title>\n<polygon fill=\"none\" points=\"34.5,-166.5 34.5,-212.5 296.5,-212.5 296.5,-166.5 34.5,-166.5\" stroke=\"#000000\"/>\n<text fill=\"#000000\" font-family=\"Times,serif\" font-size=\"14.00\" text-anchor=\"middle\" x=\"85.5\" y=\"-185.8\">lstm_9: LSTM</text>\n<polyline fill=\"none\" points=\"136.5,-166.5 136.5,-212.5 \" stroke=\"#000000\"/>\n<text fill=\"#000000\" font-family=\"Times,serif\" font-size=\"14.00\" text-anchor=\"middle\" x=\"165.5\" y=\"-197.3\">input:</text>\n<polyline fill=\"none\" points=\"136.5,-189.5 194.5,-189.5 \" stroke=\"#000000\"/>\n<text fill=\"#000000\" font-family=\"Times,serif\" font-size=\"14.00\" text-anchor=\"middle\" x=\"165.5\" y=\"-174.3\">output:</text>\n<polyline fill=\"none\" points=\"194.5,-166.5 194.5,-212.5 \" stroke=\"#000000\"/>\n<text fill=\"#000000\" font-family=\"Times,serif\" font-size=\"14.00\" text-anchor=\"middle\" x=\"245.5\" y=\"-197.3\">(None, 80, 32)</text>\n<polyline fill=\"none\" points=\"194.5,-189.5 296.5,-189.5 \" stroke=\"#000000\"/>\n<text fill=\"#000000\" font-family=\"Times,serif\" font-size=\"14.00\" text-anchor=\"middle\" x=\"245.5\" y=\"-174.3\">(None, 80, 32)</text>\n</g>\n<!-- 140476494531856&#45;&gt;140476525719696 -->\n<g class=\"edge\" id=\"edge4\">\n<title>140476494531856-&gt;140476525719696</title>\n<path d=\"M165.5,-249.3799C165.5,-241.1745 165.5,-231.7679 165.5,-222.8786\" fill=\"none\" stroke=\"#000000\"/>\n<polygon fill=\"#000000\" points=\"169.0001,-222.784 165.5,-212.784 162.0001,-222.784 169.0001,-222.784\" stroke=\"#000000\"/>\n</g>\n<!-- 140476493870608 -->\n<g class=\"node\" id=\"node5\">\n<title>140476493870608</title>\n<polygon fill=\"none\" points=\"30.5,-83.5 30.5,-129.5 300.5,-129.5 300.5,-83.5 30.5,-83.5\" stroke=\"#000000\"/>\n<text fill=\"#000000\" font-family=\"Times,serif\" font-size=\"14.00\" text-anchor=\"middle\" x=\"85.5\" y=\"-102.8\">lstm_10: LSTM</text>\n<polyline fill=\"none\" points=\"140.5,-83.5 140.5,-129.5 \" stroke=\"#000000\"/>\n<text fill=\"#000000\" font-family=\"Times,serif\" font-size=\"14.00\" text-anchor=\"middle\" x=\"169.5\" y=\"-114.3\">input:</text>\n<polyline fill=\"none\" points=\"140.5,-106.5 198.5,-106.5 \" stroke=\"#000000\"/>\n<text fill=\"#000000\" font-family=\"Times,serif\" font-size=\"14.00\" text-anchor=\"middle\" x=\"169.5\" y=\"-91.3\">output:</text>\n<polyline fill=\"none\" points=\"198.5,-83.5 198.5,-129.5 \" stroke=\"#000000\"/>\n<text fill=\"#000000\" font-family=\"Times,serif\" font-size=\"14.00\" text-anchor=\"middle\" x=\"249.5\" y=\"-114.3\">(None, 80, 32)</text>\n<polyline fill=\"none\" points=\"198.5,-106.5 300.5,-106.5 \" stroke=\"#000000\"/>\n<text fill=\"#000000\" font-family=\"Times,serif\" font-size=\"14.00\" text-anchor=\"middle\" x=\"249.5\" y=\"-91.3\">(None, 32)</text>\n</g>\n<!-- 140476525719696&#45;&gt;140476493870608 -->\n<g class=\"edge\" id=\"edge5\">\n<title>140476525719696-&gt;140476493870608</title>\n<path d=\"M165.5,-166.3799C165.5,-158.1745 165.5,-148.7679 165.5,-139.8786\" fill=\"none\" stroke=\"#000000\"/>\n<polygon fill=\"#000000\" points=\"169.0001,-139.784 165.5,-129.784 162.0001,-139.784 169.0001,-139.784\" stroke=\"#000000\"/>\n</g>\n<!-- 140476492516176 -->\n<g class=\"node\" id=\"node6\">\n<title>140476492516176</title>\n<polygon fill=\"none\" points=\"43,-.5 43,-46.5 288,-46.5 288,-.5 43,-.5\" stroke=\"#000000\"/>\n<text fill=\"#000000\" font-family=\"Times,serif\" font-size=\"14.00\" text-anchor=\"middle\" x=\"96.5\" y=\"-19.8\">dense_6: Dense</text>\n<polyline fill=\"none\" points=\"150,-.5 150,-46.5 \" stroke=\"#000000\"/>\n<text fill=\"#000000\" font-family=\"Times,serif\" font-size=\"14.00\" text-anchor=\"middle\" x=\"179\" y=\"-31.3\">input:</text>\n<polyline fill=\"none\" points=\"150,-23.5 208,-23.5 \" stroke=\"#000000\"/>\n<text fill=\"#000000\" font-family=\"Times,serif\" font-size=\"14.00\" text-anchor=\"middle\" x=\"179\" y=\"-8.3\">output:</text>\n<polyline fill=\"none\" points=\"208,-.5 208,-46.5 \" stroke=\"#000000\"/>\n<text fill=\"#000000\" font-family=\"Times,serif\" font-size=\"14.00\" text-anchor=\"middle\" x=\"248\" y=\"-31.3\">(None, 32)</text>\n<polyline fill=\"none\" points=\"208,-23.5 288,-23.5 \" stroke=\"#000000\"/>\n<text fill=\"#000000\" font-family=\"Times,serif\" font-size=\"14.00\" text-anchor=\"middle\" x=\"248\" y=\"-8.3\">(None, 1)</text>\n</g>\n<!-- 140476493870608&#45;&gt;140476492516176 -->\n<g class=\"edge\" id=\"edge6\">\n<title>140476493870608-&gt;140476492516176</title>\n<path d=\"M165.5,-83.3799C165.5,-75.1745 165.5,-65.7679 165.5,-56.8786\" fill=\"none\" stroke=\"#000000\"/>\n<polygon fill=\"#000000\" points=\"169.0001,-56.784 165.5,-46.784 162.0001,-56.784 169.0001,-56.784\" stroke=\"#000000\"/>\n</g>\n<!-- 140476525776400 -->\n<g class=\"node\" id=\"node7\">\n<title>140476525776400</title>\n<polygon fill=\"none\" points=\"101,-498.5 101,-534.5 230,-534.5 230,-498.5 101,-498.5\" stroke=\"#000000\"/>\n<text fill=\"#000000\" font-family=\"Times,serif\" font-size=\"14.00\" text-anchor=\"middle\" x=\"165.5\" y=\"-512.8\">140476525776400</text>\n</g>\n<!-- 140476525776400&#45;&gt;140476494531664 -->\n<g class=\"edge\" id=\"edge1\">\n<title>140476525776400-&gt;140476494531664</title>\n<path d=\"M165.5,-498.4092C165.5,-490.4308 165.5,-480.795 165.5,-471.606\" fill=\"none\" stroke=\"#000000\"/>\n<polygon fill=\"#000000\" points=\"169.0001,-471.5333 165.5,-461.5333 162.0001,-471.5334 169.0001,-471.5333\" stroke=\"#000000\"/>\n</g>\n</g>\n</svg>"
          },
          "metadata": {
            "tags": []
          },
          "execution_count": 25
        }
      ]
    },
    {
      "metadata": {
        "id": "rlKatCxrWw7m",
        "colab_type": "text"
      },
      "cell_type": "markdown",
      "source": [
        "Now we are ready to train the model:"
      ]
    },
    {
      "metadata": {
        "id": "vg3VOOpnU9KU",
        "colab_type": "code",
        "outputId": "834c44a4-14ac-4020-9cd7-040384e5a00f",
        "colab": {
          "base_uri": "https://localhost:8080/",
          "height": 238
        }
      },
      "cell_type": "code",
      "source": [
        "%%time\n",
        "epochs = 5\n",
        "validation_split = 0.2\n",
        "\n",
        "history = model.fit(X_train, Y_train, batch_size=128,\n",
        "          epochs=epochs, \n",
        "          validation_split=validation_split)"
      ],
      "execution_count": 0,
      "outputs": [
        {
          "output_type": "stream",
          "text": [
            "Train on 20000 samples, validate on 5000 samples\n",
            "Epoch 1/5\n",
            "20000/20000 [==============================] - 39s 2ms/step - loss: 0.4910 - acc: 0.7584 - val_loss: 0.3853 - val_acc: 0.8260\n",
            "Epoch 2/5\n",
            "20000/20000 [==============================] - 36s 2ms/step - loss: 0.3306 - acc: 0.8602 - val_loss: 0.3877 - val_acc: 0.8328\n",
            "Epoch 3/5\n",
            "20000/20000 [==============================] - 36s 2ms/step - loss: 0.2820 - acc: 0.8871 - val_loss: 0.4219 - val_acc: 0.8346\n",
            "Epoch 4/5\n",
            "20000/20000 [==============================] - 36s 2ms/step - loss: 0.2490 - acc: 0.9022 - val_loss: 0.3633 - val_acc: 0.8404\n",
            "Epoch 5/5\n",
            "20000/20000 [==============================] - 36s 2ms/step - loss: 0.2244 - acc: 0.9134 - val_loss: 0.4051 - val_acc: 0.8332\n",
            "CPU times: user 5min 28s, sys: 17.4 s, total: 5min 45s\n",
            "Wall time: 3min 6s\n"
          ],
          "name": "stdout"
        }
      ]
    },
    {
      "metadata": {
        "id": "EobADkPOYSnt",
        "colab_type": "text"
      },
      "cell_type": "markdown",
      "source": [
        "Finally, we visualise the training and validation error and check the accuracy."
      ]
    },
    {
      "metadata": {
        "id": "Tx_ThVxYVCkm",
        "colab_type": "code",
        "outputId": "15259a94-8132-4999-8953-7030c2e63681",
        "colab": {
          "base_uri": "https://localhost:8080/",
          "height": 435
        }
      },
      "cell_type": "code",
      "source": [
        "plt.figure(figsize=(5,3))\n",
        "plt.plot(history.epoch,history.history['loss'], label='training')\n",
        "plt.plot(history.epoch,history.history['val_loss'], label='validation')\n",
        "plt.title('loss')\n",
        "plt.legend(loc='best')\n",
        "\n",
        "plt.figure(figsize=(5,3))\n",
        "plt.plot(history.epoch,history.history['acc'], label='training')\n",
        "plt.plot(history.epoch,history.history['val_acc'], label='validation')\n",
        "plt.title('accuracy')\n",
        "plt.legend(loc='best');"
      ],
      "execution_count": 0,
      "outputs": [
        {
          "output_type": "display_data",
          "data": {
            "image/png": "[encoded data removed]",
            "text/plain": [
              "<Figure size 360x216 with 1 Axes>"
            ]
          },
          "metadata": {
            "tags": []
          }
        },
        {
          "output_type": "display_data",
          "data": {
            "image/png": "[encoded data removed]",
            "text/plain": [
              "<Figure size 360x216 with 1 Axes>"
            ]
          },
          "metadata": {
            "tags": []
          }
        }
      ]
    },
    {
      "metadata": {
        "id": "WjqXFp4dVI4d",
        "colab_type": "code",
        "outputId": "83919d64-ed9f-43af-d818-4dc3c82f3231",
        "colab": {
          "base_uri": "https://localhost:8080/",
          "height": 34
        }
      },
      "cell_type": "code",
      "source": [
        "scores = model.evaluate(X_test, Y_test, verbose=2)\n",
        "print(\"%s: %.2f%%\" % (model.metrics_names[1], scores[1]*100))"
      ],
      "execution_count": 0,
      "outputs": [
        {
          "output_type": "stream",
          "text": [
            "acc: 82.88%\n"
          ],
          "name": "stdout"
        }
      ]
    },
    {
      "metadata": {
        "id": "DYuHl8LUGciQ",
        "colab_type": "text"
      },
      "cell_type": "markdown",
      "source": [
        "\n",
        "# **One to Many - Image Captioning**\n",
        "This model takes as input a single element and gives as output multiple elements. For example, it can be used for image captioning. The task consist in describing with a text the content of an image."
      ]
    },
    {
      "metadata": {
        "id": "MRITV5jNcy5B",
        "colab_type": "text"
      },
      "cell_type": "markdown",
      "source": [
        "First, we import all the needed modules and re-arrange the input data as required for Keras methods. In particular, in this example, we import MNIST dataset and adapt the task of image captioning on it."
      ]
    },
    {
      "metadata": {
        "id": "Fol85dztZTyw",
        "colab_type": "code",
        "colab": {}
      },
      "cell_type": "code",
      "source": [
        "import keras\n",
        "import numpy as np\n",
        "from keras.datasets import mnist\n",
        "from keras.layers import Dense, Dropout\n",
        "from keras.layers.core import RepeatVector\n",
        "from keras.layers.recurrent import LSTM\n",
        "from keras.layers.wrappers import TimeDistributed\n",
        "from keras.utils.vis_utils import model_to_dot\n",
        "from keras.models import Sequential\n",
        "from IPython.display import SVG\n"
      ],
      "execution_count": 0,
      "outputs": []
    },
    {
      "metadata": {
        "id": "A0NF9j9fbYgR",
        "colab_type": "code",
        "outputId": "dce54ab3-d97f-454f-8f11-c4137f05bd6d",
        "colab": {
          "base_uri": "https://localhost:8080/",
          "height": 51
        }
      },
      "cell_type": "code",
      "source": [
        "n_classes = 10\n",
        "batch_size = 128\n",
        "epochs = 20\n",
        "\n",
        "(X_train, y_train), (X_test, y_test) = mnist.load_data()\n",
        "X_train = X_train.reshape(60000, 784)\n",
        "X_test = X_test.reshape(10000, 784)\n",
        "X_train = X_train.astype('float32')\n",
        "X_test = X_test.astype('float32')\n",
        "X_train /= 255\n",
        "X_test /= 255\n",
        "print(X_train.shape[0], 'train samples')\n",
        "print(X_test.shape[0], 'test samples')\n",
        "\n",
        "y_train = keras.utils.to_categorical(y_train, n_classes)\n",
        "y_test = keras.utils.to_categorical(y_test, n_classes)\n",
        "\n",
        "vocab_size = 26\n",
        "\n"
      ],
      "execution_count": 0,
      "outputs": [
        {
          "output_type": "stream",
          "text": [
            "(60000, 'train samples')\n",
            "(10000, 'test samples')\n"
          ],
          "name": "stdout"
        }
      ]
    },
    {
      "metadata": {
        "id": "ijtr6D1CelGd",
        "colab_type": "text"
      },
      "cell_type": "markdown",
      "source": [
        "The next two lines of codes are useful to adapt the dataset for our goal. It converts each label to a binary vector representing the caption."
      ]
    },
    {
      "metadata": {
        "id": "gV-qzHGDdVCM",
        "colab_type": "code",
        "colab": {}
      },
      "cell_type": "code",
      "source": [
        "\n",
        "y_train = np.reshape(np.tile(y_train, (vocab_size,)), (-1, 10, vocab_size))\n",
        "y_test = np.reshape(np.tile(y_test, (vocab_size,)), (-1, 10, vocab_size))\n"
      ],
      "execution_count": 0,
      "outputs": []
    },
    {
      "metadata": {
        "id": "rNm-FuFnfus7",
        "colab_type": "text"
      },
      "cell_type": "markdown",
      "source": [
        "The trick here to implement One to Many RNNs architecture is using the TimeDistributed wrapper. It applies a dense layer to each inner state in order to produce multiple outputs, representing the final caption."
      ]
    },
    {
      "metadata": {
        "id": "Xiyu6JokbeIQ",
        "colab_type": "code",
        "outputId": "cf9b4b1a-60a3-4fb8-bff7-d895168b124b",
        "colab": {
          "base_uri": "https://localhost:8080/",
          "height": 856
        }
      },
      "cell_type": "code",
      "source": [
        "\n",
        "one_to_many = Sequential()\n",
        "one_to_many.add(Dense(512, activation='relu', input_shape=(784,)))\n",
        "one_to_many.add(Dropout(0.2))\n",
        "one_to_many.add(Dense(512, activation='relu'))\n",
        "one_to_many.add(Dropout(0.2))\n",
        "one_to_many.add(RepeatVector(10))\n",
        "one_to_many.add(LSTM(11, return_sequences=True))\n",
        "one_to_many.add(TimeDistributed(Dense(vocab_size, activation='softmax')))\n",
        "\n",
        "\n",
        "one_to_many.compile(loss='categorical_crossentropy',\n",
        "          optimizer='adam',\n",
        "          metrics=['accuracy'])\n",
        "SVG(model_to_dot(one_to_many, show_shapes=True).create(prog='dot', format='svg'))"
      ],
      "execution_count": 0,
      "outputs": [
        {
          "output_type": "execute_result",
          "data": {
            "text/plain": [
              "<IPython.core.display.SVG object>"
            ],
            "image/svg+xml": "<svg height=\"626pt\" viewBox=\"0.00 0.00 500.00 626.00\" width=\"500pt\" xmlns=\"http://www.w3.org/2000/svg\" xmlns:xlink=\"http://www.w3.org/1999/xlink\">\n<g class=\"graph\" id=\"graph0\" transform=\"scale(1 1) rotate(0) translate(4 622)\">\n<title>G</title>\n<polygon fill=\"#ffffff\" points=\"-4,4 -4,-622 496,-622 496,4 -4,4\" stroke=\"transparent\"/>\n<!-- 140476524650896 -->\n<g class=\"node\" id=\"node1\">\n<title>140476524650896</title>\n<polygon fill=\"none\" points=\"120,-498.5 120,-544.5 372,-544.5 372,-498.5 120,-498.5\" stroke=\"#000000\"/>\n<text fill=\"#000000\" font-family=\"Times,serif\" font-size=\"14.00\" text-anchor=\"middle\" x=\"173.5\" y=\"-517.8\">dense_9: Dense</text>\n<polyline fill=\"none\" points=\"227,-498.5 227,-544.5 \" stroke=\"#000000\"/>\n<text fill=\"#000000\" font-family=\"Times,serif\" font-size=\"14.00\" text-anchor=\"middle\" x=\"256\" y=\"-529.3\">input:</text>\n<polyline fill=\"none\" points=\"227,-521.5 285,-521.5 \" stroke=\"#000000\"/>\n<text fill=\"#000000\" font-family=\"Times,serif\" font-size=\"14.00\" text-anchor=\"middle\" x=\"256\" y=\"-506.3\">output:</text>\n<polyline fill=\"none\" points=\"285,-498.5 285,-544.5 \" stroke=\"#000000\"/>\n<text fill=\"#000000\" font-family=\"Times,serif\" font-size=\"14.00\" text-anchor=\"middle\" x=\"328.5\" y=\"-529.3\">(None, 784)</text>\n<polyline fill=\"none\" points=\"285,-521.5 372,-521.5 \" stroke=\"#000000\"/>\n<text fill=\"#000000\" font-family=\"Times,serif\" font-size=\"14.00\" text-anchor=\"middle\" x=\"328.5\" y=\"-506.3\">(None, 512)</text>\n</g>\n<!-- 140476524651152 -->\n<g class=\"node\" id=\"node2\">\n<title>140476524651152</title>\n<polygon fill=\"none\" points=\"106.5,-415.5 106.5,-461.5 385.5,-461.5 385.5,-415.5 106.5,-415.5\" stroke=\"#000000\"/>\n<text fill=\"#000000\" font-family=\"Times,serif\" font-size=\"14.00\" text-anchor=\"middle\" x=\"173.5\" y=\"-434.8\">dropout_5: Dropout</text>\n<polyline fill=\"none\" points=\"240.5,-415.5 240.5,-461.5 \" stroke=\"#000000\"/>\n<text fill=\"#000000\" font-family=\"Times,serif\" font-size=\"14.00\" text-anchor=\"middle\" x=\"269.5\" y=\"-446.3\">input:</text>\n<polyline fill=\"none\" points=\"240.5,-438.5 298.5,-438.5 \" stroke=\"#000000\"/>\n<text fill=\"#000000\" font-family=\"Times,serif\" font-size=\"14.00\" text-anchor=\"middle\" x=\"269.5\" y=\"-423.3\">output:</text>\n<polyline fill=\"none\" points=\"298.5,-415.5 298.5,-461.5 \" stroke=\"#000000\"/>\n<text fill=\"#000000\" font-family=\"Times,serif\" font-size=\"14.00\" text-anchor=\"middle\" x=\"342\" y=\"-446.3\">(None, 512)</text>\n<polyline fill=\"none\" points=\"298.5,-438.5 385.5,-438.5 \" stroke=\"#000000\"/>\n<text fill=\"#000000\" font-family=\"Times,serif\" font-size=\"14.00\" text-anchor=\"middle\" x=\"342\" y=\"-423.3\">(None, 512)</text>\n</g>\n<!-- 140476524650896&#45;&gt;140476524651152 -->\n<g class=\"edge\" id=\"edge2\">\n<title>140476524650896-&gt;140476524651152</title>\n<path d=\"M246,-498.3799C246,-490.1745 246,-480.7679 246,-471.8786\" fill=\"none\" stroke=\"#000000\"/>\n<polygon fill=\"#000000\" points=\"249.5001,-471.784 246,-461.784 242.5001,-471.784 249.5001,-471.784\" stroke=\"#000000\"/>\n</g>\n<!-- 140476462176592 -->\n<g class=\"node\" id=\"node3\">\n<title>140476462176592</title>\n<polygon fill=\"none\" points=\"116.5,-332.5 116.5,-378.5 375.5,-378.5 375.5,-332.5 116.5,-332.5\" stroke=\"#000000\"/>\n<text fill=\"#000000\" font-family=\"Times,serif\" font-size=\"14.00\" text-anchor=\"middle\" x=\"173.5\" y=\"-351.8\">dense_10: Dense</text>\n<polyline fill=\"none\" points=\"230.5,-332.5 230.5,-378.5 \" stroke=\"#000000\"/>\n<text fill=\"#000000\" font-family=\"Times,serif\" font-size=\"14.00\" text-anchor=\"middle\" x=\"259.5\" y=\"-363.3\">input:</text>\n<polyline fill=\"none\" points=\"230.5,-355.5 288.5,-355.5 \" stroke=\"#000000\"/>\n<text fill=\"#000000\" font-family=\"Times,serif\" font-size=\"14.00\" text-anchor=\"middle\" x=\"259.5\" y=\"-340.3\">output:</text>\n<polyline fill=\"none\" points=\"288.5,-332.5 288.5,-378.5 \" stroke=\"#000000\"/>\n<text fill=\"#000000\" font-family=\"Times,serif\" font-size=\"14.00\" text-anchor=\"middle\" x=\"332\" y=\"-363.3\">(None, 512)</text>\n<polyline fill=\"none\" points=\"288.5,-355.5 375.5,-355.5 \" stroke=\"#000000\"/>\n<text fill=\"#000000\" font-family=\"Times,serif\" font-size=\"14.00\" text-anchor=\"middle\" x=\"332\" y=\"-340.3\">(None, 512)</text>\n</g>\n<!-- 140476524651152&#45;&gt;140476462176592 -->\n<g class=\"edge\" id=\"edge3\">\n<title>140476524651152-&gt;140476462176592</title>\n<path d=\"M246,-415.3799C246,-407.1745 246,-397.7679 246,-388.8786\" fill=\"none\" stroke=\"#000000\"/>\n<polygon fill=\"#000000\" points=\"249.5001,-388.784 246,-378.784 242.5001,-388.784 249.5001,-388.784\" stroke=\"#000000\"/>\n</g>\n<!-- 140476524651088 -->\n<g class=\"node\" id=\"node4\">\n<title>140476524651088</title>\n<polygon fill=\"none\" points=\"106.5,-249.5 106.5,-295.5 385.5,-295.5 385.5,-249.5 106.5,-249.5\" stroke=\"#000000\"/>\n<text fill=\"#000000\" font-family=\"Times,serif\" font-size=\"14.00\" text-anchor=\"middle\" x=\"173.5\" y=\"-268.8\">dropout_6: Dropout</text>\n<polyline fill=\"none\" points=\"240.5,-249.5 240.5,-295.5 \" stroke=\"#000000\"/>\n<text fill=\"#000000\" font-family=\"Times,serif\" font-size=\"14.00\" text-anchor=\"middle\" x=\"269.5\" y=\"-280.3\">input:</text>\n<polyline fill=\"none\" points=\"240.5,-272.5 298.5,-272.5 \" stroke=\"#000000\"/>\n<text fill=\"#000000\" font-family=\"Times,serif\" font-size=\"14.00\" text-anchor=\"middle\" x=\"269.5\" y=\"-257.3\">output:</text>\n<polyline fill=\"none\" points=\"298.5,-249.5 298.5,-295.5 \" stroke=\"#000000\"/>\n<text fill=\"#000000\" font-family=\"Times,serif\" font-size=\"14.00\" text-anchor=\"middle\" x=\"342\" y=\"-280.3\">(None, 512)</text>\n<polyline fill=\"none\" points=\"298.5,-272.5 385.5,-272.5 \" stroke=\"#000000\"/>\n<text fill=\"#000000\" font-family=\"Times,serif\" font-size=\"14.00\" text-anchor=\"middle\" x=\"342\" y=\"-257.3\">(None, 512)</text>\n</g>\n<!-- 140476462176592&#45;&gt;140476524651088 -->\n<g class=\"edge\" id=\"edge4\">\n<title>140476462176592-&gt;140476524651088</title>\n<path d=\"M246,-332.3799C246,-324.1745 246,-314.7679 246,-305.8786\" fill=\"none\" stroke=\"#000000\"/>\n<polygon fill=\"#000000\" points=\"249.5001,-305.784 246,-295.784 242.5001,-305.784 249.5001,-305.784\" stroke=\"#000000\"/>\n</g>\n<!-- 140476492665296 -->\n<g class=\"node\" id=\"node5\">\n<title>140476492665296</title>\n<polygon fill=\"none\" points=\"66.5,-166.5 66.5,-212.5 425.5,-212.5 425.5,-166.5 66.5,-166.5\" stroke=\"#000000\"/>\n<text fill=\"#000000\" font-family=\"Times,serif\" font-size=\"14.00\" text-anchor=\"middle\" x=\"162\" y=\"-185.8\">repeat_vector_1: RepeatVector</text>\n<polyline fill=\"none\" points=\"257.5,-166.5 257.5,-212.5 \" stroke=\"#000000\"/>\n<text fill=\"#000000\" font-family=\"Times,serif\" font-size=\"14.00\" text-anchor=\"middle\" x=\"286.5\" y=\"-197.3\">input:</text>\n<polyline fill=\"none\" points=\"257.5,-189.5 315.5,-189.5 \" stroke=\"#000000\"/>\n<text fill=\"#000000\" font-family=\"Times,serif\" font-size=\"14.00\" text-anchor=\"middle\" x=\"286.5\" y=\"-174.3\">output:</text>\n<polyline fill=\"none\" points=\"315.5,-166.5 315.5,-212.5 \" stroke=\"#000000\"/>\n<text fill=\"#000000\" font-family=\"Times,serif\" font-size=\"14.00\" text-anchor=\"middle\" x=\"370.5\" y=\"-197.3\">(None, 512)</text>\n<polyline fill=\"none\" points=\"315.5,-189.5 425.5,-189.5 \" stroke=\"#000000\"/>\n<text fill=\"#000000\" font-family=\"Times,serif\" font-size=\"14.00\" text-anchor=\"middle\" x=\"370.5\" y=\"-174.3\">(None, 10, 512)</text>\n</g>\n<!-- 140476524651088&#45;&gt;140476492665296 -->\n<g class=\"edge\" id=\"edge5\">\n<title>140476524651088-&gt;140476492665296</title>\n<path d=\"M246,-249.3799C246,-241.1745 246,-231.7679 246,-222.8786\" fill=\"none\" stroke=\"#000000\"/>\n<polygon fill=\"#000000\" points=\"249.5001,-222.784 246,-212.784 242.5001,-222.784 249.5001,-222.784\" stroke=\"#000000\"/>\n</g>\n<!-- 140476462267792 -->\n<g class=\"node\" id=\"node6\">\n<title>140476462267792</title>\n<polygon fill=\"none\" points=\"107.5,-83.5 107.5,-129.5 384.5,-129.5 384.5,-83.5 107.5,-83.5\" stroke=\"#000000\"/>\n<text fill=\"#000000\" font-family=\"Times,serif\" font-size=\"14.00\" text-anchor=\"middle\" x=\"162\" y=\"-102.8\">lstm_11: LSTM</text>\n<polyline fill=\"none\" points=\"216.5,-83.5 216.5,-129.5 \" stroke=\"#000000\"/>\n<text fill=\"#000000\" font-family=\"Times,serif\" font-size=\"14.00\" text-anchor=\"middle\" x=\"245.5\" y=\"-114.3\">input:</text>\n<polyline fill=\"none\" points=\"216.5,-106.5 274.5,-106.5 \" stroke=\"#000000\"/>\n<text fill=\"#000000\" font-family=\"Times,serif\" font-size=\"14.00\" text-anchor=\"middle\" x=\"245.5\" y=\"-91.3\">output:</text>\n<polyline fill=\"none\" points=\"274.5,-83.5 274.5,-129.5 \" stroke=\"#000000\"/>\n<text fill=\"#000000\" font-family=\"Times,serif\" font-size=\"14.00\" text-anchor=\"middle\" x=\"329.5\" y=\"-114.3\">(None, 10, 512)</text>\n<polyline fill=\"none\" points=\"274.5,-106.5 384.5,-106.5 \" stroke=\"#000000\"/>\n<text fill=\"#000000\" font-family=\"Times,serif\" font-size=\"14.00\" text-anchor=\"middle\" x=\"329.5\" y=\"-91.3\">(None, 10, 11)</text>\n</g>\n<!-- 140476492665296&#45;&gt;140476462267792 -->\n<g class=\"edge\" id=\"edge6\">\n<title>140476492665296-&gt;140476462267792</title>\n<path d=\"M246,-166.3799C246,-158.1745 246,-148.7679 246,-139.8786\" fill=\"none\" stroke=\"#000000\"/>\n<polygon fill=\"#000000\" points=\"249.5001,-139.784 246,-129.784 242.5001,-139.784 249.5001,-139.784\" stroke=\"#000000\"/>\n</g>\n<!-- 140476462067408 -->\n<g class=\"node\" id=\"node7\">\n<title>140476462067408</title>\n<polygon fill=\"none\" points=\"0,-.5 0,-46.5 492,-46.5 492,-.5 0,-.5\" stroke=\"#000000\"/>\n<text fill=\"#000000\" font-family=\"Times,serif\" font-size=\"14.00\" text-anchor=\"middle\" x=\"166\" y=\"-19.8\">time_distributed_1(dense_11): TimeDistributed(Dense)</text>\n<polyline fill=\"none\" points=\"332,-.5 332,-46.5 \" stroke=\"#000000\"/>\n<text fill=\"#000000\" font-family=\"Times,serif\" font-size=\"14.00\" text-anchor=\"middle\" x=\"361\" y=\"-31.3\">input:</text>\n<polyline fill=\"none\" points=\"332,-23.5 390,-23.5 \" stroke=\"#000000\"/>\n<text fill=\"#000000\" font-family=\"Times,serif\" font-size=\"14.00\" text-anchor=\"middle\" x=\"361\" y=\"-8.3\">output:</text>\n<polyline fill=\"none\" points=\"390,-.5 390,-46.5 \" stroke=\"#000000\"/>\n<text fill=\"#000000\" font-family=\"Times,serif\" font-size=\"14.00\" text-anchor=\"middle\" x=\"441\" y=\"-31.3\">(None, 10, 11)</text>\n<polyline fill=\"none\" points=\"390,-23.5 492,-23.5 \" stroke=\"#000000\"/>\n<text fill=\"#000000\" font-family=\"Times,serif\" font-size=\"14.00\" text-anchor=\"middle\" x=\"441\" y=\"-8.3\">(None, 10, 26)</text>\n</g>\n<!-- 140476462267792&#45;&gt;140476462067408 -->\n<g class=\"edge\" id=\"edge7\">\n<title>140476462267792-&gt;140476462067408</title>\n<path d=\"M246,-83.3799C246,-75.1745 246,-65.7679 246,-56.8786\" fill=\"none\" stroke=\"#000000\"/>\n<polygon fill=\"#000000\" points=\"249.5001,-56.784 246,-46.784 242.5001,-56.784 249.5001,-56.784\" stroke=\"#000000\"/>\n</g>\n<!-- 140476524650768 -->\n<g class=\"node\" id=\"node8\">\n<title>140476524650768</title>\n<polygon fill=\"none\" points=\"181.5,-581.5 181.5,-617.5 310.5,-617.5 310.5,-581.5 181.5,-581.5\" stroke=\"#000000\"/>\n<text fill=\"#000000\" font-family=\"Times,serif\" font-size=\"14.00\" text-anchor=\"middle\" x=\"246\" y=\"-595.8\">140476524650768</text>\n</g>\n<!-- 140476524650768&#45;&gt;140476524650896 -->\n<g class=\"edge\" id=\"edge1\">\n<title>140476524650768-&gt;140476524650896</title>\n<path d=\"M246,-581.4092C246,-573.4308 246,-563.795 246,-554.606\" fill=\"none\" stroke=\"#000000\"/>\n<polygon fill=\"#000000\" points=\"249.5001,-554.5333 246,-544.5333 242.5001,-554.5334 249.5001,-554.5333\" stroke=\"#000000\"/>\n</g>\n</g>\n</svg>"
          },
          "metadata": {
            "tags": []
          },
          "execution_count": 31
        }
      ]
    },
    {
      "metadata": {
        "id": "9Me64-ephHNk",
        "colab_type": "text"
      },
      "cell_type": "markdown",
      "source": [
        "Finally, we perform the training and the caption prediction."
      ]
    },
    {
      "metadata": {
        "id": "cVb-1jD3bm5a",
        "colab_type": "code",
        "outputId": "24c4c873-80bc-4f04-cbcd-fa9f04aa0668",
        "colab": {
          "base_uri": "https://localhost:8080/",
          "height": 2159
        }
      },
      "cell_type": "code",
      "source": [
        "history = one_to_many.fit(X_train, y_train,\n",
        "                batch_size=batch_size,\n",
        "                epochs=epochs,\n",
        "                verbose=1,\n",
        "                validation_data=(X_test, y_test))\n",
        "pred = one_to_many.predict(X_test)\n",
        "print(pred)"
      ],
      "execution_count": 0,
      "outputs": [
        {
          "output_type": "stream",
          "text": [
            "Train on 60000 samples, validate on 10000 samples\n",
            "Epoch 1/20\n",
            "60000/60000 [==============================] - 27s 442us/step - loss: 7.0852 - acc: 0.0743 - val_loss: 6.7973 - val_acc: 0.0920\n",
            "Epoch 2/20\n",
            "60000/60000 [==============================] - 24s 408us/step - loss: 6.6633 - acc: 0.1140 - val_loss: 6.4426 - val_acc: 0.1667\n",
            "Epoch 3/20\n",
            "60000/60000 [==============================] - 25s 414us/step - loss: 5.3559 - acc: 0.2683 - val_loss: 4.1423 - val_acc: 0.4066\n",
            "Epoch 4/20\n",
            "60000/60000 [==============================] - 25s 419us/step - loss: 3.6145 - acc: 0.3842 - val_loss: 3.2082 - val_acc: 0.3946\n",
            "Epoch 5/20\n",
            "60000/60000 [==============================] - 25s 413us/step - loss: 3.1670 - acc: 0.3686 - val_loss: 3.0726 - val_acc: 0.3653\n",
            "Epoch 6/20\n",
            "60000/60000 [==============================] - 25s 416us/step - loss: 3.0046 - acc: 0.3687 - val_loss: 2.9559 - val_acc: 0.3601\n",
            "Epoch 7/20\n",
            "60000/60000 [==============================] - 25s 420us/step - loss: 2.9033 - acc: 0.3741 - val_loss: 2.9205 - val_acc: 0.3791\n",
            "Epoch 8/20\n",
            "60000/60000 [==============================] - 26s 427us/step - loss: 2.8725 - acc: 0.3760 - val_loss: 2.9088 - val_acc: 0.3699\n",
            "Epoch 9/20\n",
            "60000/60000 [==============================] - 26s 427us/step - loss: 2.8473 - acc: 0.3740 - val_loss: 2.8706 - val_acc: 0.3817\n",
            "Epoch 10/20\n",
            "60000/60000 [==============================] - 26s 427us/step - loss: 2.8168 - acc: 0.3696 - val_loss: 2.8628 - val_acc: 0.3891\n",
            "Epoch 11/20\n",
            "60000/60000 [==============================] - 26s 430us/step - loss: 2.7911 - acc: 0.3744 - val_loss: 2.8560 - val_acc: 0.3647\n",
            "Epoch 12/20\n",
            "60000/60000 [==============================] - 26s 432us/step - loss: 2.7697 - acc: 0.3805 - val_loss: 2.8154 - val_acc: 0.4300\n",
            "Epoch 13/20\n",
            "60000/60000 [==============================] - 26s 433us/step - loss: 2.7627 - acc: 0.3919 - val_loss: 2.8591 - val_acc: 0.4084\n",
            "Epoch 14/20\n",
            "60000/60000 [==============================] - 26s 427us/step - loss: 2.7334 - acc: 0.3992 - val_loss: 2.8298 - val_acc: 0.3967\n",
            "Epoch 15/20\n",
            "60000/60000 [==============================] - 25s 422us/step - loss: 2.7313 - acc: 0.4022 - val_loss: 2.8073 - val_acc: 0.3977\n",
            "Epoch 16/20\n",
            "60000/60000 [==============================] - 26s 425us/step - loss: 2.7172 - acc: 0.4032 - val_loss: 2.8204 - val_acc: 0.3773\n",
            "Epoch 17/20\n",
            "60000/60000 [==============================] - 26s 425us/step - loss: 2.7119 - acc: 0.3994 - val_loss: 2.8818 - val_acc: 0.3953\n",
            "Epoch 18/20\n",
            "60000/60000 [==============================] - 25s 418us/step - loss: 2.7154 - acc: 0.3934 - val_loss: 2.7893 - val_acc: 0.3646\n",
            "Epoch 19/20\n",
            "60000/60000 [==============================] - 25s 412us/step - loss: 2.6850 - acc: 0.3997 - val_loss: 2.8020 - val_acc: 0.3971\n",
            "Epoch 20/20\n",
            "60000/60000 [==============================] - 25s 414us/step - loss: 2.6887 - acc: 0.4043 - val_loss: 2.8171 - val_acc: 0.3997\n",
            "[[[4.39377982e-05 6.01977983e-04 5.24517964e-06 ... 2.68666452e-04\n",
            "   1.11300742e-05 2.92838486e-05]\n",
            "  [5.45413677e-05 3.32815439e-01 1.50505102e-08 ... 1.10603901e-06\n",
            "   3.56783421e-05 1.51908826e-04]\n",
            "  [3.37199272e-05 7.79217371e-05 5.67469272e-09 ... 2.14739956e-07\n",
            "   4.11169458e-06 3.33151013e-01]\n",
            "  ...\n",
            "  [2.96343114e-05 6.18813647e-05 4.75719464e-09 ... 2.14722135e-07\n",
            "   2.96619214e-06 3.33251745e-01]\n",
            "  [3.00617415e-08 1.10543773e-07 2.86062732e-06 ... 4.18802141e-04\n",
            "   6.72678425e-07 1.12096015e-04]\n",
            "  [3.75541553e-09 5.20210733e-07 5.15776401e-06 ... 3.32714617e-01\n",
            "   1.41898113e-07 4.99427017e-07]]\n",
            "\n",
            " [[1.19218734e-04 8.60357773e-07 3.32096815e-01 ... 7.09006708e-05\n",
            "   1.76910471e-04 8.73363661e-06]\n",
            "  [3.78143450e-04 2.50449204e-07 1.71899781e-04 ... 1.10212859e-05\n",
            "   8.78354149e-06 1.83286147e-06]\n",
            "  [3.32914263e-01 1.54931895e-05 2.55049667e-06 ... 5.52386894e-07\n",
            "   2.18201851e-04 6.71492671e-05]\n",
            "  ...\n",
            "  [3.32891285e-01 1.46505881e-05 2.96479266e-06 ... 7.03337605e-07\n",
            "   2.00368348e-04 6.31899748e-05]\n",
            "  [6.55426993e-04 5.99474843e-05 5.99306759e-07 ... 2.90345383e-08\n",
            "   3.32891405e-01 1.69291816e-05]\n",
            "  [8.25337665e-08 3.11600415e-05 5.76569146e-05 ... 7.69480539e-06\n",
            "   2.87596165e-04 5.30673060e-06]]\n",
            "\n",
            " [[4.92125182e-05 3.32266301e-01 5.88785838e-08 ... 1.93005076e-06\n",
            "   1.17027783e-04 2.37023211e-04]\n",
            "  [5.74978840e-05 2.51005607e-04 4.65749430e-08 ... 1.84143204e-07\n",
            "   1.14622399e-05 3.32711309e-01]\n",
            "  [1.51898291e-07 5.68583073e-06 1.80109419e-06 ... 3.49689071e-04\n",
            "   2.26902657e-07 2.69546086e-04]\n",
            "  ...\n",
            "  [4.26783942e-08 2.05831429e-06 3.87556111e-06 ... 2.74475024e-04\n",
            "   1.21905913e-07 1.05415849e-04]\n",
            "  [7.60601893e-09 5.28424039e-07 3.69580848e-05 ... 3.33007634e-01\n",
            "   1.01573248e-08 2.65209081e-07]\n",
            "  [4.45194109e-06 2.33506638e-04 8.88083305e-05 ... 1.16881267e-04\n",
            "   4.50234239e-07 1.12908685e-06]]\n",
            "\n",
            " ...\n",
            "\n",
            " [[1.32940666e-04 2.64215068e-05 1.13830019e-05 ... 7.57920304e-07\n",
            "   3.33262295e-01 8.79285217e-05]\n",
            "  [5.37342792e-08 1.03481000e-06 7.29922904e-04 ... 2.63300626e-06\n",
            "   7.13189002e-05 5.55189558e-07]\n",
            "  [2.44485648e-07 2.34337172e-09 3.33309472e-01 ... 6.65390507e-06\n",
            "   9.03407269e-08 3.32471927e-07]\n",
            "  ...\n",
            "  [2.86981901e-07 2.03043515e-09 3.33281308e-01 ... 5.94153698e-06\n",
            "   9.28106587e-08 4.14819937e-07]\n",
            "  [2.14359112e-04 4.07183762e-08 6.54250733e-04 ... 4.32617708e-06\n",
            "   8.15288388e-07 4.81357256e-06]\n",
            "  [3.32907975e-01 7.64770903e-06 2.61776199e-06 ... 3.07649088e-07\n",
            "   7.96376917e-05 1.22769299e-04]]\n",
            "\n",
            " [[1.20154757e-04 2.57524371e-04 2.99099520e-06 ... 6.18675631e-06\n",
            "   1.51423621e-04 3.31993252e-01]\n",
            "  [3.62680943e-08 1.94059623e-07 1.75922396e-05 ... 5.20052388e-04\n",
            "   1.87857518e-06 1.88760212e-04]\n",
            "  [1.00169562e-08 2.12573568e-07 4.56284470e-05 ... 3.33035022e-01\n",
            "   7.79807419e-09 3.06091920e-07]\n",
            "  ...\n",
            "  [5.51761348e-09 1.99402777e-07 4.49901818e-05 ... 3.33047926e-01\n",
            "   4.43333237e-09 1.75842985e-07]\n",
            "  [3.90873265e-06 1.94088163e-04 1.90591280e-04 ... 4.28377505e-04\n",
            "   1.19201547e-06 9.76655883e-07]\n",
            "  [1.55022517e-05 3.31913471e-01 1.53595934e-07 ... 1.60791042e-05\n",
            "   2.51391903e-04 1.21982617e-03]]\n",
            "\n",
            " [[6.11029391e-04 1.14233717e-05 7.24464073e-04 ... 2.75429447e-05\n",
            "   4.60819610e-05 1.62402284e-06]\n",
            "  [3.32889706e-01 7.67195379e-05 1.74923287e-06 ... 1.77157801e-06\n",
            "   2.57231673e-04 1.01655050e-05]\n",
            "  [4.99754038e-04 7.62927957e-05 6.73573084e-07 ... 1.08185141e-07\n",
            "   3.33002776e-01 1.96627479e-06]\n",
            "  ...\n",
            "  [5.40009001e-04 7.18484371e-05 5.50682557e-07 ... 7.81090534e-08\n",
            "   3.33102167e-01 1.83800648e-06]\n",
            "  [4.66713544e-07 5.06534016e-05 1.66677171e-04 ... 8.56470979e-06\n",
            "   3.41297855e-04 1.27993891e-08]\n",
            "  [7.50609433e-06 1.82552540e-07 3.32489878e-01 ... 1.07651635e-04\n",
            "   1.34274831e-06 1.93732461e-08]]]\n"
          ],
          "name": "stdout"
        }
      ]
    }
  ]
}