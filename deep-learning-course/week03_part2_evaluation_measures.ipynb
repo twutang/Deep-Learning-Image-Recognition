{
  "nbformat": 4,
  "nbformat_minor": 0,
  "metadata": {
    "colab": {
      "name": "Copy of week03_part_2_evaluation_measures.ipynb",
      "version": "0.3.2",
      "provenance": [],
      "collapsed_sections": [],
      "include_colab_link": true
    },
    "kernelspec": {
      "name": "python2",
      "display_name": "Python 2"
    },
    "accelerator": "GPU"
  },
  "cells": [
    {
      "cell_type": "markdown",
      "metadata": {
        "id": "view-in-github",
        "colab_type": "text"
      },
      "source": [
        "<a href=\"https://colab.research.google.com/github/MatchLab-Imperial/deep-learning-course/blob/master/week03_part2_evaluation_measures.ipynb\" target=\"_parent\"><img src=\"https://colab.research.google.com/assets/colab-badge.svg\" alt=\"Open In Colab\"/></a>"
      ]
    },
    {
      "metadata": {
        "id": "IhXUenVgBmjf",
        "colab_type": "text"
      },
      "cell_type": "markdown",
      "source": [
        "# Evaluation measures\n",
        "In this tutorial, we will learn how to use some evaluation measures such as ROC, AUC, R@k and MAP for classification and retrieval problems. Once you finished the tutorial, please do some practices with the **exercises** you can find below.\n",
        "\n",
        "\n"
      ]
    },
    {
      "metadata": {
        "id": "zwo-H2oSfQ0s",
        "colab_type": "text"
      },
      "cell_type": "markdown",
      "source": [
        "We will start with the classification problem,  first we import the MNIST dataset:\n",
        "\n",
        "\n",
        "\n"
      ]
    },
    {
      "metadata": {
        "id": "54qmm4DAAIHC",
        "colab_type": "code",
        "outputId": "45fc7057-43cc-49ef-bedf-4e5118590e43",
        "colab": {
          "base_uri": "https://localhost:8080/",
          "height": 68
        }
      },
      "cell_type": "code",
      "source": [
        "# importing some modules\n",
        "import numpy as np\n",
        "np.random.seed(1337)  # for reproducibility !!!\n",
        "from keras.datasets import mnist\n",
        "from keras.models import Sequential\n",
        "from keras.layers import Dense, Dropout, Activation, Flatten\n",
        "from keras.layers import Conv2D, MaxPooling2D\n",
        "from keras.utils import np_utils\n",
        "import matplotlib.pyplot as plt\n",
        "import keras\n",
        "from keras.layers.normalization import BatchNormalization\n",
        "\n",
        "# network parameters\n",
        "batch_size = 128\n",
        "n_classes = 10\n",
        "n_epochs = 12\n",
        "img_rows, img_cols = 28, 28\n",
        "n_filters = 32\n",
        "pool_size = (2, 2)\n",
        "kernel_size = (3, 3)\n",
        "\n",
        "# import training and testing data\n",
        "(x_train, y_train),(x_test, y_test) = mnist.load_data()\n",
        "\n",
        "# reshape into matrices training and testing data\n",
        "X_train = x_train.reshape(x_train.shape[0], 1, img_rows, img_cols)\n",
        "X_test = x_test.reshape(x_test.shape[0], 1, img_rows, img_cols)\n",
        "\n",
        "input_shape = (1, img_rows, img_cols)\n",
        "\n",
        "X_train = X_train.astype('float32')\n",
        "X_test = X_test.astype('float32')\n",
        "X_train /= 255\n",
        "X_test /= 255\n",
        "\n",
        "print 'X_train size:', X_train.shape \n",
        "print 'number of training samples',X_train.shape[0]\n",
        "print 'number of testing samples',X_test.shape[0]\n",
        "\n",
        "# convert class vectors to binary class matrices for efficiency reasons\n",
        "Y_train = np_utils.to_categorical(y_train, n_classes)\n",
        "Y_test = np_utils.to_categorical(y_test, n_classes)\n",
        "      \n"
      ],
      "execution_count": 0,
      "outputs": [
        {
          "output_type": "stream",
          "text": [
            "X_train size: (60000, 1, 28, 28)\n",
            "number of training samples 60000\n",
            "number of testing samples 10000\n"
          ],
          "name": "stdout"
        }
      ]
    },
    {
      "metadata": {
        "id": "uf8HknrvhFwV",
        "colab_type": "text"
      },
      "cell_type": "markdown",
      "source": [
        " ... second, we define a small CNN architecture to classifiy digits.\n",
        "\n"
      ]
    },
    {
      "metadata": {
        "id": "E_tMO7qkB5CX",
        "colab_type": "code",
        "colab": {}
      },
      "cell_type": "code",
      "source": [
        "model_cnn = Sequential()\n",
        "\n",
        "model_cnn.add(Conv2D(n_filters, (kernel_size[0], kernel_size[1]),\n",
        "                        padding='valid', input_shape=input_shape, data_format = 'channels_first'))\n",
        "model_cnn.add(Activation('relu'))\n",
        "model_cnn.add(MaxPooling2D(pool_size=pool_size))\n",
        "model_cnn.add(Dropout(0.25))\n",
        "model_cnn.add(Flatten())\n",
        "model_cnn.add(Dense(n_classes))\n",
        "model_cnn.add(Activation('softmax'))\n",
        "\n",
        "model_cnn.compile(loss='categorical_crossentropy',\n",
        "              optimizer='adadelta',\n",
        "              metrics=['accuracy'])"
      ],
      "execution_count": 0,
      "outputs": []
    },
    {
      "metadata": {
        "id": "O239JznjB7Cw",
        "colab_type": "code",
        "outputId": "f79fcaeb-0c77-4a61-f461-5bfa0fbf7ce9",
        "colab": {
          "base_uri": "https://localhost:8080/",
          "height": 374
        }
      },
      "cell_type": "code",
      "source": [
        "model.summary()"
      ],
      "execution_count": 0,
      "outputs": [
        {
          "output_type": "stream",
          "text": [
            "_________________________________________________________________\n",
            "Layer (type)                 Output Shape              Param #   \n",
            "=================================================================\n",
            "conv2d_10 (Conv2D)           (None, 32, 26, 26)        320       \n",
            "_________________________________________________________________\n",
            "activation_14 (Activation)   (None, 32, 26, 26)        0         \n",
            "_________________________________________________________________\n",
            "max_pooling2d_10 (MaxPooling (None, 16, 13, 26)        0         \n",
            "_________________________________________________________________\n",
            "dropout_5 (Dropout)          (None, 16, 13, 26)        0         \n",
            "_________________________________________________________________\n",
            "flatten_10 (Flatten)         (None, 5408)              0         \n",
            "_________________________________________________________________\n",
            "dense_29 (Dense)             (None, 10)                54090     \n",
            "_________________________________________________________________\n",
            "activation_15 (Activation)   (None, 10)                0         \n",
            "=================================================================\n",
            "Total params: 54,410\n",
            "Trainable params: 54,410\n",
            "Non-trainable params: 0\n",
            "_________________________________________________________________\n"
          ],
          "name": "stdout"
        }
      ]
    },
    {
      "metadata": {
        "id": "Y6hUmh2UjoSW",
        "colab_type": "text"
      },
      "cell_type": "markdown",
      "source": [
        "... third, we train the network for 12 epochs"
      ]
    },
    {
      "metadata": {
        "id": "NlrSAkFVB-05",
        "colab_type": "code",
        "outputId": "5a5ea989-c1ae-4086-fdf5-c0a64d68a8f8",
        "colab": {
          "base_uri": "https://localhost:8080/",
          "height": 442
        }
      },
      "cell_type": "code",
      "source": [
        "history =model_cnn.fit(X_train, Y_train, batch_size=batch_size,epochs=n_epochs,\n",
        "          verbose=1, validation_data=(X_test, Y_test))"
      ],
      "execution_count": 0,
      "outputs": [
        {
          "output_type": "stream",
          "text": [
            "Train on 60000 samples, validate on 10000 samples\n",
            "Epoch 1/12\n",
            "60000/60000 [==============================] - 7s 115us/step - loss: 0.3494 - acc: 0.8990 - val_loss: 0.1604 - val_acc: 0.9568\n",
            "Epoch 2/12\n",
            "60000/60000 [==============================] - 4s 72us/step - loss: 0.1359 - acc: 0.9617 - val_loss: 0.0910 - val_acc: 0.9729\n",
            "Epoch 3/12\n",
            "60000/60000 [==============================] - 4s 72us/step - loss: 0.1009 - acc: 0.9708 - val_loss: 0.0729 - val_acc: 0.9777\n",
            "Epoch 4/12\n",
            "60000/60000 [==============================] - 4s 72us/step - loss: 0.0858 - acc: 0.9748 - val_loss: 0.0644 - val_acc: 0.9798\n",
            "Epoch 5/12\n",
            "60000/60000 [==============================] - 4s 71us/step - loss: 0.0764 - acc: 0.9773 - val_loss: 0.0624 - val_acc: 0.9798\n",
            "Epoch 6/12\n",
            "60000/60000 [==============================] - 4s 71us/step - loss: 0.0709 - acc: 0.9785 - val_loss: 0.0591 - val_acc: 0.9812\n",
            "Epoch 7/12\n",
            "60000/60000 [==============================] - 4s 71us/step - loss: 0.0665 - acc: 0.9802 - val_loss: 0.0544 - val_acc: 0.9813\n",
            "Epoch 8/12\n",
            "60000/60000 [==============================] - 4s 70us/step - loss: 0.0617 - acc: 0.9817 - val_loss: 0.0539 - val_acc: 0.9824\n",
            "Epoch 9/12\n",
            "60000/60000 [==============================] - 4s 70us/step - loss: 0.0581 - acc: 0.9826 - val_loss: 0.0567 - val_acc: 0.9812\n",
            "Epoch 10/12\n",
            "60000/60000 [==============================] - 4s 70us/step - loss: 0.0554 - acc: 0.9832 - val_loss: 0.0520 - val_acc: 0.9825\n",
            "Epoch 11/12\n",
            "60000/60000 [==============================] - 4s 70us/step - loss: 0.0525 - acc: 0.9845 - val_loss: 0.0521 - val_acc: 0.9830\n",
            "Epoch 12/12\n",
            "60000/60000 [==============================] - 4s 70us/step - loss: 0.0511 - acc: 0.9843 - val_loss: 0.0487 - val_acc: 0.9833\n"
          ],
          "name": "stdout"
        }
      ]
    },
    {
      "metadata": {
        "id": "EnQRaODvMWcL",
        "colab_type": "text"
      },
      "cell_type": "markdown",
      "source": [
        "and finally, we evaluate the model in terms of score and accuracy."
      ]
    },
    {
      "metadata": {
        "id": "YAq4i9ivCBZA",
        "colab_type": "code",
        "outputId": "284ba260-645a-4b61-d962-2205727945e4",
        "colab": {
          "base_uri": "https://localhost:8080/",
          "height": 51
        }
      },
      "cell_type": "code",
      "source": [
        "score = model_cnn.evaluate(X_test, Y_test, verbose=0)\n",
        "print 'Test loss:', score[0]\n",
        "print 'Test accuracy:', score[1]\n",
        "\n"
      ],
      "execution_count": 0,
      "outputs": [
        {
          "output_type": "stream",
          "text": [
            "Test loss: 0.04865028811749071\n",
            "Test accuracy: 0.9833\n"
          ],
          "name": "stdout"
        }
      ]
    },
    {
      "metadata": {
        "id": "X38qShDiOltk",
        "colab_type": "text"
      },
      "cell_type": "markdown",
      "source": [
        "# Classification - ROC and AUC\n",
        "\n",
        "In the previous example, our model has been evaluated with \"accuracy\" metric, which is the \"categorical_accuracy\" calculating the mean accuracy rate across all predictions. If you want to evaluate your model with more sophisticated evaluation metrics, you should opt for Receiver Operating Characteristic (ROC) curve or Area Under the Curve (AUC), two widely used metrics illustrating the diagnostic ability of a classifier over different discrimination thresholds. While ROC is an effective tool to visualize performances of a classifier as a graph, AUC summarizes the overall performances in a single number.\n",
        "\n",
        "Now we are going to define a simple model with only one intermediate layer, named baseline in this tutorial, and compare the performances in term of ROC and AUC with the CNN model we have previuosly defined, showing that the last model is significantly better."
      ]
    },
    {
      "metadata": {
        "id": "z-k857wfP0DA",
        "colab_type": "text"
      },
      "cell_type": "markdown",
      "source": [
        "First, we define a model with only one intermediate layer and train it on MNIST."
      ]
    },
    {
      "metadata": {
        "id": "qxQOiZIqhfrJ",
        "colab_type": "code",
        "outputId": "2dea0c06-b38c-4695-f323-196b952b2eb3",
        "colab": {
          "base_uri": "https://localhost:8080/",
          "height": 578
        }
      },
      "cell_type": "code",
      "source": [
        "from keras.utils import to_categorical\n",
        "\n",
        "x_train_flat = x_train.reshape(x_train.shape[0], x_train.shape[1] * x_train.shape[2])\n",
        "x_test_flat = x_test.reshape(x_test.shape[0], x_test.shape[1] * x_test.shape[2])\n",
        "\n",
        "x_train_flat= x_train_flat.astype('float32')\n",
        "x_test_flat= x_test_flat.astype('float32')\n",
        "\n",
        "x_train_flat /= 255\n",
        "x_test_flat /= 255\n",
        "\n",
        "y_train_c=to_categorical(y_train,n_classes)\n",
        "y_test_c=to_categorical(y_test,n_classes)\n",
        "\n",
        "  # Load simple model\n",
        "model = Sequential()\n",
        "model.add(Dense(1, activation='relu', input_shape=(784,)))\n",
        "model.add(Dense(10, activation='softmax'))\n",
        "\n",
        "model.summary()\n",
        "model.compile(optimizer='adam',loss='categorical_crossentropy',metrics=['accuracy'])\n",
        "model.fit(x_train_flat,y_train_c,batch_size=100, epochs=10,verbose=1,validation_data=(x_test_flat,y_test_c))\n"
      ],
      "execution_count": 0,
      "outputs": [
        {
          "output_type": "stream",
          "text": [
            "_________________________________________________________________\n",
            "Layer (type)                 Output Shape              Param #   \n",
            "=================================================================\n",
            "dense_4 (Dense)              (None, 1)                 785       \n",
            "_________________________________________________________________\n",
            "dense_5 (Dense)              (None, 10)                20        \n",
            "=================================================================\n",
            "Total params: 805\n",
            "Trainable params: 805\n",
            "Non-trainable params: 0\n",
            "_________________________________________________________________\n",
            "Train on 60000 samples, validate on 10000 samples\n",
            "Epoch 1/10\n",
            "60000/60000 [==============================] - 3s 47us/step - loss: 2.0732 - acc: 0.2034 - val_loss: 1.9724 - val_acc: 0.2251\n",
            "Epoch 2/10\n",
            "60000/60000 [==============================] - 3s 44us/step - loss: 1.9399 - acc: 0.2349 - val_loss: 1.9005 - val_acc: 0.2462\n",
            "Epoch 3/10\n",
            "60000/60000 [==============================] - 3s 44us/step - loss: 1.8776 - acc: 0.2532 - val_loss: 1.8433 - val_acc: 0.2634\n",
            "Epoch 4/10\n",
            "60000/60000 [==============================] - 3s 43us/step - loss: 1.8305 - acc: 0.2703 - val_loss: 1.8027 - val_acc: 0.2800\n",
            "Epoch 5/10\n",
            "60000/60000 [==============================] - 3s 44us/step - loss: 1.7972 - acc: 0.2836 - val_loss: 1.7742 - val_acc: 0.2961\n",
            "Epoch 6/10\n",
            "60000/60000 [==============================] - 3s 44us/step - loss: 1.7736 - acc: 0.2952 - val_loss: 1.7531 - val_acc: 0.3022\n",
            "Epoch 7/10\n",
            "60000/60000 [==============================] - 3s 44us/step - loss: 1.7558 - acc: 0.3030 - val_loss: 1.7385 - val_acc: 0.3091\n",
            "Epoch 8/10\n",
            "60000/60000 [==============================] - 3s 44us/step - loss: 1.7417 - acc: 0.3119 - val_loss: 1.7253 - val_acc: 0.3238\n",
            "Epoch 9/10\n",
            "60000/60000 [==============================] - 3s 44us/step - loss: 1.7307 - acc: 0.3185 - val_loss: 1.7147 - val_acc: 0.3277\n",
            "Epoch 10/10\n",
            "60000/60000 [==============================] - 3s 44us/step - loss: 1.7206 - acc: 0.3232 - val_loss: 1.7067 - val_acc: 0.3346\n"
          ],
          "name": "stdout"
        },
        {
          "output_type": "execute_result",
          "data": {
            "text/plain": [
              "<keras.callbacks.History at 0x7fdfb4d3a950>"
            ]
          },
          "metadata": {
            "tags": []
          },
          "execution_count": 10
        }
      ]
    },
    {
      "metadata": {
        "id": "45DIjF_sVnQY",
        "colab_type": "text"
      },
      "cell_type": "markdown",
      "source": [
        "Next, we evaluate performances of our single layer model with keras evalation method and compare with CNN based model. You can notice the accuracy is considerable lower, i.e. 0.34 compared to CNN based model, i.e. 0.9826"
      ]
    },
    {
      "metadata": {
        "id": "AGHYqL9hb07d",
        "colab_type": "code",
        "outputId": "acca3cb6-797c-4a0c-9459-b449101b909a",
        "colab": {
          "base_uri": "https://localhost:8080/",
          "height": 68
        }
      },
      "cell_type": "code",
      "source": [
        "score = model.evaluate(x_test_flat, y_test_c, verbose=1)\n",
        "print 'Test loss:', score[0]\n",
        "print 'Accuracy loss:', score[1]"
      ],
      "execution_count": 0,
      "outputs": [
        {
          "output_type": "stream",
          "text": [
            "10000/10000 [==============================] - 0s 44us/step\n",
            "Test loss: 1.706714919090271\n",
            "Accuracy loss: 0.3346\n"
          ],
          "name": "stdout"
        }
      ]
    },
    {
      "metadata": {
        "id": "b8igG1xEeBfc",
        "colab_type": "text"
      },
      "cell_type": "markdown",
      "source": [
        "Now, we will see in more detail how to compute the ROC and AUC for the multicategory classification problem.\n",
        "The first step to do is predicting the category class for each sample of the testing set."
      ]
    },
    {
      "metadata": {
        "id": "5_GRVTbFXE35",
        "colab_type": "code",
        "colab": {}
      },
      "cell_type": "code",
      "source": [
        "y_pred_cnn = model_cnn.predict(X_test).ravel()\n",
        "y_pred = model.predict(x_test_flat).ravel()\n"
      ],
      "execution_count": 0,
      "outputs": []
    },
    {
      "metadata": {
        "id": "rmDZ4Ybwfiyf",
        "colab_type": "text"
      },
      "cell_type": "markdown",
      "source": [
        "ROC and AUC are two metrics for evaluating performances of a binary classifier.  In such a problem, a single ROC curve is enough to fully monitor its quality. \n",
        "\n",
        "On the other hand, in case you want to measure the performances of a multicategory classifier, e.g. in MNIST problem, you need multiple ROC curves, whose number strictly depends on the number of classes. \n",
        "For example, evaluating a classifier trained on MNIST dataset requires 10 different ROC curves, each one describing the ability to distinguish a particular digit from all the others. This is typically known as 1 versus all setting.\n",
        "\n",
        "\n",
        "In order to make such metrics working on a multicategory classifier, we need to rearrange a little bit our label and prediction data. \n",
        "\n",
        "For this purpose,  we define a function, i.e. set_binary, which takes as input a certain class (query_label) and converts labels and predictions in vectors with the same size: 1) in labels  all the samples belonged to selected class are marked as positive,  while all the others are marked as negative, and 2) in predictions each component contains the confidence values indicating the probability that the corresponding sample is positive (query_label). "
      ]
    },
    {
      "metadata": {
        "id": "VlRyJD2gYr8F",
        "colab_type": "code",
        "colab": {}
      },
      "cell_type": "code",
      "source": [
        "def set_binary(y_pred,y_labels,positive_label):\n",
        "  bin_y_pred,bin_y_labels=[],[]\n",
        "  index=0\n",
        "  for yl in y_labels:\n",
        "      if yl==positive_label:\n",
        "        bin_y_labels.append(1)\n",
        "      else:\n",
        "        bin_y_labels.append(0)\n",
        "      \n",
        "      bin_y_pred.append(y_pred[10*index+positive_label])\n",
        "      index=index+1\n",
        "\n",
        "  return [bin_y_pred,bin_y_labels]"
      ],
      "execution_count": 0,
      "outputs": []
    },
    {
      "metadata": {
        "id": "NZaYUmHIqavq",
        "colab_type": "text"
      },
      "cell_type": "markdown",
      "source": [
        "After that, we import roc_curve and auc functions from learn.metric module, which are two predefined functions for computing ROC and AUC.\n",
        "In our example, we assume that the class '5' is the positive class, and compute ROC and AUC value for both the CNN and single layer model. \n",
        "You can notice CNN based model works significantly better than our single layer classifier with AUC value 0.99 against only 0.76.\n"
      ]
    },
    {
      "metadata": {
        "id": "4Zv26UvKaqhC",
        "colab_type": "code",
        "outputId": "74dfb29f-12eb-43e6-94dc-1964a034cc61",
        "colab": {
          "base_uri": "https://localhost:8080/",
          "height": 51
        }
      },
      "cell_type": "code",
      "source": [
        "from sklearn.metrics import roc_curve\n",
        "from sklearn.metrics import auc\n",
        "positive_label=5\n",
        "[bin_y_pred,bin_y_labels]=set_binary(y_pred,y_test,positive_label)\n",
        "[bin_y_pred_cnn,bin_y_labels_cnn]=set_binary(y_pred_cnn,y_test,positive_label)\n",
        "\n",
        "\n",
        "fpr_rf, tpr_rf, thresholds_rf = roc_curve(bin_y_labels,bin_y_pred)\n",
        "fpr_rf_cnn, tpr_rf_cnn, thresholds_rf_cnn = roc_curve(bin_y_labels_cnn,bin_y_pred_cnn)\n",
        "\n",
        "auc_keras = auc(fpr_rf,tpr_rf)\n",
        "print(auc_keras)\n",
        "auc_keras_cnn = auc(fpr_rf_cnn,tpr_rf_cnn)\n",
        "print(auc_keras_cnn)\n"
      ],
      "execution_count": 0,
      "outputs": [
        {
          "output_type": "stream",
          "text": [
            "0.7569412441829091\n",
            "0.9998893448030707\n"
          ],
          "name": "stdout"
        }
      ]
    },
    {
      "metadata": {
        "id": "1JhD3gsVtgrC",
        "colab_type": "text"
      },
      "cell_type": "markdown",
      "source": [
        "We finally plot the roc curves, showing the superiority of cnn based model over the baseline with the green curve always above the blue one."
      ]
    },
    {
      "metadata": {
        "id": "r-1zzqrRe2Qo",
        "colab_type": "code",
        "outputId": "3a4f6837-13b1-4e3c-c9a9-18bc98aa0492",
        "colab": {
          "base_uri": "https://localhost:8080/",
          "height": 376
        }
      },
      "cell_type": "code",
      "source": [
        "plt.figure(1)\n",
        "plt.plot([0, 1], [0, 1], 'k--')\n",
        "plt.plot(fpr_rf, tpr_rf, label='Baseline (area = {:.3f}) over class 5'.format(auc_keras))\n",
        "plt.plot(fpr_rf_cnn, tpr_rf_cnn, label='CNN (area = {:.3f}) over class 5'.format(auc_keras_cnn))\n",
        "\n",
        "plt.xlabel('False positive rate')\n",
        "plt.ylabel('True positive rate')\n",
        "plt.title('ROC curve')\n",
        "plt.legend(loc='best')\n",
        "plt.show()"
      ],
      "execution_count": 0,
      "outputs": [
        {
          "output_type": "display_data",
          "data": {
            "image/png": "[encoded data removed]",
            "text/plain": [
              "<Figure size 576x396 with 1 Axes>"
            ]
          },
          "metadata": {
            "tags": []
          }
        }
      ]
    },
    {
      "metadata": {
        "id": "dBiHbLpHF8Y_",
        "colab_type": "text"
      },
      "cell_type": "markdown",
      "source": [
        "\n",
        "\n",
        "## Retrieval - R@k and MAP\n",
        "\n"
      ]
    },
    {
      "metadata": {
        "id": "rcmyM2BLqe4F",
        "colab_type": "text"
      },
      "cell_type": "markdown",
      "source": [
        "Let's give a look now at some metrics for retrieval setting, i.e. R@k and MAP.  Such measures are similar to recall and precision we have seen so far in the classification problem with the main difference that during the evaluation a sample is considered as positive if it is ranked higher then a certain threshold, where the threshold is a discrete number. In contrast, in a classification problem, a sample is considered as positive if its confidence value, typically a rational number, is higher then a certain threshold. \n",
        "\n",
        "First, we import the MNIST fashion dataset, which is a little bit tougher than MNIST."
      ]
    },
    {
      "metadata": {
        "id": "Y9TOs0wjF5rV",
        "colab_type": "code",
        "outputId": "2313cec2-b914-4195-e00a-9e9dce3ef3dd",
        "colab": {
          "base_uri": "https://localhost:8080/",
          "height": 255
        }
      },
      "cell_type": "code",
      "source": [
        "from keras.datasets import fashion_mnist\n",
        "# importing some modules\n",
        "import numpy as np\n",
        "np.random.seed(1337)  # for reproducibility !!!\n",
        "from keras.datasets import mnist\n",
        "from keras.models import Sequential\n",
        "from keras.layers import Dense, Dropout, Activation, Flatten\n",
        "from keras.layers import Conv2D, MaxPooling2D\n",
        "from keras.utils import np_utils\n",
        "import matplotlib.pyplot as plt\n",
        "import keras\n",
        "from keras.layers.normalization import BatchNormalization\n",
        "\n",
        "# the data, shuffled and split between train and test sets\n",
        "img_rows, img_cols = 28, 28\n",
        "n_classes=10\n",
        "(X_train, y_train), (X_test, y_test) = fashion_mnist.load_data()\n",
        "X_train = X_train.reshape(X_train.shape[0], 1, img_rows, img_cols)\n",
        "X_test = X_test.reshape(X_test.shape[0], 1, img_rows, img_cols)\n",
        "input_shape = (1, img_rows, img_cols)\n",
        "X_train = X_train.astype('float32')\n",
        "X_test = X_test.astype('float32')\n",
        "X_train /= 255\n",
        "X_test /= 255\n",
        "print 'X_train shape:', X_train.shape\n",
        "print X_train.shape[0], 'train samples'\n",
        "print X_test.shape[0], 'test samples'\n",
        "# convert class vectors to binary class matrices\n",
        "Y_train = np_utils.to_categorical(y_train, n_classes)\n",
        "Y_test = np_utils.to_categorical(y_test, n_classes)"
      ],
      "execution_count": 0,
      "outputs": [
        {
          "output_type": "stream",
          "text": [
            "Downloading data from http://fashion-mnist.s3-website.eu-central-1.amazonaws.com/train-labels-idx1-ubyte.gz\n",
            "32768/29515 [=================================] - 0s 5us/step\n",
            "40960/29515 [=========================================] - 0s 4us/step\n",
            "Downloading data from http://fashion-mnist.s3-website.eu-central-1.amazonaws.com/train-images-idx3-ubyte.gz\n",
            "26427392/26421880 [==============================] - 2s 0us/step\n",
            "26435584/26421880 [==============================] - 2s 0us/step\n",
            "Downloading data from http://fashion-mnist.s3-website.eu-central-1.amazonaws.com/t10k-labels-idx1-ubyte.gz\n",
            "16384/5148 [===============================================================================================] - 0s 0us/step\n",
            "Downloading data from http://fashion-mnist.s3-website.eu-central-1.amazonaws.com/t10k-images-idx3-ubyte.gz\n",
            "4423680/4422102 [==============================] - 1s 0us/step\n",
            "4431872/4422102 [==============================] - 1s 0us/step\n",
            "X_train shape: (60000, 1, 28, 28)\n",
            "60000 train samples\n",
            "10000 test samples\n"
          ],
          "name": "stdout"
        }
      ]
    },
    {
      "metadata": {
        "id": "JOoI8mAq0cyh",
        "colab_type": "text"
      },
      "cell_type": "markdown",
      "source": [
        "Second, we visualize some examples to have an idea about how they are. You can see that each grey-scale image contains an article of clothing, e.g. ankle boot, pullover, t-shirt, etc.."
      ]
    },
    {
      "metadata": {
        "id": "UqiWxZd1Nrg7",
        "colab_type": "code",
        "outputId": "c4bf44d0-ed99-4cff-d363-0dbb4fd37db3",
        "colab": {
          "base_uri": "https://localhost:8080/",
          "height": 345
        }
      },
      "cell_type": "code",
      "source": [
        "N=5\n",
        "start_val = 0# pick an element for the code to plot the following N**2 values\n",
        "fig, axes = plt.subplots(N,N)\n",
        "items = ['t-shirt','trousers','pullover','dress','coat','sandal','shirt','sneaker','bag','Ankle boot']\n",
        "for row in range(N):\n",
        "  for col in range(N):\n",
        "    idx = start_val+row+N*col\n",
        "    axes[row,col].imshow(X_train[idx, 0], cmap='gray')\n",
        "    y_target = int(y_train[idx])\n",
        "    target = items[y_target]\n",
        "    axes[row,col].set_title(target)\n",
        "    axes[row,col].set_xticks([])\n",
        "    axes[row,col].set_yticks([])"
      ],
      "execution_count": 0,
      "outputs": [
        {
          "output_type": "display_data",
          "data": {
            "image/png": "[encoded data removed]",
            "text/plain": [
              "<Figure size 576x396 with 25 Axes>"
            ]
          },
          "metadata": {
            "tags": []
          }
        }
      ]
    },
    {
      "metadata": {
        "id": "_ltUxiNe2Mrs",
        "colab_type": "text"
      },
      "cell_type": "markdown",
      "source": [
        "Third, we define a simple CNN architecture with few layers and train it on fashion MNIST."
      ]
    },
    {
      "metadata": {
        "id": "8aK0cJG4GaqV",
        "colab_type": "code",
        "outputId": "a97561d7-a5c6-4733-c7ab-5af2ded1882b",
        "colab": {
          "base_uri": "https://localhost:8080/",
          "height": 612
        }
      },
      "cell_type": "code",
      "source": [
        "# network parameters\n",
        "batch_size = 128\n",
        "n_filters = 64\n",
        "n_epochs = 12\n",
        "img_rows, img_cols = 28, 28\n",
        "pool_size = (2, 2)\n",
        "kernel_size = (3, 3)\n",
        "\n",
        "model = Sequential()\n",
        "model.add(BatchNormalization(input_shape=input_shape))\n",
        "model.add(Conv2D(n_filters, (kernel_size[0], kernel_size[1]),\n",
        "                        padding='valid', data_format = 'channels_first'))\n",
        "model.add(Activation('relu'))\n",
        "model.add(BatchNormalization())\n",
        "model.add(Conv2D(n_filters, (kernel_size[0], kernel_size[1])))\n",
        "model.add(Activation('relu'))\n",
        "model.add(MaxPooling2D(pool_size=pool_size))\n",
        "model.add(Dropout(0.25))\n",
        "\n",
        "model.add(Flatten())\n",
        "model.add(Dense(128))\n",
        "model.add(Activation('relu'))\n",
        "model.add(Dropout(0.5))\n",
        "model.add(Dense(n_classes))\n",
        "model.add(Activation('softmax'))\n",
        "\n",
        "model.compile(loss='categorical_crossentropy',\n",
        "              optimizer='adadelta',\n",
        "              metrics=['accuracy'])\n",
        "model.summary()"
      ],
      "execution_count": 0,
      "outputs": [
        {
          "output_type": "stream",
          "text": [
            "_________________________________________________________________\n",
            "Layer (type)                 Output Shape              Param #   \n",
            "=================================================================\n",
            "batch_normalization_5 (Batch (None, 1, 28, 28)         112       \n",
            "_________________________________________________________________\n",
            "conv2d_6 (Conv2D)            (None, 64, 26, 26)        640       \n",
            "_________________________________________________________________\n",
            "activation_7 (Activation)    (None, 64, 26, 26)        0         \n",
            "_________________________________________________________________\n",
            "batch_normalization_6 (Batch (None, 64, 26, 26)        104       \n",
            "_________________________________________________________________\n",
            "conv2d_7 (Conv2D)            (None, 62, 24, 64)        15040     \n",
            "_________________________________________________________________\n",
            "activation_8 (Activation)    (None, 62, 24, 64)        0         \n",
            "_________________________________________________________________\n",
            "max_pooling2d_4 (MaxPooling2 (None, 31, 12, 64)        0         \n",
            "_________________________________________________________________\n",
            "dropout_4 (Dropout)          (None, 31, 12, 64)        0         \n",
            "_________________________________________________________________\n",
            "flatten_4 (Flatten)          (None, 23808)             0         \n",
            "_________________________________________________________________\n",
            "dense_6 (Dense)              (None, 128)               3047552   \n",
            "_________________________________________________________________\n",
            "activation_9 (Activation)    (None, 128)               0         \n",
            "_________________________________________________________________\n",
            "dropout_5 (Dropout)          (None, 128)               0         \n",
            "_________________________________________________________________\n",
            "dense_7 (Dense)              (None, 10)                1290      \n",
            "_________________________________________________________________\n",
            "activation_10 (Activation)   (None, 10)                0         \n",
            "=================================================================\n",
            "Total params: 3,064,738\n",
            "Trainable params: 3,064,630\n",
            "Non-trainable params: 108\n",
            "_________________________________________________________________\n"
          ],
          "name": "stdout"
        }
      ]
    },
    {
      "metadata": {
        "id": "iyFl352SGfIA",
        "colab_type": "code",
        "outputId": "66365726-4a46-4017-ee6d-160452a18b5b",
        "colab": {
          "base_uri": "https://localhost:8080/",
          "height": 442
        }
      },
      "cell_type": "code",
      "source": [
        "history = model.fit(X_train, Y_train, batch_size=batch_size, epochs=n_epochs,\n",
        "          verbose=1, validation_data=(X_test, Y_test))"
      ],
      "execution_count": 0,
      "outputs": [
        {
          "output_type": "stream",
          "text": [
            "Train on 60000 samples, validate on 10000 samples\n",
            "Epoch 1/12\n",
            "60000/60000 [==============================] - 20s 341us/step - loss: 0.9331 - acc: 0.7212 - val_loss: 0.4045 - val_acc: 0.8608\n",
            "Epoch 2/12\n",
            "60000/60000 [==============================] - 19s 318us/step - loss: 0.4670 - acc: 0.8372 - val_loss: 0.3318 - val_acc: 0.8776\n",
            "Epoch 3/12\n",
            "60000/60000 [==============================] - 19s 318us/step - loss: 0.3729 - acc: 0.8697 - val_loss: 0.3012 - val_acc: 0.8880\n",
            "Epoch 4/12\n",
            "60000/60000 [==============================] - 19s 317us/step - loss: 0.3249 - acc: 0.8836 - val_loss: 0.2837 - val_acc: 0.8983\n",
            "Epoch 5/12\n",
            "60000/60000 [==============================] - 19s 316us/step - loss: 0.2912 - acc: 0.8958 - val_loss: 0.2768 - val_acc: 0.9016\n",
            "Epoch 6/12\n",
            "60000/60000 [==============================] - 19s 317us/step - loss: 0.2620 - acc: 0.9058 - val_loss: 0.2770 - val_acc: 0.9057\n",
            "Epoch 7/12\n",
            "60000/60000 [==============================] - 19s 316us/step - loss: 0.2456 - acc: 0.9098 - val_loss: 0.2828 - val_acc: 0.9034\n",
            "Epoch 8/12\n",
            "60000/60000 [==============================] - 19s 317us/step - loss: 0.2288 - acc: 0.9156 - val_loss: 0.2797 - val_acc: 0.9043\n",
            "Epoch 9/12\n",
            "60000/60000 [==============================] - 19s 317us/step - loss: 0.2153 - acc: 0.9222 - val_loss: 0.2878 - val_acc: 0.9060\n",
            "Epoch 10/12\n",
            "60000/60000 [==============================] - 19s 317us/step - loss: 0.2020 - acc: 0.9276 - val_loss: 0.2732 - val_acc: 0.9087\n",
            "Epoch 11/12\n",
            "60000/60000 [==============================] - 19s 316us/step - loss: 0.1879 - acc: 0.9309 - val_loss: 0.2787 - val_acc: 0.9104\n",
            "Epoch 12/12\n",
            "60000/60000 [==============================] - 19s 316us/step - loss: 0.1776 - acc: 0.9340 - val_loss: 0.2886 - val_acc: 0.9061\n"
          ],
          "name": "stdout"
        }
      ]
    },
    {
      "metadata": {
        "id": "MzJgvBsO2vCS",
        "colab_type": "text"
      },
      "cell_type": "markdown",
      "source": [
        "Fourth, we extract activations from the last fully connected layer and use them as the feature vectors for the retrieval task, defined as follows: given a query, i.e. a specific article of clothing we want to search for the most similar articles in the gallery and order all the gallery images in ascending order."
      ]
    },
    {
      "metadata": {
        "id": "Vlx2aZfuHZlz",
        "colab_type": "code",
        "outputId": "6b7043c7-ee2d-4113-d5db-3749e2ad60b5",
        "colab": {
          "base_uri": "https://localhost:8080/",
          "height": 34
        }
      },
      "cell_type": "code",
      "source": [
        "from keras import backend as K\n",
        "extract_feature = K.function([model.layers[0].input],[model.layers[12].output])\n",
        "gallery_features = extract_feature([X_test[:20,:,:]])\n",
        "print(len(gallery_features[0]))\n",
        "gallery_labels=y_test[:20]\n",
        "\n",
        "probe_features = extract_feature([X_test[20:40,:,:]])\n",
        "probe_labels=y_test[20:40]\n"
      ],
      "execution_count": 0,
      "outputs": [
        {
          "output_type": "stream",
          "text": [
            "20\n"
          ],
          "name": "stdout"
        }
      ]
    },
    {
      "metadata": {
        "id": "sQMz1bQb4Yzx",
        "colab_type": "text"
      },
      "cell_type": "markdown",
      "source": [
        "The method below computes mean average precision of the model over the probe (test_codes, test_labels) and gallery set (learned_codes, y_train) containing corresponding features and labels. This method is from [sicara blog](https://blog.sicara.com/keras-tutorial-content-based-image-retrieval-convolutional-denoising-autoencoder-dc91450cc511), following the link you can find further documentation about it. "
      ]
    },
    {
      "metadata": {
        "id": "xyGuhw_Tgz86",
        "colab_type": "code",
        "colab": {}
      },
      "cell_type": "code",
      "source": [
        "def compute_mean_average_precision(test_codes, test_labels, learned_codes, y_train, n_samples):\n",
        "    # For each n_samples (=number of retrieved images to assess) we store the corresponding labels and distances\n",
        "    out_labels = []\n",
        "    out_distances = []\n",
        "    ranks=np.zeros(n_samples)\n",
        "    \n",
        "    #For each query image feature we compute the closest images from training dataset\n",
        "    for i in range(len(test_codes)):\n",
        "        distances = []\n",
        "        # Compute the euclidian distance for each feature from training dataset\n",
        "        for code in learned_codes:\n",
        "            distance = np.linalg.norm(code - test_codes[i])\n",
        "            distances.append(distance)\n",
        "        \n",
        "        # Store the computed distances and corresponding labels from training dataset\n",
        "        distances = np.array(distances)\n",
        "      \n",
        "        \n",
        "        # Scoring function needs to replace similar labels by 1 and different ones by 0\n",
        "        labels = np.copy(y_train).astype('float32')\n",
        "        labels[labels != test_labels[i]] = -1\n",
        "        labels[labels == test_labels[i]] = 1\n",
        "        labels[labels == -1] = 0\n",
        "        distance_with_labels = np.stack((distances, labels), axis=-1)\n",
        "        sorted_distance_with_labels = distance_with_labels[distance_with_labels[:, 0].argsort()]\n",
        "        \n",
        "        # The distances are between 0 and 28. The lesser the distance the bigger the relevance score should be\n",
        "        sorted_distances = 1 - sorted_distance_with_labels[:, 0]\n",
        "        sorted_labels = sorted_distance_with_labels[:, 1]\n",
        "        ranks[np.where(sorted_labels==1)]=ranks[ np.where(sorted_labels==1)]+1\n",
        "        \n",
        "        # We keep only n_samples closest elements from the images retrieved\n",
        "        out_distances.append(sorted_distances[:n_samples])\n",
        "        out_labels.append(sorted_labels[:n_samples])\n",
        "\n",
        "\n",
        "    out_labels = np.array(out_labels)\n",
        "    out_distances = np.array(out_distances)\n",
        "    ranks=np.cumsum(ranks)/np.sum(ranks)\n",
        "    \n",
        "    # Score the model based on n_samples first images retrieved\n",
        "    score=label_ranking_average_precision_score(out_labels, out_distances)\n",
        "    return score,ranks"
      ],
      "execution_count": 0,
      "outputs": []
    },
    {
      "metadata": {
        "id": "yjCBsvLE6yyS",
        "colab_type": "text"
      },
      "cell_type": "markdown",
      "source": [
        "Finally, we are able to compute MAP and R@k..."
      ]
    },
    {
      "metadata": {
        "id": "96fnAWmxbJgK",
        "colab_type": "code",
        "outputId": "3a9e3f47-dce9-4cb3-9e46-c52f214217d1",
        "colab": {
          "base_uri": "https://localhost:8080/",
          "height": 102
        }
      },
      "cell_type": "code",
      "source": [
        "from sklearn.metrics import label_ranking_average_precision_score\n",
        "\n",
        "# Compute score\n",
        "score,ranks = compute_mean_average_precision(probe_features[0], probe_labels, gallery_features[0], gallery_labels, 20)\n",
        "print(\"Mean Average Precision is {}\".format(score))\n",
        "print(ranks)\n"
      ],
      "execution_count": 0,
      "outputs": [
        {
          "output_type": "stream",
          "text": [
            "Mean Average Precision is 0.857862103175\n",
            "[0.51515152 0.75757576 0.84848485 0.87878788 0.87878788 0.87878788\n",
            " 0.93939394 0.96969697 1.         1.         1.         1.\n",
            " 1.         1.         1.         1.         1.         1.\n",
            " 1.         1.        ]\n"
          ],
          "name": "stdout"
        }
      ]
    },
    {
      "metadata": {
        "id": "QTRxOu2T7L-J",
        "colab_type": "text"
      },
      "cell_type": "markdown",
      "source": [
        "and visualize all the values of R@k."
      ]
    },
    {
      "metadata": {
        "id": "UUkHeFgkou93",
        "colab_type": "code",
        "outputId": "af44065f-43d5-46c5-c5ff-51cf7e2cf0d3",
        "colab": {
          "base_uri": "https://localhost:8080/",
          "height": 376
        }
      },
      "cell_type": "code",
      "source": [
        "plt.figure(1)\n",
        "plt.plot(xrange(1,21), ranks, label='CNN model (mean average precision= {:.3f})'.format(score))\n",
        "\n",
        "plt.xlabel('k')\n",
        "plt.ylabel('R@k')\n",
        "plt.title('cmc')\n",
        "plt.legend(loc='best')\n",
        "plt.show()"
      ],
      "execution_count": 0,
      "outputs": [
        {
          "output_type": "display_data",
          "data": {
            "image/png": "[encoded data removed]",
            "text/plain": [
              "<Figure size 576x396 with 1 Axes>"
            ]
          },
          "metadata": {
            "tags": []
          }
        }
      ]
    },
    {
      "metadata": {
        "id": "WbTQVfGvsMBD",
        "colab_type": "text"
      },
      "cell_type": "markdown",
      "source": [
        "# **`Exercises`**\n",
        "1) Write your own implementation of recall, precision and f metrics. Test the results on the two introduced models (baseline and CNN) for multiclass classification problem on MNIST. Check that your results are the same as those computed by Sklearn. \n",
        "\n",
        "2) Write your own implementation of ROC curves and AUC. Afterwards, compare final results with those achieved with Sklearn methods.\n",
        "\n",
        "3) Repeat the overall evaluation on CIFAR 100. If you are not satisfied with the performances, try to define your own CNN architecture."
      ]
    }
  ]
}