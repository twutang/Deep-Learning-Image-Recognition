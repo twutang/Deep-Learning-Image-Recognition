{
  "nbformat": 4,
  "nbformat_minor": 0,
  "metadata": {
    "colab": {
      "name": "week03_part1_CNN_Introduction.ipynb",
      "version": "0.3.2",
      "provenance": [],
      "include_colab_link": true
    },
    "kernelspec": {
      "name": "python3",
      "display_name": "Python 3"
    }
  },
  "cells": [
    {
      "cell_type": "markdown",
      "metadata": {
        "id": "view-in-github",
        "colab_type": "text"
      },
      "source": [
        "<a href=\"https://colab.research.google.com/github/MatchLab-Imperial/deep-learning-course/blob/master/week03_part1_CNN_Introduction.ipynb\" target=\"_parent\"><img src=\"https://colab.research.google.com/assets/colab-badge.svg\" alt=\"Open In Colab\"/></a>"
      ]
    },
    {
      "metadata": {
        "id": "5uoxdNjkDw2K",
        "colab_type": "text"
      },
      "cell_type": "markdown",
      "source": [
        "# Introduction to Convolutional Neural Networks\n",
        "\n",
        "This tutorial addresses the basic concepts of Convolutional Neural Networks and their implementation in the Keras framework. \n",
        "\n",
        "Convolutional neural networks (CNNs) are a class of feed-forward artificial neural networks that are applied to analyze visual 2D imagery. Meaning that we can feed images directly to CNN, without the need for flatting them in a 1D vector.\n",
        "\n",
        "CNNs have revolutionized the field of computer vision in the last years. It was on 2012 when Alex Krizhevsky introduced AlexNet architecture to win the ImageNet Challenge (one the most important competitions on image classification), by reducing the top-5 error more than 10 percentage points, which was an incredible improvement at that time. As of now, CNNs have been explored not only on image classification but in any other computer vision field. \n",
        "\n",
        "![](https://cv-tricks.com/wp-content/uploads/2017/03/xalexnet_small-1.png.pagespeed.ic.u_mv-jhXMI.webp)\n",
        "\n",
        "The image above is from [cv-tricks' blog](https://cv-tricks.com/cnn/understand-resnet-alexnet-vgg-inception/) and shows the prosed AlexNet arhictecure. It is composed of 5 convolutional layers followed by 3 fully connected layers. Nowadays, we can find much deeper architectures, which outperformed AlexNet on the ImageNet Challenge. \n",
        "\n",
        "\n",
        "\n",
        "\n",
        "\n"
      ]
    },
    {
      "metadata": {
        "id": "dJ2d_oQ2UEPz",
        "colab_type": "text"
      },
      "cell_type": "markdown",
      "source": [
        "# CNN Structure\n",
        "\n",
        "The basic pipeline of a CNN takes an image as input, which goes through a series of layers in order to obtain the final output. The output of the final layer could be a probability vector for classification, a single value for regression or, for instance, another image for semantic segmentation or image transformation purposes. Layers in a CNN are similar to those we have already seen on 1D neural networks, however, the input now is a 2D matrix, while before it was a flat vector. Now, we will introduce some layers that are used in CNNs. "
      ]
    },
    {
      "metadata": {
        "id": "wvNKve9GZL4M",
        "colab_type": "text"
      },
      "cell_type": "markdown",
      "source": [
        "# 2D Convolutional Layer\n",
        "\n",
        "The most common layers in CNN architectures are the 2D convolutional layers. Convolutional layers are used to extract features from images. In addition to extracting features from images, when convolutional layers are concatenated, they can extract more complex features based on the previously extracted features. \n",
        "\n",
        "![](https://cdn-images-1.medium.com/max/800/1*Fw-ehcNBR9byHtho-Rxbtw.gif)\n",
        "\n",
        "Latest deep learning frameworks have made possible the integration of convolutional layers easily on our architectures with only a single line of code. However, the operation itself at the beginning could be a bit confusing and it is essential for understanding how a CNN works. Following images and some explanations  from [Irhum Shafkat's blog](https://towardsdatascience.com/intuitively-understanding-convolutions-for-deep-learning-1f6f42faee1) and [Neural Networks and Deep Learning](http://neuralnetworksanddeeplearning.com/) book. Both strongly recommended.\n",
        "\n",
        "In order to understand the 2D convolution, we need to define what is a kernel. The kernel is simply a matrix of weights.  This kernel will do an operation similar to a sliding window over the input image, performing an elementwise multiplication with the elements that are currently on. The results of this elementwise multiplication are summed up, giving, as a result, a single output value. This operation is repeated for all the positions of this sliding window, composing at the end the matrix of features. \n",
        "\n",
        "> \n",
        "\n",
        "![](https://cdn-images-1.medium.com/max/800/1*Zx-ZMLKab7VOCQTxdZ1OAw.gif)\n",
        "\n",
        "> \n",
        "The previous image shows the 2D convolution operation. The features are the weighted sums of the input values within the sliding window. The bigger the size of the kernel is,  the many more feature points will contribute to the final output value. This means the size of the kernel directly determines the number of feature components for estimating the output component. In contrast to fully connected layers, where the output is a weighted sum over the input values, 2D convolutions compute features based on local areas. In other words, instead of looking at every input component, they consider only features coming from close locations. \n",
        "\n",
        "In images the input map is 5x5, after the convolution operation, the final map is 3x3. Output size can be computed by doing:\n",
        "\n",
        "$O = W - K + 1$,\n",
        "\n",
        "where $O$ is the output height/length, $W$ is the input height/length and $K$ is the kernel size. Therefore, the output size is not only conditioned to the input size but also to the kernel size.\n",
        "\n",
        "\n",
        "\n",
        "\n",
        "\n",
        "\n",
        "\n"
      ]
    },
    {
      "metadata": {
        "id": "ez90vQEksR9b",
        "colab_type": "code",
        "outputId": "9030700c-e1df-4015-f308-50b15818345c",
        "colab": {
          "base_uri": "https://localhost:8080/",
          "height": 54
        }
      },
      "cell_type": "code",
      "source": [
        "import numpy as np\n",
        "import keras\n",
        "from keras.models import Sequential\n",
        "from keras.layers import Conv2D\n",
        "\n",
        "# Generate dummy data\n",
        "input_feature = np.random.random((1, 100, 100, 1))\n",
        "\n",
        "# input: 100x100 image with 1 channels -> (100, 100, 1) tensor.\n",
        "# this applies 1 convolution filter of size 3x3 each.\n",
        "model = Sequential()\n",
        "model.add(Conv2D(1, (3, 3), input_shape=(100, 100, 1)))\n",
        "\n",
        "output_feature = model.predict(input_feature)\n",
        "\n",
        "print('Input size: ({:}, {:})'.format(input_feature.shape[1], input_feature.shape[2]))\n",
        "print('Output size: ({:}, {:})'.format(output_feature.shape[1], output_feature.shape[2]))"
      ],
      "execution_count": 27,
      "outputs": [
        {
          "output_type": "stream",
          "text": [
            "Input size: (100, 100)\n",
            "Output size: (98, 98)\n"
          ],
          "name": "stdout"
        }
      ]
    },
    {
      "metadata": {
        "id": "mNOhth4FuNob",
        "colab_type": "text"
      },
      "cell_type": "markdown",
      "source": [
        "Moreover, the final size can be also affected by two techniques: padding and striding."
      ]
    },
    {
      "metadata": {
        "id": "mT6f_n5QiU8X",
        "colab_type": "text"
      },
      "cell_type": "markdown",
      "source": [
        "# Adding Padding to Input Features\n",
        "\n",
        "Sometimes we need the output size to be equal to the input size. Padding offers the solution to that, it adds extra edges with virtual pixel values to the input features. Normally those pixes have 0 value (termed zero-padding), but depending on the application other methods could be used, e.g., reflection or symmetric padding.\n",
        "\n",
        "![](https://cdn-images-1.medium.com/max/800/1*1okwhewf5KCtIPaFib4XaA.gif)\n",
        "\n",
        "The new output size can be computed by doing:\n",
        "\n",
        "$O = W - K + 2P+ 1$, \n",
        "\n",
        "where  $P$ is the padding value."
      ]
    },
    {
      "metadata": {
        "id": "X7Z5G2O00Etd",
        "colab_type": "code",
        "outputId": "93afafaa-79a2-4ece-b76d-5821a0bcc4b9",
        "colab": {
          "base_uri": "https://localhost:8080/",
          "height": 54
        }
      },
      "cell_type": "code",
      "source": [
        "import numpy as np\n",
        "import keras\n",
        "from keras.models import Sequential\n",
        "from keras.layers import Conv2D\n",
        "\n",
        "# Generate dummy data\n",
        "input_feature = np.random.random((1, 100, 100, 1))\n",
        "\n",
        "# input: 100x100 image with 1 channels -> (100, 100, 1) tensor.\n",
        "# this applies 1 convolution filter of size 3x3 each.\n",
        "# This applies zero-padding\n",
        "model = Sequential()\n",
        "model.add(Conv2D(1, (3, 3), input_shape=(100, 100, 1), padding='same'))\n",
        "\n",
        "output_feature = model.predict(input_feature)\n",
        "\n",
        "print('Input size: ({:}, {:})'.format(input_feature.shape[1], input_feature.shape[2]))\n",
        "print('Output size: ({:}, {:})'.format(output_feature.shape[1], output_feature.shape[2]))"
      ],
      "execution_count": 28,
      "outputs": [
        {
          "output_type": "stream",
          "text": [
            "Input size: (100, 100)\n",
            "Output size: (100, 100)\n"
          ],
          "name": "stdout"
        }
      ]
    },
    {
      "metadata": {
        "id": "tdB4jMeswXVA",
        "colab_type": "text"
      },
      "cell_type": "markdown",
      "source": [
        "# Using Stride in Convolutional Layers\n",
        "\n",
        "Stride operation allows the convolutional layers to skip some of the sliding windows explained above, instead of jumping one pixel apart, we can define the number of jumps before computing the weighting sum operation. A stride of 1 means to pick windows a pixel apart, so basically every single window, acting as a standard convolution. A stride of 2 means picking windows 2 pixels apart, skipping every other window in the process. Therefore, strides reduce the size of the output map. Sometimes, we do not want to have the same output size as the input. In practice, as deeper we go through the CNN, the size of the feature map gets smaller while the number of channels increases.\n",
        "\n",
        "![](https://cdn-images-1.medium.com/max/800/1*BMngs93_rm2_BpJFH2mS0Q.gif)\n",
        "\n",
        "The new output size can be computed by doing:\n",
        "\n",
        "$O = \\dfrac{W - K + 2P}{S}+ 1$, \n",
        "\n",
        "where  $S$ is the stride value."
      ]
    },
    {
      "metadata": {
        "id": "Y8GjztiH0hnw",
        "colab_type": "code",
        "outputId": "cf48b4af-2d1c-483b-a6d2-f7c5cbcc5bbe",
        "colab": {
          "base_uri": "https://localhost:8080/",
          "height": 54
        }
      },
      "cell_type": "code",
      "source": [
        "import numpy as np\n",
        "import keras\n",
        "from keras.models import Sequential\n",
        "from keras.layers import Conv2D\n",
        "\n",
        "# Generate dummy data\n",
        "input_feature = np.random.random((1, 100, 100, 1))\n",
        "\n",
        "# input: 100x100 image with 1 channels -> (100, 100, 1) tensor.\n",
        "# this applies 1 convolution filter of size 3x3 each.\n",
        "# This applies zero-padding\n",
        "# This applies stride of 2\n",
        "model = Sequential()\n",
        "model.add(Conv2D(1, (3, 3), input_shape=(100, 100, 1), padding='same', strides=2))\n",
        "\n",
        "output_feature = model.predict(input_feature)\n",
        "\n",
        "print('Input size: ({:}, {:})'.format(input_feature.shape[1], input_feature.shape[2]))\n",
        "print('Output size: ({:}, {:})'.format(output_feature.shape[1], output_feature.shape[2]))"
      ],
      "execution_count": 29,
      "outputs": [
        {
          "output_type": "stream",
          "text": [
            "Input size: (100, 100)\n",
            "Output size: (50, 50)\n"
          ],
          "name": "stdout"
        }
      ]
    },
    {
      "metadata": {
        "id": "f-fKvgJ3H2gr",
        "colab_type": "text"
      },
      "cell_type": "markdown",
      "source": [
        "# Differences Between Kernel and Filters\n",
        "\n",
        "Examples above take an input with a single channel and compute a feature map with also one channel. However, when dealing with real images, they normally have 3 channels, RGB channels, therefore, when doing the 2D convolution we will need to define 3 kernels to interact with each of the image dimensions. This group of kernels is called filter. Thus, a filter is a collection of kernels and produces a single output.\n",
        "\n",
        "When going deeper in CNN, we use several filters in each layer, being the number of filters the same number of channels in the feature map. In addition, each filter MUST have the same number of kernels than the number of channel of the input feature. Keras already deals with the number of kernels inside each filter. Thus, we only must decide the number of filters (output channels) in each layer.\n",
        "\n",
        "Next figure shows how the convolution is performed when having three input channels. First, one filter uses its three independent kernels to convolve with the RBG channels of the input image:\n",
        "\n",
        "![](https://cdn-images-1.medium.com/max/1000/1*8dx6nxpUh2JqvYWPadTwMQ.gif)\n",
        "\n",
        "Then, each of the processed feature maps is summed together to obtain a single channel. Each of the kernels of the filter produces one single map for each channel.\n",
        "\n",
        "![](https://cdn-images-1.medium.com/max/1000/1*CYB2dyR3EhFs1xNLK8ewiA.gif)\n",
        "\n",
        "Finally, we add the bias term to obtain the final feature map. There is a single bias, therefore the bias gets added to the output channel so far to produce the final output channel. This operation is repeated for all filters on its own since each filter has a different set of kernels and a scalar bias. \n",
        "\n",
        "\n",
        "\n",
        "\n"
      ]
    },
    {
      "metadata": {
        "id": "nqiEwpdROxga",
        "colab_type": "code",
        "outputId": "9da95f0e-7793-4806-ed2a-ed8e2745713d",
        "colab": {
          "base_uri": "https://localhost:8080/",
          "height": 54
        }
      },
      "cell_type": "code",
      "source": [
        "import numpy as np\n",
        "import keras\n",
        "from keras.models import Sequential\n",
        "from keras.layers import Conv2D\n",
        "\n",
        "# Generate dummy data\n",
        "input_feature = np.random.random((1, 100, 100, 3))\n",
        "\n",
        "# input: 100x100 image with 3 channels -> (100, 100, 3) tensor.\n",
        "# this applies 32 convolution filters of size 3x3 each.\n",
        "# This applies zero-padding\n",
        "# This applies stride of 2\n",
        "model = Sequential()\n",
        "model.add(Conv2D(32, (3, 3), input_shape=(100, 100, 3), padding='same', strides=2))\n",
        "\n",
        "output_feature = model.predict(input_feature)\n",
        "\n",
        "print('Input size: ({:}, {:}, {:})'.format(input_feature.shape[1], input_feature.shape[2], input_feature.shape[3]))\n",
        "print('Output size: ({:}, {:}, {:})'.format(output_feature.shape[1], output_feature.shape[2], output_feature.shape[3]))"
      ],
      "execution_count": 30,
      "outputs": [
        {
          "output_type": "stream",
          "text": [
            "Input size: (100, 100, 3)\n",
            "Output size: (50, 50, 32)\n"
          ],
          "name": "stdout"
        }
      ]
    },
    {
      "metadata": {
        "id": "S50cYwkhPqka",
        "colab_type": "text"
      },
      "cell_type": "markdown",
      "source": [
        "# Activation Functions\n",
        "\n",
        "As seen in previous tutorials, after convolutional layers usually we can find activation functions. Those activation functions are a set of function that will map the feature values to a new set of resulting values, depending on the function at hand. \n",
        "\n",
        "In addition to mapping the values from one domain to another, they also can add non-linearities to the network by applying non-linear activation functions. \n",
        "\n",
        "\n",
        "The complete list of activation functions that Keras offers can be found [here](https://keras.io/activations/). We introduce here how some of them look:\n",
        "\n",
        "*  **Sigmoid Function** sets the output in the range (0, 1). The sigmoid function is widely used in classification problems since its output can be taken as a probability value. $keras.activations.sigmoid(x)$:\n",
        "\n",
        ">![](https://i.ibb.co/Ph8dsTv/sigmoid.png)\n",
        "\n",
        "*  **Tanh Function** is a logistic function as sigmoid, but the range of the tanh function is (-1, 1). Contrary to sigmoid function, where the values close to 0 are set around 0.5, in the tanh function they will be still mapped around the 0 value. $keras.activations.tanh(x)$:\n",
        "![](https://i.ibb.co/68g7LpL/tanh.png)\n",
        "\n",
        "*  **ReLU Function** is the most common activation function you can find in any CNN. The range of this function in \\[0, inf). Basically, it sets all negative values to 0. $keras.activations.relu(x, alpha=0.0, max_value=None, threshold=0.0)$:\n",
        "![](https://i.ibb.co/Zd9H8Z4/relu.png)\n",
        "\n",
        "*  **LeakyReLU Function** is a new version of the ReLU activation above. While ReLU does not backpropagate negative values, Leaky ReLU smooths those values without setting them to 0. That allows the gradients to backpropagate through the network. $keras.layers.LeakyReLU(alpha=0.3)$:\n",
        "![](https://i.ibb.co/dmnJ6h1/leakyrelu.png)\n",
        "\n",
        "*  **Softmax Function** is another widely activation function for multi-class classification problems. This function therefore sets the output to the range (0, 1). However, softmax function not take independently the input values to map in their probability values, it takes an un-normalized vector, $s$, and normalizes it into a probability distribution, $p$. $keras.activations.softmax(x, axis=-1)$. The output value $p_i$ is computed as:\n",
        "\n",
        "> $p_{i} = \\dfrac{e^{s_i}}{\\sum_{\\substack{j}}^{N} e^{s_j}}$\n",
        "\n",
        "\n",
        "\n"
      ]
    },
    {
      "metadata": {
        "id": "-MWo2VsYr5T2",
        "colab_type": "text"
      },
      "cell_type": "markdown",
      "source": [
        "Following example shows the feature maps before and after of the ReLU activation function. All values that are negative are set to 0 after the activation function as explained above. "
      ]
    },
    {
      "metadata": {
        "id": "lp1HH0VOqN0N",
        "colab_type": "code",
        "outputId": "3662aa9d-4f04-44ad-ae14-3eb6eb22fa12",
        "colab": {
          "base_uri": "https://localhost:8080/",
          "height": 472
        }
      },
      "cell_type": "code",
      "source": [
        "import numpy as np\n",
        "import keras\n",
        "from keras.models import Sequential, Model\n",
        "from keras.layers import Conv2D, Activation\n",
        "\n",
        "# Generate dummy data\n",
        "input_feature = np.random.random((1, 3, 3, 1)) - 0.5\n",
        "\n",
        "# input: 3x3 image with 1 channel -> (3, 3, 1) tensor.\n",
        "# This applies a 1 convolution filter of size 3x3 each.\n",
        "# This applies a ReLU activation function\n",
        "model = Sequential()\n",
        "model.add(Conv2D(1, (3, 3), input_shape=(3, 3, 1), padding='same', strides=1, name='conv'))\n",
        "model.add(Activation('relu'))\n",
        "\n",
        "model_before_ReLU = Model(inputs=model.input, outputs=model.get_layer('conv').output)\n",
        "\n",
        "output_feature = model_before_ReLU.predict(input_feature)\n",
        "output_ReLu_feature = model.predict(input_feature)\n",
        "\n",
        "print('Output Network without activation function')\n",
        "print(output_feature)\n",
        "\n",
        "print('')\n",
        "print('Output Network after ReLU activation function')\n",
        "print(output_ReLu_feature)\n"
      ],
      "execution_count": 31,
      "outputs": [
        {
          "output_type": "stream",
          "text": [
            "Output Network without activation function\n",
            "[[[[ 0.00148514]\n",
            "   [-0.01708015]\n",
            "   [ 0.04236434]]\n",
            "\n",
            "  [[ 0.00948405]\n",
            "   [-0.14155501]\n",
            "   [ 0.2395722 ]]\n",
            "\n",
            "  [[ 0.04504727]\n",
            "   [-0.03786305]\n",
            "   [ 0.06754634]]]]\n",
            "\n",
            "Output Network after ReLU activation function\n",
            "[[[[0.00148514]\n",
            "   [0.        ]\n",
            "   [0.04236434]]\n",
            "\n",
            "  [[0.00948405]\n",
            "   [0.        ]\n",
            "   [0.2395722 ]]\n",
            "\n",
            "  [[0.04504727]\n",
            "   [0.        ]\n",
            "   [0.06754634]]]]\n"
          ],
          "name": "stdout"
        }
      ]
    },
    {
      "metadata": {
        "id": "Ys6ZB1DOTLH6",
        "colab_type": "text"
      },
      "cell_type": "markdown",
      "source": [
        "# Pooling Layer\n",
        "\n",
        "It is a common practice to insert a Pooling layer between convolutional layers in CNN. As mentioned, feature sizes grow smaller progressively in order to reduce the number of parameters and the computation in the networks. To do so, as convolutional layers, pooling layers perform a spatial sliding window and applies an operation to reduce the spatial size. Those operations vary depending on the architecture, being the max, mean and min pooling the most typical ones. Here, we will explain the max pooling, although all the others work in a similar way. Max pooling keeps only the max value in a neighbohood, where the neighhood is defined by the size of the kernel. Next example shows the result of a Max Pooling layer with a 2x2 kernel and a stride of 2.\n",
        "\n",
        "![](https://i.ibb.co/Xp454S4/MaxPool.png)\n",
        "\n",
        "As in convolutional layers, the final size is conditioned to the stride size. However, contrary to convolutional layers, pooling layers operate independently on each of the input channels, without modifying the depth of the feature maps. "
      ]
    },
    {
      "metadata": {
        "id": "HzoTGOwDmQm4",
        "colab_type": "code",
        "outputId": "def2007f-7196-4bba-e358-ee146ac5df17",
        "colab": {
          "base_uri": "https://localhost:8080/",
          "height": 54
        }
      },
      "cell_type": "code",
      "source": [
        "import numpy as np\n",
        "import keras\n",
        "from keras.models import Sequential\n",
        "from keras.layers import Conv2D, Activation, MaxPooling2D\n",
        "\n",
        "# Generate dummy data\n",
        "input_feature = np.random.random((1, 100, 100, 3))\n",
        "\n",
        "# input: 100x100 image with 3 channels -> (100, 100, 3) tensor.\n",
        "# this applies 32 convolution filters of size 3x3 each.\n",
        "# This applies zero-padding\n",
        "# This applies maxPooling of 2\n",
        "model = Sequential()\n",
        "model.add(Conv2D(32, (3, 3), input_shape=(100, 100, 3), padding='same', strides=1))\n",
        "model.add(Activation('relu'))\n",
        "model.add(MaxPooling2D(pool_size=(2, 2), strides=(2, 2), padding='same'))\n",
        "\n",
        "output_feature = model.predict(input_feature)\n",
        "\n",
        "print('Input size: ({:}, {:}, {:})'.format(input_feature.shape[1], input_feature.shape[2], input_feature.shape[3]))\n",
        "print('Output size: ({:}, {:}, {:})'.format(output_feature.shape[1], output_feature.shape[2], output_feature.shape[3]))"
      ],
      "execution_count": 32,
      "outputs": [
        {
          "output_type": "stream",
          "text": [
            "Input size: (100, 100, 3)\n",
            "Output size: (50, 50, 32)\n"
          ],
          "name": "stdout"
        }
      ]
    },
    {
      "metadata": {
        "id": "Q0ZorPBtpLlZ",
        "colab_type": "text"
      },
      "cell_type": "markdown",
      "source": [
        "#HANDS-ON \n",
        "\n",
        "At this point, we already know what are CNNs, how they work and their components in order to design them. \n",
        "\n",
        "We want you to design a CNN able to outperform a 1D neural network. We will use CIFAR10, so try to repeat the experiment but with a CNN and outperform the 1D NN:"
      ]
    },
    {
      "metadata": {
        "id": "2gkM3dPZbNcX",
        "colab_type": "text"
      },
      "cell_type": "markdown",
      "source": [
        "Let's now load the dataset and visualize some data examples:"
      ]
    },
    {
      "metadata": {
        "id": "zKWvv0VwZPH3",
        "colab_type": "code",
        "outputId": "2e6ea26f-e7a1-44ea-e763-30dd57a111ba",
        "colab": {
          "base_uri": "https://localhost:8080/",
          "height": 400
        }
      },
      "cell_type": "code",
      "source": [
        "import matplotlib.pyplot as plt\n",
        "import numpy as np\n",
        "\n",
        "from keras.models import Sequential\n",
        "from keras.layers import Dense, Dropout, Activation\n",
        "from keras.utils import np_utils\n",
        "from keras.datasets import cifar10\n",
        "from keras.optimizers import rmsprop\n",
        "\n",
        "# the data, shuffled and split between train and test sets\n",
        "(X_train, y_train), (X_test, y_test) = cifar10.load_data()\n",
        "\n",
        "print('Image shape: {0}'.format(X_train.shape[1:]))\n",
        "print('Total number of training samples: {0}'.format(X_train.shape[0]))\n",
        "print('Total number of test samples: {0}'.format(X_test.shape[0]))\n",
        "\n",
        "# Let's visualize some examples\n",
        "N=5\n",
        "start_val = 0 # pick an element for the code to plot the following N**2 values\n",
        "fig, axes = plt.subplots(N,N)\n",
        "items = list(range(0, 10))\n",
        "for row in range(N):\n",
        "  for col in range(N):\n",
        "    idx = start_val+row+N*col\n",
        "    axes[row,col].imshow(X_train[idx], cmap='gray')\n",
        "    fig.subplots_adjust(hspace=0.5)\n",
        "    y_target = int(y_train[idx])\n",
        "    target = str(items[y_target])\n",
        "    axes[row,col].set_title(target)\n",
        "    axes[row,col].set_xticks([])\n",
        "    axes[row,col].set_yticks([])"
      ],
      "execution_count": 33,
      "outputs": [
        {
          "output_type": "stream",
          "text": [
            "Image shape: (32, 32, 3)\n",
            "Total number of training samples: 50000\n",
            "Total number of test samples: 10000\n"
          ],
          "name": "stdout"
        },
        {
          "output_type": "display_data",
          "data": {
            "image/png": "[encoded data removed]",
            "text/plain": [
              "<Figure size 576x396 with 25 Axes>"
            ]
          },
          "metadata": {
            "tags": []
          }
        }
      ]
    },
    {
      "metadata": {
        "id": "-p9uVP3pccOW",
        "colab_type": "text"
      },
      "cell_type": "markdown",
      "source": [
        "We need to preprocess the dataset images for our 1D neural network:"
      ]
    },
    {
      "metadata": {
        "id": "bFurVCqpclnm",
        "colab_type": "code",
        "outputId": "5356995a-4746-486b-9d79-ec7f1f4b4449",
        "colab": {
          "base_uri": "https://localhost:8080/",
          "height": 54
        }
      },
      "cell_type": "code",
      "source": [
        "# Preprocess dataset for a 1D neural network\n",
        "\n",
        "X_train = X_train.astype('float32')\n",
        "X_test = X_test.astype('float32')\n",
        "\n",
        "X_train /= 255\n",
        "X_test /= 255\n",
        "\n",
        "X_train_flatten = X_train.reshape(X_train.shape[0], X_train.shape[1] * X_train.shape[2]*3)\n",
        "X_test_flatten = X_test.reshape(X_test.shape[0], X_test.shape[1] * X_test.shape[2]*3)\n",
        "\n",
        "print('New X_train shape: {0}'.format(X_train_flatten.shape))\n",
        "\n",
        "Y_train_class = np_utils.to_categorical(y_train, 10)\n",
        "Y_test_class = np_utils.to_categorical(y_test, 10)\n",
        "\n",
        "print('New Y_train shape: {0}'.format(Y_train_class.shape))\n"
      ],
      "execution_count": 34,
      "outputs": [
        {
          "output_type": "stream",
          "text": [
            "New X_train shape: (50000, 3072)\n",
            "New Y_train shape: (50000, 10)\n"
          ],
          "name": "stdout"
        }
      ]
    },
    {
      "metadata": {
        "id": "mxFx2s3Fc6wM",
        "colab_type": "text"
      },
      "cell_type": "markdown",
      "source": [
        "Now, we are ready to define our model and train it."
      ]
    },
    {
      "metadata": {
        "id": "KEZW-1pxbKlC",
        "colab_type": "code",
        "outputId": "61575b6b-3208-4b95-f746-4219d29eaf05",
        "colab": {
          "base_uri": "https://localhost:8080/",
          "height": 945
        }
      },
      "cell_type": "code",
      "source": [
        "model = Sequential()\n",
        "model.add(Dense(32, activation='relu', input_shape=(X_train_flatten.shape[1:])))\n",
        "model.add(Dropout(0.25))\n",
        "\n",
        "model.add(Dense(64, activation='relu'))\n",
        "model.add(Dropout(0.25))\n",
        "\n",
        "model.add(Dense(128, activation='relu'))\n",
        "model.add(Dropout(0.25))\n",
        "\n",
        "model.add(Dense(256, activation='relu'))\n",
        "model.add(Dropout(0.25))\n",
        "\n",
        "model.add(Dense(512, activation='relu'))\n",
        "model.add(Dropout(0.5))\n",
        "\n",
        "model.add(Dense(10, activation='softmax'))\n",
        "\n",
        "model.summary()\n",
        "\n",
        "# initiate RMSprop optimizer\n",
        "opt = rmsprop(lr=0.0001, decay=1e-6)\n",
        "\n",
        "# Let's train the model using RMSprop\n",
        "model.compile(loss='categorical_crossentropy',\n",
        "              optimizer=opt,\n",
        "              metrics=['accuracy'])\n",
        "\n",
        "model.fit(X_train_flatten, Y_train_class, batch_size=32, epochs=10)\n",
        "\n",
        "score = model.evaluate(X_test_flatten, Y_test_class, verbose=0)\n",
        "print('Test loss:', score[0])\n",
        "print('Test accuracy:', score[1])"
      ],
      "execution_count": 35,
      "outputs": [
        {
          "output_type": "stream",
          "text": [
            "_________________________________________________________________\n",
            "Layer (type)                 Output Shape              Param #   \n",
            "=================================================================\n",
            "dense_13 (Dense)             (None, 32)                98336     \n",
            "_________________________________________________________________\n",
            "dropout_6 (Dropout)          (None, 32)                0         \n",
            "_________________________________________________________________\n",
            "dense_14 (Dense)             (None, 64)                2112      \n",
            "_________________________________________________________________\n",
            "dropout_7 (Dropout)          (None, 64)                0         \n",
            "_________________________________________________________________\n",
            "dense_15 (Dense)             (None, 128)               8320      \n",
            "_________________________________________________________________\n",
            "dropout_8 (Dropout)          (None, 128)               0         \n",
            "_________________________________________________________________\n",
            "dense_16 (Dense)             (None, 256)               33024     \n",
            "_________________________________________________________________\n",
            "dropout_9 (Dropout)          (None, 256)               0         \n",
            "_________________________________________________________________\n",
            "dense_17 (Dense)             (None, 512)               131584    \n",
            "_________________________________________________________________\n",
            "dropout_10 (Dropout)         (None, 512)               0         \n",
            "_________________________________________________________________\n",
            "dense_18 (Dense)             (None, 10)                5130      \n",
            "=================================================================\n",
            "Total params: 278,506\n",
            "Trainable params: 278,506\n",
            "Non-trainable params: 0\n",
            "_________________________________________________________________\n",
            "Epoch 1/10\n",
            "50000/50000 [==============================] - 13s 264us/step - loss: 2.1487 - acc: 0.1804\n",
            "Epoch 2/10\n",
            "50000/50000 [==============================] - 13s 263us/step - loss: 2.0106 - acc: 0.2281\n",
            "Epoch 3/10\n",
            "50000/50000 [==============================] - 13s 258us/step - loss: 1.9694 - acc: 0.2520\n",
            "Epoch 4/10\n",
            "50000/50000 [==============================] - 13s 251us/step - loss: 1.9490 - acc: 0.2640\n",
            "Epoch 5/10\n",
            "50000/50000 [==============================] - 13s 254us/step - loss: 1.9238 - acc: 0.2797\n",
            "Epoch 6/10\n",
            "50000/50000 [==============================] - 13s 254us/step - loss: 1.9042 - acc: 0.2889\n",
            "Epoch 7/10\n",
            "50000/50000 [==============================] - 13s 266us/step - loss: 1.8889 - acc: 0.2992\n",
            "Epoch 8/10\n",
            "50000/50000 [==============================] - 13s 252us/step - loss: 1.8763 - acc: 0.3058\n",
            "Epoch 9/10\n",
            "50000/50000 [==============================] - 12s 249us/step - loss: 1.8673 - acc: 0.3084\n",
            "Epoch 10/10\n",
            "50000/50000 [==============================] - 13s 251us/step - loss: 1.8614 - acc: 0.3100\n",
            "Test loss: 1.9092245504379273\n",
            "Test accuracy: 0.3202\n"
          ],
          "name": "stdout"
        }
      ]
    },
    {
      "metadata": {
        "id": "CEuYNmyHlVJd",
        "colab_type": "text"
      },
      "cell_type": "markdown",
      "source": [
        "Define here your CNN architecture. You can try different combinations of 2D convolutional layers,  data augmentation, batch normalization, dropout, activation functions... and see how far you can get! "
      ]
    },
    {
      "metadata": {
        "id": "1dnoqogYc6Zt",
        "colab_type": "code",
        "outputId": "32872b4f-26db-4b4c-a3a4-da1cceccfcb1",
        "colab": {
          "base_uri": "https://localhost:8080/",
          "height": 326
        }
      },
      "cell_type": "code",
      "source": [
        "from keras.layers import Conv2D, MaxPooling2D, Flatten\n",
        "\n",
        "model = Sequential()\n",
        "model.add(Conv2D(32, (3, 3), padding='same', input_shape=(X_train.shape[1], X_train.shape[2], X_train.shape[3])))\n",
        "print(X_train.shape[1:])\n",
        "# . . .\n",
        "\n",
        "print('Define here your architecture')\n",
        "\n",
        "# . . .\n",
        "model.add(Flatten())\n",
        "model.add(Dense(10))\n",
        "model.add(Activation('softmax'))\n",
        "\n",
        "model.summary()"
      ],
      "execution_count": 36,
      "outputs": [
        {
          "output_type": "stream",
          "text": [
            "(32, 32, 3)\n",
            "Define here your architecture\n",
            "_________________________________________________________________\n",
            "Layer (type)                 Output Shape              Param #   \n",
            "=================================================================\n",
            "conv2d_14 (Conv2D)           (None, 32, 32, 32)        896       \n",
            "_________________________________________________________________\n",
            "flatten_2 (Flatten)          (None, 32768)             0         \n",
            "_________________________________________________________________\n",
            "dense_19 (Dense)             (None, 10)                327690    \n",
            "_________________________________________________________________\n",
            "activation_7 (Activation)    (None, 10)                0         \n",
            "=================================================================\n",
            "Total params: 328,586\n",
            "Trainable params: 328,586\n",
            "Non-trainable params: 0\n",
            "_________________________________________________________________\n"
          ],
          "name": "stdout"
        }
      ]
    },
    {
      "metadata": {
        "id": "YcFCF4DwmCRw",
        "colab_type": "text"
      },
      "cell_type": "markdown",
      "source": [
        "We leave the result of a CNN only trained 3 epocs that already outperforms the previous 1D neural network."
      ]
    },
    {
      "metadata": {
        "id": "snZIPgyFmGP2",
        "colab_type": "code",
        "outputId": "28813385-e44e-49ec-8591-0451f8fa03e4",
        "colab": {
          "base_uri": "https://localhost:8080/",
          "height": 163
        }
      },
      "cell_type": "code",
      "source": [
        "# initiate RMSprop optimizer\n",
        "opt = rmsprop(lr=0.0001, decay=1e-6)\n",
        "\n",
        "model.compile(loss='categorical_crossentropy',\n",
        "              optimizer=opt,\n",
        "              metrics=['accuracy'])\n",
        "\n",
        "model.fit(X_train, Y_train_class, batch_size=32, epochs=3)\n",
        "\n",
        "score = model.evaluate(X_test, Y_test_class, verbose=0)\n",
        "print('Test loss:', score[0])\n",
        "print('Test accuracy:', score[1])"
      ],
      "execution_count": 37,
      "outputs": [
        {
          "output_type": "stream",
          "text": [
            "Epoch 1/3\n",
            "50000/50000 [==============================] - 54s 1ms/step - loss: 1.8396 - acc: 0.3550\n",
            "Epoch 2/3\n",
            "50000/50000 [==============================] - 54s 1ms/step - loss: 1.7205 - acc: 0.4099\n",
            "Epoch 3/3\n",
            "50000/50000 [==============================] - 54s 1ms/step - loss: 1.6907 - acc: 0.4251\n",
            "Test loss: 1.712019095993042\n",
            "Test accuracy: 0.4123\n"
          ],
          "name": "stdout"
        }
      ]
    }
  ]
}