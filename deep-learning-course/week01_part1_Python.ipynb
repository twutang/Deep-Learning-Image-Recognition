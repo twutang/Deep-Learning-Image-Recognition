{
  "nbformat": 4,
  "nbformat_minor": 0,
  "metadata": {
    "colab": {
      "name": "week01_part1_Python.ipynb",
      "version": "0.3.2",
      "provenance": [],
      "collapsed_sections": [],
      "include_colab_link": true
    },
    "kernelspec": {
      "name": "python2",
      "display_name": "Python 2"
    }
  },
  "cells": [
    {
      "cell_type": "markdown",
      "metadata": {
        "id": "view-in-github",
        "colab_type": "text"
      },
      "source": [
        "<a href=\"https://colab.research.google.com/github/MatchLab-Imperial/deep-learning-course/blob/master/week01_part1_Python.ipynb\" target=\"_parent\"><img src=\"https://colab.research.google.com/assets/colab-badge.svg\" alt=\"Open In Colab\"/></a>"
      ]
    },
    {
      "metadata": {
        "id": "nw3aSqi7FUjB",
        "colab_type": "text"
      },
      "cell_type": "markdown",
      "source": [
        "\n",
        "# Introduction to Python\n",
        "\n",
        "In this tutorial, we introduce some basic concepts about Python (version 2.7), the programming language we will use for the rest of deep learning course.\n",
        "\n",
        "In contrast with compiled languages, e.g, C, Java, where instructions in the source code are translated in a lower-level language before to be run, Python is an interpreted language and instructions are directly executed without any intermediate steps.\n",
        "\n",
        "*   **Pro**: platform independence, easy of debugging, rapid prototyping\n",
        "*   **Cons**: lower execution speed\n",
        "\n",
        "Python interpreter can be invoked anytime on the command line by typing “Python”. Then, it will execute each statement that you type on the command line followed by “enter”. In a Jupyter Notebook like this, you can create a new code cell and write a piece of code, and when you run the cell you can also see the output, like in this example."
      ]
    },
    {
      "metadata": {
        "id": "a1neDMAqFjn_",
        "colab_type": "code",
        "colab": {
          "base_uri": "https://localhost:8080/",
          "height": 34
        },
        "outputId": "fe9769f7-5dad-49f1-a9a7-7d533652310a"
      },
      "cell_type": "code",
      "source": [
        "print ('Hello world!')"
      ],
      "execution_count": 1,
      "outputs": [
        {
          "output_type": "stream",
          "text": [
            "Hello world!\n"
          ],
          "name": "stdout"
        }
      ]
    },
    {
      "metadata": {
        "id": "JctnCNL5KOXE",
        "colab_type": "text"
      },
      "cell_type": "markdown",
      "source": [
        "If you are in the Python interpreter mode, you can simply type exit() to exit it. We will use Jupyter Notebooks for the tutorials as we can integrate code and visualizations in the same document, but you can write instructions on a .py file by using your favourite text editor and run it. For example, you could write hello_world.py and next execute it from the terminal with python hello_world.py. \n",
        "\n",
        "## Data type\n",
        "\n",
        "Everything in Python is an object with a type and correspondent data. Some types are:\n",
        "\n",
        "* **Numeric type:** None, str, unicode, float (64 bit), bool, int, long\n",
        "* **String**\n",
        "* **Boolean:** True, False\n",
        "\n",
        "Python is dynamically but strongly typed. In a strongly typed language you cannot perform operations not compatible with the data type, e.g.:"
      ]
    },
    {
      "metadata": {
        "id": "xCKF_BvINBXF",
        "colab_type": "code",
        "outputId": "9a4abcdc-5e18-4d7b-ac36-784c9c2240a7",
        "colab": {
          "base_uri": "https://localhost:8080/",
          "height": 197
        }
      },
      "cell_type": "code",
      "source": [
        "a = 10\n",
        "b = '3'\n",
        "print(a + b)"
      ],
      "execution_count": 2,
      "outputs": [
        {
          "output_type": "error",
          "ename": "TypeError",
          "evalue": "ignored",
          "traceback": [
            "\u001b[0;31m\u001b[0m",
            "\u001b[0;31mTypeError\u001b[0mTraceback (most recent call last)",
            "\u001b[0;32m<ipython-input-2-996ce71e8773>\u001b[0m in \u001b[0;36m<module>\u001b[0;34m()\u001b[0m\n\u001b[1;32m      1\u001b[0m \u001b[0ma\u001b[0m \u001b[0;34m=\u001b[0m \u001b[0;36m10\u001b[0m\u001b[0;34m\u001b[0m\u001b[0m\n\u001b[1;32m      2\u001b[0m \u001b[0mb\u001b[0m \u001b[0;34m=\u001b[0m \u001b[0;34m'3'\u001b[0m\u001b[0;34m\u001b[0m\u001b[0m\n\u001b[0;32m----> 3\u001b[0;31m \u001b[0;32mprint\u001b[0m\u001b[0;34m(\u001b[0m\u001b[0ma\u001b[0m \u001b[0;34m+\u001b[0m \u001b[0mb\u001b[0m\u001b[0;34m)\u001b[0m\u001b[0;34m\u001b[0m\u001b[0m\n\u001b[0m",
            "\u001b[0;31mTypeError\u001b[0m: unsupported operand type(s) for +: 'int' and 'str'"
          ]
        }
      ]
    },
    {
      "metadata": {
        "id": "O87PEyZENII6",
        "colab_type": "text"
      },
      "cell_type": "markdown",
      "source": [
        "However, it is dynamically typed, meaning 'a variable is simply a value bound to a name; the value has a type -- like \"integer\" or \"string\" or \"list\" -- but the variable itself doesn't. You could have a variable which, right now, holds a number, and later assign a string to it if you need it to change.'' as described in the [Python wiki](https://wiki.python.org/moin/Why%20is%20Python%20a%20dynamic%20language%20and%20also%20a%20strongly%20typed%20language). For example, this works:"
      ]
    },
    {
      "metadata": {
        "id": "RnWzAQ7TMbrG",
        "colab_type": "code",
        "colab": {}
      },
      "cell_type": "code",
      "source": [
        "a = 10\n",
        "a = 'Test'"
      ],
      "execution_count": 0,
      "outputs": []
    },
    {
      "metadata": {
        "id": "OmN3-1haKirK",
        "colab_type": "text"
      },
      "cell_type": "markdown",
      "source": [
        " ## Indentation\n",
        "\n",
        "Python uses the indentation level of the line to determine the grouping of statements instead of using braces or other characters.\n",
        "For example:"
      ]
    },
    {
      "metadata": {
        "id": "R7A_MqasLBtJ",
        "colab_type": "code",
        "outputId": "4530f111-06bf-4513-d112-cebc3f5f7067",
        "colab": {
          "base_uri": "https://localhost:8080/",
          "height": 34
        }
      },
      "cell_type": "code",
      "source": [
        "# This piece of code will execute fine\n",
        "if True:\n",
        "  if True:\n",
        "    print('Indentation correct')"
      ],
      "execution_count": 4,
      "outputs": [
        {
          "output_type": "stream",
          "text": [
            "Indentation correct\n"
          ],
          "name": "stdout"
        }
      ]
    },
    {
      "metadata": {
        "id": "FmL_ONnOLQCK",
        "colab_type": "code",
        "outputId": "19ba56a4-1e4b-4c03-d7e3-ed3d5e04b219",
        "colab": {
          "base_uri": "https://localhost:8080/",
          "height": 129
        }
      },
      "cell_type": "code",
      "source": [
        "# This piece of code will fail due to bad indentation\n",
        "if True:\n",
        "  if True:\n",
        "  print('Indentation correct')"
      ],
      "execution_count": 5,
      "outputs": [
        {
          "output_type": "error",
          "ename": "IndentationError",
          "evalue": "ignored",
          "traceback": [
            "\u001b[0;36m  File \u001b[0;32m\"<ipython-input-5-5e971eae7b92>\"\u001b[0;36m, line \u001b[0;32m3\u001b[0m\n\u001b[0;31m    print('Indentation correct')\u001b[0m\n\u001b[0m        ^\u001b[0m\n\u001b[0;31mIndentationError\u001b[0m\u001b[0;31m:\u001b[0m expected an indented block\n"
          ]
        }
      ]
    },
    {
      "metadata": {
        "id": "NI1mrDmOLhR4",
        "colab_type": "code",
        "outputId": "eefee917-a5b8-4edf-daaf-c325ebc74af6",
        "colab": {
          "base_uri": "https://localhost:8080/",
          "height": 129
        }
      },
      "cell_type": "code",
      "source": [
        "# This piece of code will also fail due to not using any indentation\n",
        "if True:\n",
        "if True:\n",
        "print('Indentation correct')"
      ],
      "execution_count": 6,
      "outputs": [
        {
          "output_type": "error",
          "ename": "IndentationError",
          "evalue": "ignored",
          "traceback": [
            "\u001b[0;36m  File \u001b[0;32m\"<ipython-input-6-71c059035cfc>\"\u001b[0;36m, line \u001b[0;32m2\u001b[0m\n\u001b[0;31m    if True:\u001b[0m\n\u001b[0m     ^\u001b[0m\n\u001b[0;31mIndentationError\u001b[0m\u001b[0;31m:\u001b[0m expected an indented block\n"
          ]
        }
      ]
    },
    {
      "metadata": {
        "id": "d9dOYDpmFk6I",
        "colab_type": "text"
      },
      "cell_type": "markdown",
      "source": [
        "## Control instructions\n",
        "\n",
        "To control the flow of your program control instructions are essential.\n",
        "\n",
        "* If/elif/else\n",
        "* Loops\n",
        "* Ternary expression"
      ]
    },
    {
      "metadata": {
        "id": "5hzTezdaFvBn",
        "colab_type": "code",
        "outputId": "abead6a1-ca9e-477a-a366-015ac255faf2",
        "colab": {
          "base_uri": "https://localhost:8080/",
          "height": 34
        }
      },
      "cell_type": "code",
      "source": [
        "# if/elif/else\n",
        "# Check if the input number is odd or even\n",
        "num = 8\n",
        "if (num%2) == 0:\n",
        "  print(str(num)+\" is an even number.\")\n",
        "else:\n",
        "  print(str(num)+\" is an odd number.\")"
      ],
      "execution_count": 7,
      "outputs": [
        {
          "output_type": "stream",
          "text": [
            "8 is an even number.\n"
          ],
          "name": "stdout"
        }
      ]
    },
    {
      "metadata": {
        "id": "XfnbYvyPFxVG",
        "colab_type": "code",
        "outputId": "10adb9f6-b03d-4057-8b95-0d5f61fb254e",
        "colab": {
          "base_uri": "https://localhost:8080/",
          "height": 34
        }
      },
      "cell_type": "code",
      "source": [
        "# if/elif/else\n",
        "# Check if the input number is positive, negative or zero\n",
        "num = 8\n",
        "if num == 0:\n",
        "  print(str(num) + \" is neither negative nor positive.\")\n",
        "elif num < 0:\n",
        "  print(str(num) + \" is a negative number.\")\n",
        "else:\n",
        "  print(str(num) + \" is a positive number.\")"
      ],
      "execution_count": 8,
      "outputs": [
        {
          "output_type": "stream",
          "text": [
            "8 is a positive number.\n"
          ],
          "name": "stdout"
        }
      ]
    },
    {
      "metadata": {
        "id": "_java7EMFyoH",
        "colab_type": "code",
        "outputId": "9936eb69-d8e1-4794-b780-35d25fc8b549",
        "colab": {
          "base_uri": "https://localhost:8080/",
          "height": 119
        }
      },
      "cell_type": "code",
      "source": [
        "# Loops\n",
        "# Display all the number within an interval\n",
        "left_bound = 1\n",
        "right_bound = 10\n",
        "step = 2\n",
        "print(\"The left closed interval is:\")\n",
        "# range generates a list of numbers generally used to iterate over\n",
        "# it is defined as range([start], stop[, step]), where start and step are\n",
        "# optional arguments\n",
        "for i in range(left_bound, right_bound, step):\n",
        "  print(i)"
      ],
      "execution_count": 9,
      "outputs": [
        {
          "output_type": "stream",
          "text": [
            "The left closed interval is:\n",
            "1\n",
            "3\n",
            "5\n",
            "7\n",
            "9\n"
          ],
          "name": "stdout"
        }
      ]
    },
    {
      "metadata": {
        "id": "o-GC7aGzQIWm",
        "colab_type": "text"
      },
      "cell_type": "markdown",
      "source": [
        "A ternary expression is defined in the way:\n",
        "\n",
        "``` variable = expression1 if condition else expression2 ```\n",
        "\n",
        "Where ```variable``` takes value ```expression1``` if ```condition``` is ```True```, or ```expression2``` if it is ```False```. An example is:\n",
        "\n"
      ]
    },
    {
      "metadata": {
        "id": "Je_7uoTNF0F-",
        "colab_type": "code",
        "outputId": "e18ccf4d-ebb5-476a-811d-7e9208be6b04",
        "colab": {
          "base_uri": "https://localhost:8080/",
          "height": 34
        }
      },
      "cell_type": "code",
      "source": [
        "# Ternary expression\n",
        "# To check if the input number is odd or even\n",
        "num = 10\n",
        "message = \"is an even number.\" if (num%2) == 0  else \"is an odd number.\"\n",
        "print(message)"
      ],
      "execution_count": 10,
      "outputs": [
        {
          "output_type": "stream",
          "text": [
            "is an even number.\n"
          ],
          "name": "stdout"
        }
      ]
    },
    {
      "metadata": {
        "id": "yZyxlr1RF1Um",
        "colab_type": "text"
      },
      "cell_type": "markdown",
      "source": [
        "\n",
        "## Functions\n",
        "\n",
        "[Official Reference Manual](https://docs.python.org/2.0/ref/function.html)\n",
        "\n",
        "Useful for organizing and reusing blocks of code and can be defined with two keywords, i.e, def and return. Def defines the function, followed by name and input parameters, and is used return is to come back to the call function, followed by output arguments. \n",
        "\n",
        "In a function it can be any number of input/output arguments and return statements. Besides, there are two types of input arguments: positional (without a name, order matters), keyword (with a name). Note that keyword arguments need to be defined after positional arguments, and they have a default value.\n",
        "\n",
        "Examples:"
      ]
    },
    {
      "metadata": {
        "id": "6zo52YpQF8vW",
        "colab_type": "code",
        "outputId": "759cc773-accf-415c-8bfd-96a3fd0b0b6d",
        "colab": {
          "base_uri": "https://localhost:8080/",
          "height": 34
        }
      },
      "cell_type": "code",
      "source": [
        "# Function, one positional argument\n",
        "# Check if the input number is odd or even\n",
        "def isOdd(num):\n",
        "  if (num%2) == 0:\n",
        "    return False\n",
        "  else:\n",
        "    return True\n",
        "\n",
        "\n",
        "def main():\n",
        "\tnum = 10\n",
        "\tanswer = isOdd(num)\n",
        "\tif answer == True:\n",
        "\t\tprint(\"The number is odd\")\n",
        "\telse:\n",
        "\t\tprint(\"The number is even\")\n",
        "    \n",
        "main()"
      ],
      "execution_count": 11,
      "outputs": [
        {
          "output_type": "stream",
          "text": [
            "The number is even\n"
          ],
          "name": "stdout"
        }
      ]
    },
    {
      "metadata": {
        "id": "Dz8KGrYjF-6W",
        "colab_type": "code",
        "outputId": "65aa4881-2c25-47d6-fe17-7edcbdfa75a9",
        "colab": {
          "base_uri": "https://localhost:8080/",
          "height": 85
        }
      },
      "cell_type": "code",
      "source": [
        "# Function, one positional argument and two keyword arguments\n",
        "# Find the maximum among three values\n",
        "def max_of_three(num1, num2=15, num3=100):\n",
        "  if (num1 >= num2 and num1 >= num3):\n",
        "    return num1\n",
        "  elif (num2 >= num1 and num2 >= num3):\n",
        "    return num2\n",
        "  elif (num3 >= num1 and num3 >= num2):\n",
        "    return num3\n",
        "\n",
        "def main():\n",
        "  var1 = 10\n",
        "  var2 = 30\n",
        "  var3 = 20\n",
        "  # As no keywords are used, only position matters, so num1 = var1,\n",
        "  # num2 = var2 and num3 takes the default value of 100\n",
        "  max_num = max_of_three(var1, var2)\n",
        "  print(\"Max among \" + str(var1) + \", \"+str(var2) + \" and 100 is:\")\n",
        "  print(max_num)\n",
        "  \n",
        "  # As we use the keyword num3, then num2 takes the default value 15\n",
        "  # and num3 = var3\n",
        "  max_num = max_of_three(var1, num3=var3)\n",
        "  print(\"Max among \" + str(var1) + \", \"+str(var3) + \" and 15 is:\")\n",
        "  print(max_num)\n",
        "  \n",
        "\n",
        "main()"
      ],
      "execution_count": 12,
      "outputs": [
        {
          "output_type": "stream",
          "text": [
            "Max among 10, 30 and 100 is:\n",
            "100\n",
            "Max among 10, 20 and 15 is:\n",
            "20\n"
          ],
          "name": "stdout"
        }
      ]
    },
    {
      "metadata": {
        "id": "CfMrZSOmGBUW",
        "colab_type": "text"
      },
      "cell_type": "markdown",
      "source": [
        "## Exceptions \n",
        "\n",
        "[Official Documentation](https://docs.python.org/2/tutorial/errors.html)\n",
        "\n",
        "Handling errors and exceptions is crucial to have robust programs, which can be done by using ```try/except/else/finally```.\n",
        "\n",
        "First, the staments in the ```try``` clause are executed. If an exception is found, the rest of the ```try``` clause is skipped and the ```except``` clause is executed. If the ```try``` clause does not raise an exception, the ```else``` clause is then executed. And then, the ```finally``` clause is executed in all cases. \n",
        " "
      ]
    },
    {
      "metadata": {
        "id": "nwXPNXsiGAtl",
        "colab_type": "code",
        "outputId": "cfc3511c-961b-4e54-ea82-b7f59b99cba4",
        "colab": {
          "base_uri": "https://localhost:8080/",
          "height": 85
        }
      },
      "cell_type": "code",
      "source": [
        "# Converts a given input to float\n",
        "def string_to_float(string):\n",
        "  try:\n",
        "    string = float(string)\n",
        "  except:\n",
        "    print(\"Error\")\n",
        "  else:\n",
        "    print(\"Successfully converted\")\n",
        "  finally:\n",
        "    print(\"This is always executed\")\n",
        "\n",
        "\n",
        "def main():\n",
        "  # '7' can be casted to 7, so this works\n",
        "  num = string_to_float('7')\n",
        "  # float('hello') will raise an exception\n",
        "  num = string_to_float('hello')\n",
        "  \n",
        "main()"
      ],
      "execution_count": 13,
      "outputs": [
        {
          "output_type": "stream",
          "text": [
            "Successfully converted\n",
            "This is always executed\n",
            "Error\n",
            "This is always executed\n"
          ],
          "name": "stdout"
        }
      ]
    },
    {
      "metadata": {
        "id": "usn74xZaGGpF",
        "colab_type": "text"
      },
      "cell_type": "markdown",
      "source": [
        "## Data structures\n",
        "[Official Documentation](https://docs.python.org/2/tutorial/datastructures.html)\n",
        "\n",
        "Some basic structures are:\n",
        "\n",
        "* Tuple: fixed-length, immutable sequence of python object\n",
        "* List: variable length, mutable\n",
        "* Dict: hash map or associative array with key-values\n",
        "\n",
        "**Tuple examples**"
      ]
    },
    {
      "metadata": {
        "id": "YJSkbnewGMzt",
        "colab_type": "code",
        "outputId": "37cc7c25-6978-4256-d94f-989b40a93ff9",
        "colab": {
          "base_uri": "https://localhost:8080/",
          "height": 34
        }
      },
      "cell_type": "code",
      "source": [
        "# Declaration\n",
        "warm_colours = ('red', 'orange', 'yellow')\n",
        "warm_colours[1]"
      ],
      "execution_count": 14,
      "outputs": [
        {
          "output_type": "execute_result",
          "data": {
            "text/plain": [
              "'orange'"
            ]
          },
          "metadata": {
            "tags": []
          },
          "execution_count": 14
        }
      ]
    },
    {
      "metadata": {
        "id": "QS9axfv5GNUt",
        "colab_type": "code",
        "outputId": "cffe60e9-f491-45fe-b8de-ef948ec4de56",
        "colab": {
          "base_uri": "https://localhost:8080/",
          "height": 34
        }
      },
      "cell_type": "code",
      "source": [
        "# Concatenation\n",
        "cool_colours = ('blu', 'green')\n",
        "colours = cool_colours + warm_colours\n",
        "# As tuples are immutable, concatenation creates a new tuple with\n",
        "# elements from cool_colours and warm_colours\n",
        "print(colours)"
      ],
      "execution_count": 15,
      "outputs": [
        {
          "output_type": "stream",
          "text": [
            "('blu', 'green', 'red', 'orange', 'yellow')\n"
          ],
          "name": "stdout"
        }
      ]
    },
    {
      "metadata": {
        "id": "5rQ4sxeCGMFW",
        "colab_type": "text"
      },
      "cell_type": "markdown",
      "source": [
        "**List examples**"
      ]
    },
    {
      "metadata": {
        "id": "3IZnZbk2GWYe",
        "colab_type": "code",
        "outputId": "0304016d-a18b-4da3-c66d-6961586a5a79",
        "colab": {
          "base_uri": "https://localhost:8080/",
          "height": 34
        }
      },
      "cell_type": "code",
      "source": [
        "# Declaration\n",
        "warm_colour=['red', 'orange']\n",
        "# Zero-indexing, first index is 0\n",
        "warm_colours[0]"
      ],
      "execution_count": 16,
      "outputs": [
        {
          "output_type": "execute_result",
          "data": {
            "text/plain": [
              "'red'"
            ]
          },
          "metadata": {
            "tags": []
          },
          "execution_count": 16
        }
      ]
    },
    {
      "metadata": {
        "id": "za2rHcPHGXlE",
        "colab_type": "code",
        "outputId": "8364cfee-c0af-4f9f-bc1f-7f0a3d5de588",
        "colab": {
          "base_uri": "https://localhost:8080/",
          "height": 34
        }
      },
      "cell_type": "code",
      "source": [
        "# Adding elements at the end\n",
        "warm_colour.append('yellow')\n",
        "print(warm_colour)"
      ],
      "execution_count": 17,
      "outputs": [
        {
          "output_type": "stream",
          "text": [
            "['red', 'orange', 'yellow']\n"
          ],
          "name": "stdout"
        }
      ]
    },
    {
      "metadata": {
        "id": "3CuQ42XRGYg0",
        "colab_type": "code",
        "outputId": "c0bcdd7d-5d07-4632-de66-516d24136bdd",
        "colab": {
          "base_uri": "https://localhost:8080/",
          "height": 34
        }
      },
      "cell_type": "code",
      "source": [
        "# Removing elements\n",
        "# pop without arguments removes the last element\n",
        "warm_colour.pop(1)\n",
        "print(warm_colour)"
      ],
      "execution_count": 18,
      "outputs": [
        {
          "output_type": "stream",
          "text": [
            "['red', 'yellow']\n"
          ],
          "name": "stdout"
        }
      ]
    },
    {
      "metadata": {
        "id": "alI6HUtyGZys",
        "colab_type": "code",
        "outputId": "1b9e79c8-0f7c-473f-8cef-c76978f195d7",
        "colab": {
          "base_uri": "https://localhost:8080/",
          "height": 34
        }
      },
      "cell_type": "code",
      "source": [
        "# Concatenating\n",
        "cool_colours = ['blue', 'green']\n",
        "colours = cool_colours + warm_colour\n",
        "print(colours)"
      ],
      "execution_count": 19,
      "outputs": [
        {
          "output_type": "stream",
          "text": [
            "['blue', 'green', 'red', 'yellow']\n"
          ],
          "name": "stdout"
        }
      ]
    },
    {
      "metadata": {
        "id": "-BkMpOL5Gawt",
        "colab_type": "code",
        "outputId": "78222c48-cc2e-45dc-a849-d2a5c056a5eb",
        "colab": {
          "base_uri": "https://localhost:8080/",
          "height": 34
        }
      },
      "cell_type": "code",
      "source": [
        "# Concatenating with extend method\n",
        "new_warm_colour = ['orange', 'purple']\n",
        "warm_colour.extend(new_warm_colour)\n",
        "print(warm_colour)"
      ],
      "execution_count": 20,
      "outputs": [
        {
          "output_type": "stream",
          "text": [
            "['red', 'yellow', 'orange', 'purple']\n"
          ],
          "name": "stdout"
        }
      ]
    },
    {
      "metadata": {
        "id": "oldPj_pnGb39",
        "colab_type": "code",
        "outputId": "ef047a87-7cc9-4347-8f09-aa0e3962f6ea",
        "colab": {
          "base_uri": "https://localhost:8080/",
          "height": 34
        }
      },
      "cell_type": "code",
      "source": [
        "# Slicing\n",
        "warm_colour[1:3]"
      ],
      "execution_count": 21,
      "outputs": [
        {
          "output_type": "execute_result",
          "data": {
            "text/plain": [
              "['yellow', 'orange']"
            ]
          },
          "metadata": {
            "tags": []
          },
          "execution_count": 21
        }
      ]
    },
    {
      "metadata": {
        "id": "YbPhM3vCGc2l",
        "colab_type": "code",
        "outputId": "90b44cd4-e9cc-482e-c487-036a43129a10",
        "colab": {
          "base_uri": "https://localhost:8080/",
          "height": 34
        }
      },
      "cell_type": "code",
      "source": [
        "# Negative index is used to index starting from the last element \n",
        "warm_colour[1:-1]"
      ],
      "execution_count": 22,
      "outputs": [
        {
          "output_type": "execute_result",
          "data": {
            "text/plain": [
              "['yellow', 'orange']"
            ]
          },
          "metadata": {
            "tags": []
          },
          "execution_count": 22
        }
      ]
    },
    {
      "metadata": {
        "id": "pNHGvn9-GeUl",
        "colab_type": "text"
      },
      "cell_type": "markdown",
      "source": [
        "**Dictionary examples**"
      ]
    },
    {
      "metadata": {
        "id": "fjERyjtQGikf",
        "colab_type": "code",
        "outputId": "963acd3c-0def-4546-95a6-1221c6222ce4",
        "colab": {
          "base_uri": "https://localhost:8080/",
          "height": 34
        }
      },
      "cell_type": "code",
      "source": [
        "# Declaration\n",
        "population = {'UK': 66740000, 'Italy': 59290000, 'France': 65230000}\n",
        "print(population)"
      ],
      "execution_count": 23,
      "outputs": [
        {
          "output_type": "stream",
          "text": [
            "{'Italy': 59290000, 'UK': 66740000, 'France': 65230000}\n"
          ],
          "name": "stdout"
        }
      ]
    },
    {
      "metadata": {
        "id": "DKbHg8fXGjYs",
        "colab_type": "code",
        "outputId": "f299bf51-844d-4c5a-dd74-dc4e5b56a1da",
        "colab": {
          "base_uri": "https://localhost:8080/",
          "height": 34
        }
      },
      "cell_type": "code",
      "source": [
        "# Access\n",
        "population['France']"
      ],
      "execution_count": 24,
      "outputs": [
        {
          "output_type": "execute_result",
          "data": {
            "text/plain": [
              "65230000"
            ]
          },
          "metadata": {
            "tags": []
          },
          "execution_count": 24
        }
      ]
    },
    {
      "metadata": {
        "id": "A3QglIhQGkx1",
        "colab_type": "code",
        "outputId": "04ad051d-c9db-43be-ac01-043d99e1c464",
        "colab": {
          "base_uri": "https://localhost:8080/",
          "height": 51
        }
      },
      "cell_type": "code",
      "source": [
        "# Removing with pop\n",
        "elem = population.pop('Italy')\n",
        "print(elem)\n",
        "print(population)"
      ],
      "execution_count": 25,
      "outputs": [
        {
          "output_type": "stream",
          "text": [
            "59290000\n",
            "{'UK': 66740000, 'France': 65230000}\n"
          ],
          "name": "stdout"
        }
      ]
    },
    {
      "metadata": {
        "id": "aQ4lhs1_Gl3c",
        "colab_type": "code",
        "outputId": "6df32a8e-fcaf-42b5-d19f-144124e7fee9",
        "colab": {
          "base_uri": "https://localhost:8080/",
          "height": 34
        }
      },
      "cell_type": "code",
      "source": [
        "# Merge two dictionaries\n",
        "population_other_countries = {'China': 1386000000, 'Spain': 46570000}\n",
        "population.update(population_other_countries)\n",
        "print(population)"
      ],
      "execution_count": 26,
      "outputs": [
        {
          "output_type": "stream",
          "text": [
            "{'China': 1386000000, 'Spain': 46570000, 'UK': 66740000, 'France': 65230000}\n"
          ],
          "name": "stdout"
        }
      ]
    },
    {
      "metadata": {
        "id": "e2hFufbvgHBV",
        "colab_type": "text"
      },
      "cell_type": "markdown",
      "source": [
        "## Classes\n",
        "[Official Documentation](https://docs.python.org/2/tutorial/classes.html)\n",
        "\n",
        "A class is a collection of data and functions (called methods of the class). To define a class, you need to use the `class` keyword."
      ]
    },
    {
      "metadata": {
        "id": "-k6-9rHqlz8p",
        "colab_type": "code",
        "outputId": "42d517e3-43b3-46c4-af20-ed0c7a6ce9d7",
        "colab": {
          "base_uri": "https://localhost:8080/",
          "height": 51
        }
      },
      "cell_type": "code",
      "source": [
        "class CoordinatesClass:\n",
        "  def __init__(self, x=10, y=2):\n",
        "    self.x = x\n",
        "    self.y = y\n",
        "   \n",
        "  def printVar(self):\n",
        "    # Here is a guide to format strings! https://pyformat.info/\n",
        "    print(\"Coordinates: ({}, {})\".format(self.x, self.y))\n",
        "    \n",
        "coor = CoordinatesClass(19, 23.3)\n",
        "print(coor.x)\n",
        "coor.printVar()"
      ],
      "execution_count": 27,
      "outputs": [
        {
          "output_type": "stream",
          "text": [
            "19\n",
            "Coordinates: (19, 23.3)\n"
          ],
          "name": "stdout"
        }
      ]
    },
    {
      "metadata": {
        "id": "GhDBmB7AmJ2Q",
        "colab_type": "text"
      },
      "cell_type": "markdown",
      "source": [
        "The `__init__` method will be called when the object is initialized. The `self` variable in the class refers to the current instance of the object, used to access its variables and methods. It is [explained better here](https://pythontips.com/2013/08/07/the-self-variable-in-python-explained/).  The object will save the variables x and y, which can be accessed using `coor.x` or `coor.y`. We also can use the defined method `printVar` using the same format, `coor.printVar()`"
      ]
    },
    {
      "metadata": {
        "id": "mz1FDbYnfdzC",
        "colab_type": "text"
      },
      "cell_type": "markdown",
      "source": [
        "## Modules\n",
        "\n",
        "[Official Documentation](https://docs.python.org/2.7/tutorial/modules.html)\n",
        "\n",
        "If you want to build longer programs, it will be necessary for easier maintenance to define functions, or classes in different files. The file with the different Python definitions is what is called a module. Additionally, a collection of modules is called a package.\n",
        "\n",
        "There are several packages that are used frequently in for scientific computation in Python, such as Numpy, as we will see in the second part of this tutorial.\n",
        "\n",
        "To use the modules or packages in your current Python script, you need to use ```import```. For example, if we want to import the math package, we use:"
      ]
    },
    {
      "metadata": {
        "id": "EYjzx8tKgGYx",
        "colab_type": "code",
        "colab": {}
      },
      "cell_type": "code",
      "source": [
        "import math"
      ],
      "execution_count": 0,
      "outputs": []
    },
    {
      "metadata": {
        "id": "7JVXXKTujNZR",
        "colab_type": "text"
      },
      "cell_type": "markdown",
      "source": [
        "Now we have access to the numpy definitions by calling ```math.definition```, for example:"
      ]
    },
    {
      "metadata": {
        "id": "B2Mh7hdrjfs9",
        "colab_type": "code",
        "outputId": "4cfcd77e-29bc-444a-9a55-edb6ee683aa9",
        "colab": {
          "base_uri": "https://localhost:8080/",
          "height": 34
        }
      },
      "cell_type": "code",
      "source": [
        "# This function returns the smallest integer not less than x\n",
        "math.ceil(3.7)"
      ],
      "execution_count": 29,
      "outputs": [
        {
          "output_type": "execute_result",
          "data": {
            "text/plain": [
              "4.0"
            ]
          },
          "metadata": {
            "tags": []
          },
          "execution_count": 29
        }
      ]
    },
    {
      "metadata": {
        "id": "xmah3sygjtRh",
        "colab_type": "text"
      },
      "cell_type": "markdown",
      "source": [
        "We may want to import the package using another name, then we use `as`:"
      ]
    },
    {
      "metadata": {
        "id": "YD-HXtaWj0pz",
        "colab_type": "code",
        "outputId": "71b1e708-6d9c-48f6-f4da-98eeede0a7b8",
        "colab": {
          "base_uri": "https://localhost:8080/",
          "height": 34
        }
      },
      "cell_type": "code",
      "source": [
        "import math as m\n",
        "m.ceil(3.7)"
      ],
      "execution_count": 30,
      "outputs": [
        {
          "output_type": "execute_result",
          "data": {
            "text/plain": [
              "4.0"
            ]
          },
          "metadata": {
            "tags": []
          },
          "execution_count": 30
        }
      ]
    },
    {
      "metadata": {
        "id": "c4LRTQ-6j_uo",
        "colab_type": "text"
      },
      "cell_type": "markdown",
      "source": [
        "You can also import definitions from the package to your local symbol table (i.e. without needing to use the `package.definition` format to call it) using `from`: "
      ]
    },
    {
      "metadata": {
        "id": "Y9XgjVYWj_P_",
        "colab_type": "code",
        "outputId": "4228bada-b49f-407f-9c79-3e5737a8dc62",
        "colab": {
          "base_uri": "https://localhost:8080/",
          "height": 34
        }
      },
      "cell_type": "code",
      "source": [
        "from math import ceil\n",
        "ceil(3.7)"
      ],
      "execution_count": 31,
      "outputs": [
        {
          "output_type": "execute_result",
          "data": {
            "text/plain": [
              "4.0"
            ]
          },
          "metadata": {
            "tags": []
          },
          "execution_count": 31
        }
      ]
    },
    {
      "metadata": {
        "id": "zqcBpErvkc81",
        "colab_type": "code",
        "outputId": "ec40ca73-b93d-4dcf-82c4-c50041e18a4a",
        "colab": {
          "base_uri": "https://localhost:8080/",
          "height": 34
        }
      },
      "cell_type": "code",
      "source": [
        "# You can also combine from and as\n",
        "from math import ceil as c\n",
        "c(5.7)"
      ],
      "execution_count": 32,
      "outputs": [
        {
          "output_type": "execute_result",
          "data": {
            "text/plain": [
              "6.0"
            ]
          },
          "metadata": {
            "tags": []
          },
          "execution_count": 32
        }
      ]
    }
  ]
}